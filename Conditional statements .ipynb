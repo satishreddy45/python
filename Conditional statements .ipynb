{
 "cells": [
  {
   "cell_type": "code",
   "execution_count": 42,
   "id": "0f92577a-fc12-42af-a138-c9257ac58ba0",
   "metadata": {},
   "outputs": [
    {
     "name": "stdout",
     "output_type": "stream",
     "text": [
      "i is between 15 and 20\n"
     ]
    }
   ],
   "source": [
    "i=16\n",
    "if i<15:\n",
    "    print(\"i is smaller than 15\")\n",
    "else:\n",
    "    if i>20:\n",
    "        print(\"i is also grater than 20\")\n",
    "    else:\n",
    "        print(\"i is between 15 and 20\")"
   ]
  },
  {
   "cell_type": "code",
   "execution_count": 43,
   "id": "1e57825b-78f3-405b-b057-bba5bf5763fb",
   "metadata": {},
   "outputs": [
    {
     "name": "stdout",
     "output_type": "stream",
     "text": [
      "i is also grater than 20\n"
     ]
    }
   ],
   "source": [
    "i=21\n",
    "if i<20:\n",
    "    print(\"i is smaller than 15\")\n",
    "else:\n",
    "    if i>20:\n",
    "        print(\"i is also grater than 20\")\n",
    "    else:\n",
    "        print(\"i is between 15 and 20\")"
   ]
  },
  {
   "cell_type": "code",
   "execution_count": 50,
   "id": "811459ba-566f-40ca-a974-6a1c30332be4",
   "metadata": {},
   "outputs": [
    {
     "name": "stdin",
     "output_type": "stream",
     "text": [
      "Enter the marks:  35\n"
     ]
    },
    {
     "name": "stdout",
     "output_type": "stream",
     "text": [
      "FAIL\n"
     ]
    }
   ],
   "source": [
    "m = int(input(\"Enter the marks: \"))\n",
    "\n",
    "if m >= 60:\n",
    "    print(\"First DIVISION\")\n",
    "elif 50 <= m < 60:\n",
    "    print(\"Second DIVISION\")\n",
    "elif 40 <= m < 50:\n",
    "    print(\"Third DIVISION\")\n",
    "else:\n",
    "    print(\"FAIL\")"
   ]
  },
  {
   "cell_type": "code",
   "execution_count": 4,
   "id": "cc3cc123-cfb1-4a54-86ef-21f1c372109e",
   "metadata": {},
   "outputs": [
    {
     "name": "stdout",
     "output_type": "stream",
     "text": [
      "The total number of 'e' in the sentence is: 35\n"
     ]
    }
   ],
   "source": [
    "x=\"Peter Piper picked a peck of pickled peppers.A peck of pickled peppers peter piper picked.if peter piper picked a peck of pickled peppers,Where's the peck of pickled peppers peter piper picked?\"\n",
    "count = x.count('e')\n",
    "print(\"The total number of 'e' in the sentence is:\",count)"
   ]
  },
  {
   "cell_type": "code",
   "execution_count": 10,
   "id": "b9926f0b-a3fe-4788-837d-dcc272fa5846",
   "metadata": {},
   "outputs": [
    {
     "name": "stdin",
     "output_type": "stream",
     "text": [
      "Enter the marks:  64\n"
     ]
    },
    {
     "name": "stdout",
     "output_type": "stream",
     "text": [
      "First DIVISION\n"
     ]
    }
   ],
   "source": [
    "m = int(input(\"Enter the marks: \"))\n",
    "\n",
    "if m >= 60:\n",
    "    print(\"First DIVISION\")\n",
    "elif 50 <= m < 60:\n",
    "    print(\"Second DIVISION\")\n",
    "elif 40 <= m < 50:\n",
    "    print(\"Third DIVISION\")\n",
    "else:\n",
    "    print(\"FAIL\")"
   ]
  },
  {
   "cell_type": "code",
   "execution_count": 16,
   "id": "1f940b8a-f391-4aa2-aab9-ce75dcfa369c",
   "metadata": {},
   "outputs": [
    {
     "name": "stdin",
     "output_type": "stream",
     "text": [
      "Enter the n value:  -5\n"
     ]
    },
    {
     "name": "stdout",
     "output_type": "stream",
     "text": [
      "-125 False\n"
     ]
    }
   ],
   "source": [
    "n = int(input(\"Enter the n value: \")) \n",
    "\n",
    "if n > 0:  \n",
    "    print(n*n,True)  \n",
    "else:\n",
    "    print(n*n*n,False)  "
   ]
  },
  {
   "cell_type": "code",
   "execution_count": 17,
   "id": "21a22606-9760-49a0-ac57-34cf93bd4f7b",
   "metadata": {},
   "outputs": [
    {
     "name": "stdin",
     "output_type": "stream",
     "text": [
      "Enter your value:  9\n"
     ]
    },
    {
     "name": "stdout",
     "output_type": "stream",
     "text": [
      "not divisible\n"
     ]
    }
   ],
   "source": [
    "d = int(input(\"Enter your value: \")) \n",
    "\n",
    "if d%2==0 and d%3==0:\n",
    "    print(\"yes, d is divisible by 2 and 3\")\n",
    "else:\n",
    "    print(\"not divisible\")"
   ]
  },
  {
   "cell_type": "code",
   "execution_count": 22,
   "id": "a4e28ff2-b738-4fb2-8554-9bb20a5eacbb",
   "metadata": {},
   "outputs": [
    {
     "name": "stdin",
     "output_type": "stream",
     "text": [
      "Enter your value:  6\n"
     ]
    },
    {
     "name": "stdout",
     "output_type": "stream",
     "text": [
      "yes, d is divisible by 2 and 3\n"
     ]
    }
   ],
   "source": [
    "d = int(input(\"Enter your value: \")) \n",
    "\n",
    "if d%2==0 and d%3==0:\n",
    "    print(\"yes, d is divisible by 2 and 3\")\n",
    "else:\n",
    "    print(\"not divisible\")"
   ]
  },
  {
   "cell_type": "code",
   "execution_count": 31,
   "id": "ba6f08e6-5bce-4b87-9daa-aa33650a5d1c",
   "metadata": {},
   "outputs": [
    {
     "name": "stdin",
     "output_type": "stream",
     "text": [
      "Enter your value:  2024\n"
     ]
    },
    {
     "name": "stdout",
     "output_type": "stream",
     "text": [
      "its a leap year\n"
     ]
    }
   ],
   "source": [
    "n= int(input(\"Enter your value: \")) \n",
    "if(n%4==0 and n%100 !=0)or (n%400==0):\n",
    "    print(\"its a leap year\")\n",
    "else:\n",
    "    print(\"not a leap year\")"
   ]
  },
  {
   "cell_type": "code",
   "execution_count": 32,
   "id": "d5657ea8-71c4-40c4-81df-5256ec604fa9",
   "metadata": {},
   "outputs": [
    {
     "name": "stdin",
     "output_type": "stream",
     "text": [
      "enter the year 2023\n"
     ]
    },
    {
     "name": "stdout",
     "output_type": "stream",
     "text": [
      "not a leap year\n"
     ]
    }
   ],
   "source": [
    "year=int(input(\"enter the year\"))\n",
    "if (year%4==0 and year%100==0 !=0)or (year%400==0):\n",
    "     print(\"its a leap year\")\n",
    "else:\n",
    "    print(\"not a leap year\")"
   ]
  },
  {
   "cell_type": "code",
   "execution_count": 2,
   "id": "74549ccc-de46-4077-8053-4bec03b5c044",
   "metadata": {},
   "outputs": [
    {
     "name": "stdin",
     "output_type": "stream",
     "text": [
      "Enter the n value:  12\n"
     ]
    },
    {
     "name": "stdout",
     "output_type": "stream",
     "text": [
      "33\n"
     ]
    }
   ],
   "source": [
    "n = int(input(\"Enter the n value: \")) \n",
    "\n",
    "if n <= 5:  \n",
    "    print(n * 2)  \n",
    "elif 6<=n<=10 :\n",
    "    print((5 * 2)+(n-5)*3)\n",
    "elif 11<=n<=15:\n",
    "    print((5 * 2)+(5 * 3)+((n-10)*4))\n",
    "else:\n",
    "    print((5 * 2)+(5*3)+(15*4)+((n-15)*5))"
   ]
  },
  {
   "cell_type": "code",
   "execution_count": 8,
   "id": "387a4c22-0503-4586-9764-43960d374ea9",
   "metadata": {},
   "outputs": [
    {
     "name": "stdin",
     "output_type": "stream",
     "text": [
      "enter n value 7\n"
     ]
    },
    {
     "name": "stdout",
     "output_type": "stream",
     "text": [
      "16\n"
     ]
    }
   ],
   "source": [
    "n=int(input(\"enter n value\"))\n",
    "if n<=5:\n",
    "    print(n*2)\n",
    "elif 6<=n<=10:\n",
    "    print((5*2)+((n-5)*3))\n",
    "elif 11<=n<=15:\n",
    "    print((5*2)+(5*3)+((n-10)*4))\n",
    "else:\n",
    "    print((5*2)+(5*3)+(5*4)+((n-15)*5))\n",
    "    "
   ]
  },
  {
   "cell_type": "code",
   "execution_count": 30,
   "id": "ec66b2ac-5cfa-4b65-8fa5-df54ccb49668",
   "metadata": {},
   "outputs": [
    {
     "name": "stdin",
     "output_type": "stream",
     "text": [
      "enter the number 2\n"
     ]
    },
    {
     "name": "stdout",
     "output_type": "stream",
     "text": [
      "Not Weird\n"
     ]
    }
   ],
   "source": [
    "# odd or even\n",
    "n=int(input(\"enter the number\"))\n",
    "if n>0:\n",
    "    if n%2 !=0:\n",
    "        print(\"Weird\")\n",
    "    elif n%2==0 and (n>=2 and n<=5):\n",
    "     print(\"Not Weird\")\n",
    "elif n%2==0 and (n>=6 and n<=20):\n",
    "    print(\"weird\")\n",
    "elif n%2==0 and n>20:\n",
    "    print(\"not weird\")\n",
    "else:\n",
    "    print(\"NA\")"
   ]
  },
  {
   "cell_type": "code",
   "execution_count": 31,
   "id": "7281241c-07e8-4ab8-b273-077100561ca5",
   "metadata": {},
   "outputs": [
    {
     "name": "stdin",
     "output_type": "stream",
     "text": [
      "Enter a number:  791\n"
     ]
    },
    {
     "name": "stdout",
     "output_type": "stream",
     "text": [
      "Trendy\n"
     ]
    }
   ],
   "source": [
    "def is_trendy(num):\n",
    "  if len(str(num)) != 3:\n",
    "    return \"Invalid number\"\n",
    "  return \"Trendy\" if int(str(num)[1]) % 3 == 0 else \"Not Trendy\"\n",
    "\n",
    "num = int(input(\"Enter a number: \"))\n",
    "print(is_trendy(num))"
   ]
  },
  {
   "cell_type": "code",
   "execution_count": 32,
   "id": "71948b2e-3256-47b7-9118-f06ea1ea74c5",
   "metadata": {},
   "outputs": [
    {
     "name": "stdin",
     "output_type": "stream",
     "text": [
      "enter n value 791\n"
     ]
    },
    {
     "name": "stdout",
     "output_type": "stream",
     "text": [
      "trendy\n"
     ]
    }
   ],
   "source": [
    "n=int(input(\"enter n value\"))\n",
    "c=len(str(n))\n",
    "mid=(n%100)// 10\n",
    "if c==3:\n",
    "    if mid%3==0:\n",
    "        print(\"trendy\")\n",
    "    else:\n",
    "        print(\"n is not trendy\")\n",
    "else:\n",
    "    printI(\"in\")\n"
   ]
  },
  {
   "cell_type": "code",
   "execution_count": 34,
   "id": "ecdd3c82-8141-42df-8036-2b436c2d4547",
   "metadata": {},
   "outputs": [
    {
     "name": "stdout",
     "output_type": "stream",
     "text": [
      "The largest number is 100\n"
     ]
    }
   ],
   "source": [
    "\n",
    "n1 = 10\n",
    "n2 = 100\n",
    "n3 = 12\n",
    "if (n1 >= n2) and (n1 >= n3):\n",
    "   largest = n1\n",
    "elif (n2 >= n1) and (n2 >= n3):\n",
    "   largest = n2\n",
    "else:\n",
    "   largest = n3\n",
    "\n",
    "print(\"The largest number is\", largest)\n"
   ]
  },
  {
   "cell_type": "code",
   "execution_count": 45,
   "id": "f516111c-a17c-4e9a-b67e-c4bb932aea31",
   "metadata": {},
   "outputs": [
    {
     "name": "stdout",
     "output_type": "stream",
     "text": [
      "The smallest number is 5\n"
     ]
    }
   ],
   "source": [
    "n1 = 10\n",
    "n2 = 100\n",
    "n3 = 5\n",
    "if (n1 <= n2) and (n1 <= n3):\n",
    "   smallest = n1\n",
    "elif (n2 <= n1) and (n2 <= n3):\n",
    "   smallest = n2\n",
    "else:\n",
    "   smallest = n3\n",
    "\n",
    "print(\"The smallest number is\", smallest)\n"
   ]
  },
  {
   "cell_type": "code",
   "execution_count": 8,
   "id": "87470ab5-11c5-4411-8928-6df1e70a24f9",
   "metadata": {},
   "outputs": [
    {
     "name": "stdin",
     "output_type": "stream",
     "text": [
      " 2\n",
      " 7.5\n"
     ]
    },
    {
     "name": "stdout",
     "output_type": "stream",
     "text": [
      "11.25\n"
     ]
    }
   ],
   "source": [
    "n_items=int(input())\n",
    "single_item_htime=float(input())\n",
    "if n_items==1:\n",
    "    r_time=single_item_htime\n",
    "elif n_items==2:\n",
    "     r_time=single_item_htime*1.5\n",
    "elif n_item==3:\n",
    "     r_time=single_item_htiem*2\n",
    "else:\n",
    "    print(\"number of items is more\")\n",
    "    \n",
    "print(r_time)\n",
    "    \n"
   ]
  },
  {
   "cell_type": "code",
   "execution_count": 11,
   "id": "d5269d72-7388-4b51-8e35-77d3e84dc564",
   "metadata": {},
   "outputs": [
    {
     "name": "stdin",
     "output_type": "stream",
     "text": [
      " 2\n",
      " 5.0\n"
     ]
    },
    {
     "name": "stdout",
     "output_type": "stream",
     "text": [
      "7.5\n"
     ]
    }
   ],
   "source": [
    "n_items=int(input())\n",
    "single_item_htime=float(input())\n",
    "if n_items==1:\n",
    "    r_time=single_item_htime\n",
    "elif n_items==2:\n",
    "     r_time=single_item_htime*1.5\n",
    "elif n_item==3:\n",
    "     r_time=single_item_htiem*2\n",
    "else:\n",
    "    print(\"number of items is more\")\n",
    "    \n",
    "print(r_time)"
   ]
  },
  {
   "cell_type": "code",
   "execution_count": 14,
   "id": "4a3ba4fc-7b5b-4052-9828-2fdd0c59b1c8",
   "metadata": {},
   "outputs": [
    {
     "name": "stdin",
     "output_type": "stream",
     "text": [
      " 5\n",
      " 4.5\n"
     ]
    },
    {
     "name": "stdout",
     "output_type": "stream",
     "text": [
      "number of items is more\n",
      "7.5\n"
     ]
    }
   ],
   "source": [
    "n_items=int(input())\n",
    "single_item_htime=float(input())\n",
    "if n_items==1:\n",
    "    r_time=single_item_htime\n",
    "elif n_items==2:\n",
    "     r_time=single_item_htime*1.5\n",
    "elif n_items==3:\n",
    "     r_time=single_item_htime*2\n",
    "else:\n",
    "    print(\"number of items is more\")\n",
    "    \n",
    "print(r_time)"
   ]
  },
  {
   "cell_type": "code",
   "execution_count": 15,
   "id": "babd0c85-78b3-488e-a56f-5830bc972682",
   "metadata": {},
   "outputs": [
    {
     "name": "stdin",
     "output_type": "stream",
     "text": [
      "Enter Your Age =  16\n",
      "Enter timing =  10.15\n"
     ]
    },
    {
     "name": "stdout",
     "output_type": "stream",
     "text": [
      "Your price is $8.00\n"
     ]
    }
   ],
   "source": [
    "age = int(input(\"Enter Your Age = \"))\n",
    "time = float(input(\"Enter timing = \"))\n",
    "\n",
    "if age > 13:\n",
    "    if time == 10.15 or time == 13.30:\n",
    "        print(\"Your price is $8.00\")\n",
    "    elif time == 18.00 or time == 22.00:\n",
    "        print(\"Your price is $5.00\")\n",
    "elif age <= 13:  \n",
    "    if time == 10.15 or time == 13.30:\n",
    "        print(\"Your price is $4.00\")\n",
    "    elif time == 18.00 or time == 22.00:\n",
    "        print(\"Your price is $2.00\")"
   ]
  },
  {
   "cell_type": "code",
   "execution_count": 22,
   "id": "9c1fee8d-06c2-43bd-afb6-837bfce4236d",
   "metadata": {},
   "outputs": [
    {
     "name": "stdin",
     "output_type": "stream",
     "text": [
      "enter birth year: 1962\n",
      "current year: 2000\n"
     ]
    },
    {
     "name": "stdout",
     "output_type": "stream",
     "text": [
      "age: 38\n"
     ]
    }
   ],
   "source": [
    "a=int(input(\"enter birth year:\"))\n",
    "b=int(input(\"current year:\"))\n",
    "age= b-a\n",
    "print(\"age:\",age)"
   ]
  },
  {
   "cell_type": "code",
   "execution_count": 1,
   "id": "0cdc1b96-b6fa-4bb8-84c3-d1f2b82513e6",
   "metadata": {},
   "outputs": [
    {
     "name": "stdin",
     "output_type": "stream",
     "text": [
      "Enter a number 2\n"
     ]
    },
    {
     "name": "stdout",
     "output_type": "stream",
     "text": [
      "even\n"
     ]
    }
   ],
   "source": [
    "num=int(input(\"Enter a number\"))\n",
    "if(num %2)==0:\n",
    "      print(\"even\")\n",
    "else:\n",
    "      print(\"odd\")"
   ]
  },
  {
   "cell_type": "code",
   "execution_count": 18,
   "id": "759fac85-dea7-4aa5-a371-32f3620b4161",
   "metadata": {},
   "outputs": [
    {
     "name": "stdin",
     "output_type": "stream",
     "text": [
      "Enter an integer:  3\n"
     ]
    },
    {
     "name": "stdout",
     "output_type": "stream",
     "text": [
      "3 is positive and odd.\n"
     ]
    }
   ],
   "source": [
    "#WAP to find user input as integer. use the nested if-else statement to determine and print whether the no is \n",
    "#positive and even\n",
    "#negative and odd\n",
    "\n",
    "num = int(input(\"Enter an integer: \"))\n",
    "if num > 0:\n",
    "    if num % 2 == 0:\n",
    "        print(num, \"is positive and even.\")\n",
    "    else:\n",
    "        print(num, \"is positive and odd.\")\n",
    "else:\n",
    "    if num < 0:\n",
    "        if num % 2 == 0:\n",
    "            print(num, \"is negative and even.\")\n",
    "        else:\n",
    "            print(num, \"is negative and odd.\")\n",
    "    else:\n",
    "        print(num, \"is zero.\")"
   ]
  },
  {
   "cell_type": "code",
   "execution_count": null,
   "id": "27109c7b-c62e-419e-b258-36fc642f962b",
   "metadata": {},
   "outputs": [],
   "source": []
  }
 ],
 "metadata": {
  "kernelspec": {
   "display_name": "Python 3 (ipykernel)",
   "language": "python",
   "name": "python3"
  },
  "language_info": {
   "codemirror_mode": {
    "name": "ipython",
    "version": 3
   },
   "file_extension": ".py",
   "mimetype": "text/x-python",
   "name": "python",
   "nbconvert_exporter": "python",
   "pygments_lexer": "ipython3",
   "version": "3.12.4"
  }
 },
 "nbformat": 4,
 "nbformat_minor": 5
}
