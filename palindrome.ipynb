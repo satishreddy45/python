{
 "cells": [
  {
   "cell_type": "code",
   "execution_count": null,
   "id": "3dc78553-630a-46e8-b1ea-bb7ca12f56d1",
   "metadata": {},
   "outputs": [],
   "source": [
    "text = str(input())\n",
    "rev_text = \"\"\n",
    "for j in text:\n",
    "    rev_text=j+rev_text\n",
    "    print(rev_text)\n",
    "print(\"reversed Text:\", rev_text)\n",
    "\n",
    "if text==rev_text:\n",
    "  print(\"yes, the given string is palindrome\")\n",
    "else:\n",
    "  print(\"no, the given string is not a palindrome\")"
   ]
  },
  {
   "cell_type": "code",
   "execution_count": null,
   "id": "582bff7e-f5dc-48ee-a926-59212746e31f",
   "metadata": {},
   "outputs": [],
   "source": []
  }
 ],
 "metadata": {
  "kernelspec": {
   "display_name": "Python 3 (ipykernel)",
   "language": "python",
   "name": "python3"
  },
  "language_info": {
   "codemirror_mode": {
    "name": "ipython",
    "version": 3
   },
   "file_extension": ".py",
   "mimetype": "text/x-python",
   "name": "python",
   "nbconvert_exporter": "python",
   "pygments_lexer": "ipython3",
   "version": "3.12.4"
  }
 },
 "nbformat": 4,
 "nbformat_minor": 5
}
