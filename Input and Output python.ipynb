{
 "cells": [
  {
   "cell_type": "code",
   "execution_count": null,
   "id": "aa95898e-958e-42e2-8323-1d6b4f32078a",
   "metadata": {},
   "outputs": [],
   "source": [
    "#INPUT using input()"
   ]
  },
  {
   "cell_type": "code",
   "execution_count": 1,
   "id": "debdad3c-3c17-4d42-a08b-1af58c0052ba",
   "metadata": {},
   "outputs": [
    {
     "name": "stdin",
     "output_type": "stream",
     "text": [
      " 21.5\n"
     ]
    }
   ],
   "source": [
    "d=input()"
   ]
  },
  {
   "cell_type": "code",
   "execution_count": 2,
   "id": "91e9cc70-ed2c-4c00-b9da-5eb38728f810",
   "metadata": {},
   "outputs": [
    {
     "name": "stdout",
     "output_type": "stream",
     "text": [
      "<class 'str'>\n"
     ]
    }
   ],
   "source": [
    "print(type(d))"
   ]
  },
  {
   "cell_type": "code",
   "execution_count": 4,
   "id": "c34b2034-2f59-487f-8340-facd08ae3d26",
   "metadata": {},
   "outputs": [
    {
     "name": "stdout",
     "output_type": "stream",
     "text": [
      "nokesh\n"
     ]
    }
   ],
   "source": [
    "print('nokesh')"
   ]
  },
  {
   "cell_type": "code",
   "execution_count": 5,
   "id": "84ff331c-6b17-4714-b0bc-dcd0740216b9",
   "metadata": {},
   "outputs": [
    {
     "name": "stdin",
     "output_type": "stream",
     "text": [
      " 5\n"
     ]
    },
    {
     "name": "stdout",
     "output_type": "stream",
     "text": [
      "a= 5\n"
     ]
    }
   ],
   "source": [
    "a=input()\n",
    "print(\"a=\",a)"
   ]
  },
  {
   "cell_type": "code",
   "execution_count": 6,
   "id": "a5f8ae18-81ab-402c-97aa-73ad6d808cc0",
   "metadata": {},
   "outputs": [
    {
     "name": "stdin",
     "output_type": "stream",
     "text": [
      "enter the number 5\n"
     ]
    }
   ],
   "source": [
    "a=input(\"enter the number\")"
   ]
  },
  {
   "cell_type": "code",
   "execution_count": 10,
   "id": "f2dbab4e-2aa2-4238-9fce-199ce4cb7a20",
   "metadata": {},
   "outputs": [
    {
     "name": "stdin",
     "output_type": "stream",
     "text": [
      " 5\n"
     ]
    },
    {
     "name": "stdout",
     "output_type": "stream",
     "text": [
      "a= 5\n"
     ]
    }
   ],
   "source": [
    "a=input()\n",
    "print(\"a=\",a)"
   ]
  },
  {
   "cell_type": "code",
   "execution_count": 11,
   "id": "f3884f20-87f7-4c14-b6fe-6749453defc2",
   "metadata": {},
   "outputs": [
    {
     "name": "stdin",
     "output_type": "stream",
     "text": [
      " 10\n"
     ]
    },
    {
     "name": "stdout",
     "output_type": "stream",
     "text": [
      "b= 10\n"
     ]
    }
   ],
   "source": [
    "b=input()\n",
    "print(\"b=\",b)"
   ]
  },
  {
   "cell_type": "code",
   "execution_count": 12,
   "id": "e644922c-ba3c-4a16-9c27-face310934c8",
   "metadata": {},
   "outputs": [
    {
     "name": "stdin",
     "output_type": "stream",
     "text": [
      " 5\n"
     ]
    },
    {
     "name": "stdout",
     "output_type": "stream",
     "text": [
      "a= 5\n"
     ]
    },
    {
     "name": "stdin",
     "output_type": "stream",
     "text": [
      " 10\n"
     ]
    },
    {
     "name": "stdout",
     "output_type": "stream",
     "text": [
      "b= 10\n"
     ]
    }
   ],
   "source": [
    "a=input()\n",
    "print(\"a=\",a)\n",
    "b=input()\n",
    "print(\"b=\",b)"
   ]
  },
  {
   "cell_type": "code",
   "execution_count": null,
   "id": "df444eb5-8151-4db3-823b-75349689c2ca",
   "metadata": {},
   "outputs": [],
   "source": [
    "#OUTPUT using print()"
   ]
  },
  {
   "cell_type": "code",
   "execution_count": 13,
   "id": "acf5edd2-667e-4bd1-9327-88d7173e0f21",
   "metadata": {},
   "outputs": [
    {
     "name": "stdout",
     "output_type": "stream",
     "text": [
      "hi  python\n"
     ]
    }
   ],
   "source": [
    "print('hi','python',sep='  ')"
   ]
  },
  {
   "cell_type": "code",
   "execution_count": 14,
   "id": "bd2e4893-985e-445a-8eee-c2b621f428c6",
   "metadata": {},
   "outputs": [
    {
     "name": "stdout",
     "output_type": "stream",
     "text": [
      "A  man  is  walking\n"
     ]
    }
   ],
   "source": [
    "print('A','man','is','walking',sep='  ')"
   ]
  },
  {
   "cell_type": "code",
   "execution_count": 16,
   "id": "cadf103e-9ee3-4ad5-a833-8f551ca98e19",
   "metadata": {},
   "outputs": [
    {
     "name": "stdout",
     "output_type": "stream",
     "text": [
      "hello@"
     ]
    }
   ],
   "source": [
    "print(\"hello\",end='@')"
   ]
  },
  {
   "cell_type": "code",
   "execution_count": 19,
   "id": "fbff41b3-f791-4ab0-b047-dadcf9308ed8",
   "metadata": {},
   "outputs": [
    {
     "name": "stdout",
     "output_type": "stream",
     "text": [
      "hello outputcompleted\n"
     ]
    }
   ],
   "source": [
    "print(\"hello\",end=' ')\n",
    "print(\"outputcompleted\")"
   ]
  },
  {
   "cell_type": "code",
   "execution_count": 20,
   "id": "2e27b400-4761-4226-9920-9cfd5d19de29",
   "metadata": {},
   "outputs": [
    {
     "name": "stdout",
     "output_type": "stream",
     "text": [
      "total students:240\n"
     ]
    }
   ],
   "source": [
    "print(\"total students:%d\"%(240))"
   ]
  },
  {
   "cell_type": "code",
   "execution_count": 21,
   "id": "7dadd5bc-7611-4fcd-91b8-dafdec2665a2",
   "metadata": {},
   "outputs": [
    {
     "name": "stdout",
     "output_type": "stream",
     "text": [
      "Boys:120\n"
     ]
    }
   ],
   "source": [
    "print(\"Boys:%d\"%(120))"
   ]
  },
  {
   "cell_type": "code",
   "execution_count": 22,
   "id": "d75bf4a0-5332-4849-822e-0c91f1d63a35",
   "metadata": {},
   "outputs": [
    {
     "name": "stdout",
     "output_type": "stream",
     "text": [
      "31\n"
     ]
    }
   ],
   "source": [
    "print(\"%o\"%(25))"
   ]
  },
  {
   "cell_type": "code",
   "execution_count": 23,
   "id": "bce82b3b-ea98-4c98-ac99-920908e9a85e",
   "metadata": {},
   "outputs": [
    {
     "name": "stdout",
     "output_type": "stream",
     "text": [
      "total students:240\n",
      "Boys:120\n",
      "31\n"
     ]
    }
   ],
   "source": [
    "print(\"total students:%d\"%(240))\n",
    "print(\"Boys:%d\"%(120))\n",
    "print(\"%o\"%(25))\n"
   ]
  },
  {
   "cell_type": "code",
   "execution_count": null,
   "id": "84b294f6-94de-4246-8437-bb6f3ee71b05",
   "metadata": {},
   "outputs": [],
   "source": []
  }
 ],
 "metadata": {
  "kernelspec": {
   "display_name": "Python 3 (ipykernel)",
   "language": "python",
   "name": "python3"
  },
  "language_info": {
   "codemirror_mode": {
    "name": "ipython",
    "version": 3
   },
   "file_extension": ".py",
   "mimetype": "text/x-python",
   "name": "python",
   "nbconvert_exporter": "python",
   "pygments_lexer": "ipython3",
   "version": "3.12.4"
  }
 },
 "nbformat": 4,
 "nbformat_minor": 5
}
