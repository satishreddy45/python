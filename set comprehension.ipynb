{
 "cells": [
  {
   "cell_type": "code",
   "execution_count": 1,
   "id": "41a35417-a283-43fd-8e4f-0b00ede34870",
   "metadata": {},
   "outputs": [
    {
     "name": "stdout",
     "output_type": "stream",
     "text": [
      "{0, 1, 4, 9, 16}\n"
     ]
    }
   ],
   "source": [
    "#create a set of squares of numbers from 0 to 4\n",
    "s={x**2 for x in range(5)}\n",
    "print(s)"
   ]
  },
  {
   "cell_type": "code",
   "execution_count": 3,
   "id": "8c0b325e-1d22-4eaa-a434-e660ccf6ffd2",
   "metadata": {},
   "outputs": [
    {
     "name": "stdout",
     "output_type": "stream",
     "text": [
      "{1, 4, 9, 16, 25}\n"
     ]
    }
   ],
   "source": [
    "#Creating a new set of squared values\n",
    "numbers=[1,2,3,4,5]\n",
    "squared_numbres={x**2 for x in numbers}\n",
    "print(squared_numbres)"
   ]
  },
  {
   "cell_type": "code",
   "execution_count": 5,
   "id": "1f7e37fa-2e26-44a9-814f-b0b638d8715c",
   "metadata": {},
   "outputs": [
    {
     "name": "stdout",
     "output_type": "stream",
     "text": [
      "{2, 4}\n"
     ]
    }
   ],
   "source": [
    "#create a set of squares, but only for even numbers\n",
    "num=[1,2,3,4,5]\n",
    "even_num={x for x in num if x%2==0}\n",
    "print(even_num)"
   ]
  },
  {
   "cell_type": "code",
   "execution_count": 9,
   "id": "9053ed80-0154-4100-a2e3-cbd9adab96cb",
   "metadata": {},
   "outputs": [
    {
     "name": "stdout",
     "output_type": "stream",
     "text": [
      "{'cherry', 'banana', 'apple'}\n"
     ]
    }
   ],
   "source": [
    "words=['apple','banana','cherry','lyn']\n",
    "vowels={'a','e','i','o','u'}\n",
    "vowel_words={word for word in words if any(letter in vowels for letter in word)}\n",
    "print(vowel_words)"
   ]
  },
  {
   "cell_type": "code",
   "execution_count": 7,
   "id": "b2649271-9f67-46a0-acf9-1494264bf287",
   "metadata": {},
   "outputs": [
    {
     "name": "stdout",
     "output_type": "stream",
     "text": [
      "{1, 4, 36, 9, 16, 25}\n"
     ]
    }
   ],
   "source": [
    "#eliminating duplicates \n",
    "duplicates=[1,2,3,3,4,5,1,6]\n",
    "unique_squares={x**2 for x in duplicates}\n",
    "print(unique_squares)"
   ]
  },
  {
   "cell_type": "code",
   "execution_count": 11,
   "id": "c5d56338-240f-4fe0-b98e-6d7472bac671",
   "metadata": {},
   "outputs": [
    {
     "name": "stdout",
     "output_type": "stream",
     "text": [
      "{'D', 'E', 'H', 'L', 'W', 'O', 'R'}\n"
     ]
    }
   ],
   "source": [
    "text=\"hello woorld\"\n",
    "uppercase_lettes={char.upper()for char in text if char.isalpha()}\n",
    "print(uppercase_lettes)"
   ]
  },
  {
   "cell_type": "code",
   "execution_count": null,
   "id": "ad985e4a-a3f0-46bd-8c2b-dee1239e8b3a",
   "metadata": {},
   "outputs": [],
   "source": []
  }
 ],
 "metadata": {
  "kernelspec": {
   "display_name": "Python 3 (ipykernel)",
   "language": "python",
   "name": "python3"
  },
  "language_info": {
   "codemirror_mode": {
    "name": "ipython",
    "version": 3
   },
   "file_extension": ".py",
   "mimetype": "text/x-python",
   "name": "python",
   "nbconvert_exporter": "python",
   "pygments_lexer": "ipython3",
   "version": "3.12.4"
  }
 },
 "nbformat": 4,
 "nbformat_minor": 5
}
