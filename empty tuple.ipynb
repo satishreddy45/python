{
 "cells": [
  {
   "cell_type": "code",
   "execution_count": 1,
   "id": "88264645-298f-4b4b-a817-0094b821b974",
   "metadata": {},
   "outputs": [
    {
     "data": {
      "text/plain": [
       "tuple"
      ]
     },
     "execution_count": 1,
     "metadata": {},
     "output_type": "execute_result"
    }
   ],
   "source": [
    "value=(\"a\",)\n",
    "type(value)"
   ]
  },
  {
   "cell_type": "code",
   "execution_count": 3,
   "id": "2b18fa02-8f16-4a52-9fc5-6955815f9c84",
   "metadata": {},
   "outputs": [
    {
     "data": {
      "text/plain": [
       "str"
      ]
     },
     "execution_count": 3,
     "metadata": {},
     "output_type": "execute_result"
    }
   ],
   "source": [
    "value=\"b\"\n",
    "type(value)"
   ]
  },
  {
   "cell_type": "code",
   "execution_count": 5,
   "id": "5db5ccfe-eb56-48ac-b2ac-d468d6eb5e5b",
   "metadata": {},
   "outputs": [
    {
     "data": {
      "text/plain": [
       "(26, 45, 'hello', 7.5)"
      ]
     },
     "execution_count": 5,
     "metadata": {},
     "output_type": "execute_result"
    }
   ],
   "source": [
    "value_tuple = (26,45,'hello',7.5)\n",
    "value_tuple"
   ]
  },
  {
   "cell_type": "code",
   "execution_count": 11,
   "id": "e41ecf7e-4f76-41a0-bb5c-c8b980a0c82d",
   "metadata": {},
   "outputs": [
    {
     "data": {
      "text/plain": [
       "(26, 45, 'hello', 7, 5.6, 'python')"
      ]
     },
     "execution_count": 11,
     "metadata": {},
     "output_type": "execute_result"
    }
   ],
   "source": [
    "value1_tuple = (26,45,'hello')\n",
    "value2_tuple = 7, 5.6, \"python\"\n",
    "value_3=value1_tuple + value2_tuple\n",
    "value_3"
   ]
  },
  {
   "cell_type": "code",
   "execution_count": 13,
   "id": "8e56ab29-8e0a-4ae4-8913-7b412ba98834",
   "metadata": {},
   "outputs": [
    {
     "data": {
      "text/plain": [
       "3077955303872"
      ]
     },
     "execution_count": 13,
     "metadata": {},
     "output_type": "execute_result"
    }
   ],
   "source": [
    "id(value1_tuple)"
   ]
  },
  {
   "cell_type": "code",
   "execution_count": 15,
   "id": "4788b369-5aad-47dd-bf8d-d1aae63ee7f6",
   "metadata": {},
   "outputs": [
    {
     "data": {
      "text/plain": [
       "(26, 45, 'hello', 7)"
      ]
     },
     "execution_count": 15,
     "metadata": {},
     "output_type": "execute_result"
    }
   ],
   "source": [
    "value1_tuple=value1_tuple+(7,)\n",
    "value1_tuple"
   ]
  },
  {
   "cell_type": "code",
   "execution_count": 19,
   "id": "ffe9830a-bda6-48c6-89c1-b6e35cc5fe73",
   "metadata": {},
   "outputs": [
    {
     "data": {
      "text/plain": [
       "[26, 45, 'hello']"
      ]
     },
     "execution_count": 19,
     "metadata": {},
     "output_type": "execute_result"
    }
   ],
   "source": [
    "value1_tuple = (26,45,'hello')\n",
    "converted_list=list(value1_tuple)\n",
    "converted_list"
   ]
  },
  {
   "cell_type": "code",
   "execution_count": 23,
   "id": "000702bc-9c91-4896-96ea-f993a7cc1b0e",
   "metadata": {},
   "outputs": [
    {
     "data": {
      "text/plain": [
       "[26, 45, 'hello', 7, 7]"
      ]
     },
     "execution_count": 23,
     "metadata": {},
     "output_type": "execute_result"
    }
   ],
   "source": [
    "converted_list.append(7)\n",
    "converted_list"
   ]
  },
  {
   "cell_type": "code",
   "execution_count": 25,
   "id": "6cdbb617-7c0b-4ba0-9fc8-d1671c41a10a",
   "metadata": {},
   "outputs": [
    {
     "data": {
      "text/plain": [
       "(26, 45, 'hello', 7, 7)"
      ]
     },
     "execution_count": 25,
     "metadata": {},
     "output_type": "execute_result"
    }
   ],
   "source": [
    "value1_tuple=tuple(converted_list)\n",
    "value1_tuple"
   ]
  },
  {
   "cell_type": "code",
   "execution_count": 45,
   "id": "b1afd65a-1003-4695-98a4-4be8ed601fbc",
   "metadata": {},
   "outputs": [
    {
     "name": "stdin",
     "output_type": "stream",
     "text": [
      " 4\n",
      " 12\n",
      " 26\n",
      " 10\n",
      " 6\n"
     ]
    }
   ],
   "source": [
    "value = ()\n",
    "n = int(input())\n",
    "list_1=[]\n",
    "for i in range(n):\n",
    "    list_1.append(int(input()))\n",
    "    value=tuple(list_1)"
   ]
  },
  {
   "cell_type": "code",
   "execution_count": null,
   "id": "82ada1af-c590-4af4-b7f4-a087355096cb",
   "metadata": {},
   "outputs": [],
   "source": []
  }
 ],
 "metadata": {
  "kernelspec": {
   "display_name": "Python 3 (ipykernel)",
   "language": "python",
   "name": "python3"
  },
  "language_info": {
   "codemirror_mode": {
    "name": "ipython",
    "version": 3
   },
   "file_extension": ".py",
   "mimetype": "text/x-python",
   "name": "python",
   "nbconvert_exporter": "python",
   "pygments_lexer": "ipython3",
   "version": "3.12.4"
  }
 },
 "nbformat": 4,
 "nbformat_minor": 5
}
