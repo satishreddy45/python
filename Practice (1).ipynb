{
 "cells": [
  {
   "cell_type": "code",
   "execution_count": 1,
   "id": "5ccebab0-3ff6-4191-87ea-4be4dd40a3f6",
   "metadata": {},
   "outputs": [
    {
     "name": "stdin",
     "output_type": "stream",
     "text": [
      "Enter a number 8\n"
     ]
    },
    {
     "name": "stdout",
     "output_type": "stream",
     "text": [
      "8\n"
     ]
    }
   ],
   "source": [
    "x = input(\"Enter a number\")\n",
    "print(x)"
   ]
  },
  {
   "cell_type": "code",
   "execution_count": 2,
   "id": "dfb57ff4-589b-4204-a670-bdb0a6a55874",
   "metadata": {},
   "outputs": [
    {
     "name": "stdin",
     "output_type": "stream",
     "text": [
      "Enter a number 8\n"
     ]
    },
    {
     "name": "stdout",
     "output_type": "stream",
     "text": [
      "200.96\n"
     ]
    }
   ],
   "source": [
    "x = int(input(\"Enter a number\"))\n",
    "pi = 3.14\n",
    "\n",
    "arc = pi * x ** 2\n",
    "print(arc)"
   ]
  },
  {
   "cell_type": "code",
   "execution_count": 3,
   "id": "a66b1031-8e26-4394-9e41-2129a922ac1a",
   "metadata": {},
   "outputs": [
    {
     "name": "stdout",
     "output_type": "stream",
     "text": [
      "Either of the number is greater than 0\n",
      "No number is greater than 0\n"
     ]
    }
   ],
   "source": [
    "a = 10\n",
    "b = -10\n",
    "c = 0\n",
    "if a > 0 or b > 0:\n",
    "    print(\"Either of the number is greater than 0\")\n",
    "else:\n",
    "    print(\"No number is greater than 0\")\n",
    "if b > 0 or c > 0:\n",
    "    print(\"Either of the number is greater than 0\")\n",
    "else:\n",
    "    print(\"No number is greater than 0\")"
   ]
  },
  {
   "cell_type": "code",
   "execution_count": 4,
   "id": "7dae4d1c-1dab-4fde-ae7e-79929e6ad2d1",
   "metadata": {},
   "outputs": [
    {
     "name": "stdout",
     "output_type": "stream",
     "text": [
      "llew si llA\n"
     ]
    }
   ],
   "source": [
    "x = \"All is well\"\n",
    "# y = x[::-1]\n",
    "# y\n",
    "rev = \"\" \n",
    "for i in x:\n",
    "    rev = i + rev\n",
    "\n",
    "print(rev)"
   ]
  },
  {
   "cell_type": "code",
   "execution_count": 5,
   "id": "3bd74ce7-f8bc-4430-81d5-1be87afa0e53",
   "metadata": {},
   "outputs": [
    {
     "name": "stdin",
     "output_type": "stream",
     "text": [
      "Enter your Fvt color red\n",
      "Enter a decimal number 7.8\n"
     ]
    },
    {
     "name": "stdout",
     "output_type": "stream",
     "text": [
      "Your fvt Color red and your sqr of number 49\n"
     ]
    }
   ],
   "source": [
    "x = input(\"Enter your Fvt color\")\n",
    "y = float(input(\"Enter a decimal number\"))\n",
    "\n",
    "z = int(y)\n",
    "\n",
    "print(f\"Your fvt Color {x} and your sqr of number {z ** 2}\")"
   ]
  },
  {
   "cell_type": "code",
   "execution_count": 6,
   "id": "93612489-5030-4b6c-ae20-ebe15dc89d17",
   "metadata": {},
   "outputs": [
    {
     "name": "stdout",
     "output_type": "stream",
     "text": [
      "20\n",
      "10\n"
     ]
    }
   ],
   "source": [
    "x = 10\n",
    "y = 20\n",
    "\n",
    "x,y = y,x\n",
    "print(x)\n",
    "print(y)"
   ]
  },
  {
   "cell_type": "code",
   "execution_count": 7,
   "id": "f7315c08-dcf7-4881-bbe1-8f8958e0c8b5",
   "metadata": {},
   "outputs": [
    {
     "name": "stdout",
     "output_type": "stream",
     "text": [
      "20\n",
      "10\n"
     ]
    }
   ],
   "source": [
    "x = 10\n",
    "y = 20\n",
    "z = 0\n",
    "\n",
    "z = x\n",
    "x = y\n",
    "y = z\n",
    "print(x)\n",
    "print(y)"
   ]
  },
  {
   "cell_type": "code",
   "execution_count": 8,
   "id": "6e842977-c5f3-41f7-9802-883bdaebdd03",
   "metadata": {},
   "outputs": [
    {
     "name": "stdin",
     "output_type": "stream",
     "text": [
      "Enter a number 8\n",
      "Enter a number 9\n"
     ]
    },
    {
     "name": "stdout",
     "output_type": "stream",
     "text": [
      "9 is greatest\n"
     ]
    }
   ],
   "source": [
    "x = int(input(\"Enter a number\"))\n",
    "y = int(input(\"Enter a number\"))\n",
    "\n",
    "if x > y:\n",
    "    print(f\"{x} is greatest\")\n",
    "else:\n",
    "    print(f\"{y} is greatest\")"
   ]
  },
  {
   "cell_type": "code",
   "execution_count": 9,
   "id": "d564d4c5-207e-4282-afb6-9f285e23deb6",
   "metadata": {},
   "outputs": [
    {
     "name": "stdin",
     "output_type": "stream",
     "text": [
      "Enter a number 8\n",
      "Enter a number 9\n",
      "Enter a number 0\n"
     ]
    },
    {
     "name": "stdout",
     "output_type": "stream",
     "text": [
      "9 is greatest\n"
     ]
    }
   ],
   "source": [
    "x = int(input(\"Enter a number\"))\n",
    "y = int(input(\"Enter a number\"))\n",
    "z = int(input(\"Enter a number\"))\n",
    "\n",
    "if x > y and x > z:\n",
    "    print(f\"{x} is greatest\")\n",
    "elif y > x and y > z:\n",
    "    print(f\"{y} is greatest\")\n",
    "else:\n",
    "    print(f\"{z} is greatest\")"
   ]
  },
  {
   "cell_type": "code",
   "execution_count": 13,
   "id": "dcf6ac60-8e0f-40ac-a4bd-ffdd58440ad7",
   "metadata": {},
   "outputs": [
    {
     "name": "stdin",
     "output_type": "stream",
     "text": [
      "Enter a number 10\n",
      "Enter a number 4\n",
      "Enter a number 15\n"
     ]
    },
    {
     "name": "stdout",
     "output_type": "stream",
     "text": [
      "10\n"
     ]
    }
   ],
   "source": [
    "x = int(input(\"Enter a number\"))\n",
    "y = int(input(\"Enter a number\"))\n",
    "z = int(input(\"Enter a number\"))\n",
    "\n",
    "second_gr = 0\n",
    "if (x > y or x > z) and (x < y or x < z):\n",
    "    second_gr = x\n",
    "elif (y > z or y > x) and (y < z or y < x):\n",
    "    second_gr = y\n",
    "else:\n",
    "    second_gr = z\n",
    "\n",
    "print(second_gr)"
   ]
  },
  {
   "cell_type": "code",
   "execution_count": 20,
   "id": "1e84ca90-9f1b-4ee2-b3ff-2dc4e940deff",
   "metadata": {},
   "outputs": [
    {
     "name": "stdin",
     "output_type": "stream",
     "text": [
      "Enter a number 456\n"
     ]
    },
    {
     "name": "stdout",
     "output_type": "stream",
     "text": [
      "654 <class 'int'>\n"
     ]
    }
   ],
   "source": [
    "x = int(input(\"Enter a number\"))\n",
    "y = str(x)\n",
    "rev = \"\"\n",
    "\n",
    "for i in y:\n",
    "    rev = i + rev\n",
    "\n",
    "rev = int(rev)\n",
    "print(rev, type(rev))"
   ]
  },
  {
   "cell_type": "code",
   "execution_count": 26,
   "id": "f16b9867-4e5e-47f6-a74a-2a181252540e",
   "metadata": {},
   "outputs": [
    {
     "name": "stdin",
     "output_type": "stream",
     "text": [
      "Enter a number:  1\n",
      "Enter a number:  2\n",
      "Enter a number:  3\n",
      "Enter a number:  4\n"
     ]
    },
    {
     "name": "stdout",
     "output_type": "stream",
     "text": [
      "1 is the smallest\n"
     ]
    }
   ],
   "source": [
    "a = int(input(\"Enter a number: \"))\n",
    "b = int(input(\"Enter a number: \"))\n",
    "c = int(input(\"Enter a number: \"))\n",
    "d = int(input(\"Enter a number: \"))\n",
    "\n",
    "if a < b and a < c and a < d:\n",
    "    print(f\"{a} is the smallest\")\n",
    "elif b < a and b < c and b < d:\n",
    "    print(f\"{b} is the smallest\")\n",
    "elif c < a and c < b and c < d:\n",
    "    print(f\"{c} is the smallest\")\n",
    "else:\n",
    "    print(f\"{d} is the smallest\")"
   ]
  },
  {
   "cell_type": "code",
   "execution_count": 28,
   "id": "7ad4815e-6e00-4a4e-931f-695c82ffa57e",
   "metadata": {},
   "outputs": [
    {
     "name": "stdin",
     "output_type": "stream",
     "text": [
      "Enter a number -20\n"
     ]
    },
    {
     "name": "stdout",
     "output_type": "stream",
     "text": [
      "number is negative\n"
     ]
    }
   ],
   "source": [
    "x = int(input(\"Enter a number\"))\n",
    "\n",
    "if x > 0:\n",
    "    print(\"number is positive\")\n",
    "else:\n",
    "    print(\"number is negative\")\n"
   ]
  },
  {
   "cell_type": "code",
   "execution_count": 30,
   "id": "dbd49178-93c0-4a93-8500-43e173bb40b8",
   "metadata": {},
   "outputs": [
    {
     "name": "stdin",
     "output_type": "stream",
     "text": [
      "enter a charac b\n"
     ]
    },
    {
     "name": "stdout",
     "output_type": "stream",
     "text": [
      "const\n"
     ]
    }
   ],
   "source": [
    "x = input(\"enter a charac\").lower()\n",
    "\n",
    "vov = ['a','e','i','o','u']\n",
    "\n",
    "if x in vov:\n",
    "    print(\"vowel\")\n",
    "else:\n",
    "    print(\"const\")"
   ]
  },
  {
   "cell_type": "code",
   "execution_count": 79,
   "id": "2e6dfc5c-b0e5-44b7-8c96-f45d9ccc2db4",
   "metadata": {},
   "outputs": [
    {
     "name": "stdin",
     "output_type": "stream",
     "text": [
      "Enter a number 4\n",
      "Enter a number 10\n"
     ]
    },
    {
     "name": "stdout",
     "output_type": "stream",
     "text": [
      "4\n",
      "5\n",
      "6\n",
      "7\n",
      "8\n",
      "9\n",
      "10\n"
     ]
    }
   ],
   "source": [
    "a = int(input(\"Enter a number\"))\n",
    "b = int(input(\"Enter a number\"))\n",
    "\n",
    "while a >= b:\n",
    "    pass\n",
    "else:\n",
    "    for i in range(a, b+1):\n",
    "        print(i)"
   ]
  },
  {
   "cell_type": "code",
   "execution_count": 40,
   "id": "9ccd77cf-7f98-4f07-af77-168ac841a2e9",
   "metadata": {},
   "outputs": [
    {
     "name": "stdin",
     "output_type": "stream",
     "text": [
      "Enter a number:  3546457879\n"
     ]
    },
    {
     "name": "stdout",
     "output_type": "stream",
     "text": [
      "10\n"
     ]
    }
   ],
   "source": [
    "num = int(input(\"Enter a number: \"))\n",
    "\n",
    "num_digits = len(str(abs(num)))\n",
    "\n",
    "print(num_digits)"
   ]
  },
  {
   "cell_type": "code",
   "execution_count": 47,
   "id": "50baa681-d139-4a7d-967d-290a01ae4bef",
   "metadata": {},
   "outputs": [
    {
     "name": "stdin",
     "output_type": "stream",
     "text": [
      "Enter a number:  3\n"
     ]
    },
    {
     "name": "stdout",
     "output_type": "stream",
     "text": [
      "The number is positive and odd\n"
     ]
    }
   ],
   "source": [
    "x = int(input(\"Enter a number: \"))\n",
    "\n",
    "if x == 0:\n",
    "    print(\"The number is zero\")\n",
    "elif x > 0:\n",
    "    if x % 2 == 0:\n",
    "        print(\"The number is positive and even\")\n",
    "    else:\n",
    "        print(\"The number is positive and odd\")\n",
    "else:\n",
    "    print(\"The number is negative\")"
   ]
  },
  {
   "cell_type": "code",
   "execution_count": 50,
   "id": "08ade268-0562-4d81-8801-63981d64578d",
   "metadata": {},
   "outputs": [
    {
     "name": "stdin",
     "output_type": "stream",
     "text": [
      "Enter the starting number:  5\n",
      "Enter the ending number:  10\n"
     ]
    },
    {
     "name": "stdout",
     "output_type": "stream",
     "text": [
      "45\n"
     ]
    }
   ],
   "source": [
    "n = int(input(\"Enter the starting number: \"))\n",
    "m = int(input(\"Enter the ending number: \"))\n",
    "\n",
    "p = 0\n",
    "\n",
    "while n <= m:\n",
    "    p = n + p  \n",
    "    n += 1   \n",
    "\n",
    "print(p)"
   ]
  },
  {
   "cell_type": "code",
   "execution_count": 53,
   "id": "91ca5719-52d6-485d-8ad3-b39e96e3bfac",
   "metadata": {},
   "outputs": [
    {
     "name": "stdin",
     "output_type": "stream",
     "text": [
      "enter a string AKBAR\n",
      "enter a string akbar\n"
     ]
    },
    {
     "name": "stdout",
     "output_type": "stream",
     "text": [
      "same\n"
     ]
    }
   ],
   "source": [
    "x = input(\"enter a string\").lower()\n",
    "y = input(\"enter a string\").lower()\n",
    "\n",
    "if x == y:\n",
    "    print(\"same\")\n",
    "else:\n",
    "    print(\"not same\")\n"
   ]
  },
  {
   "cell_type": "code",
   "execution_count": 56,
   "id": "f24fea55-013f-48f6-a92e-0f0c40463313",
   "metadata": {},
   "outputs": [
    {
     "name": "stdin",
     "output_type": "stream",
     "text": [
      "Enter the starting number:  55\n"
     ]
    },
    {
     "name": "stdout",
     "output_type": "stream",
     "text": [
      "No\n"
     ]
    }
   ],
   "source": [
    "a = int(input(\"Enter the starting number: \"))\n",
    "\n",
    "if a % 7 == 0:\n",
    "    print(\"yes\")\n",
    "else:\n",
    "    print(\"No\")"
   ]
  },
  {
   "cell_type": "code",
   "execution_count": 57,
   "id": "c8505bcc-67bf-4ac3-a0dd-d76c6a6d8c01",
   "metadata": {},
   "outputs": [
    {
     "name": "stdout",
     "output_type": "stream",
     "text": [
      "1\n",
      "2\n",
      "3\n",
      "4\n",
      "5\n",
      "6\n",
      "7\n",
      "8\n",
      "9\n",
      "10\n"
     ]
    }
   ],
   "source": [
    "for i in range(1,11):\n",
    "    print(i)"
   ]
  },
  {
   "cell_type": "code",
   "execution_count": 64,
   "id": "98607b6c-3236-40a5-a500-b545349ee10e",
   "metadata": {},
   "outputs": [
    {
     "name": "stdin",
     "output_type": "stream",
     "text": [
      "Enter a number 1\n",
      "Enter a number 6\n",
      "Enter a number 3\n"
     ]
    },
    {
     "name": "stdout",
     "output_type": "stream",
     "text": [
      "No\n"
     ]
    }
   ],
   "source": [
    "L = int(input(\"Enter a number\"))\n",
    "N = int(input(\"Enter a number\"))\n",
    "R = int(input(\"Enter a number\")) \n",
    "\n",
    "if (L <= N <= R) or (L >= N >= R):\n",
    "    print(\"Yes\")\n",
    "else:\n",
    "    print(\"No\")"
   ]
  },
  {
   "cell_type": "code",
   "execution_count": 59,
   "id": "d2393e19-bea9-4672-8b12-9cb32c8faf0b",
   "metadata": {},
   "outputs": [
    {
     "name": "stdout",
     "output_type": "stream",
     "text": [
      "42\n"
     ]
    }
   ],
   "source": [
    "x = [1,2,34,5]\n",
    "sum = 0 \n",
    "for i in x:\n",
    "    sum = i + sum\n",
    "\n",
    "print(sum)"
   ]
  },
  {
   "cell_type": "code",
   "execution_count": 66,
   "id": "f3e354b7-38f3-4dd5-89f2-d7289185a8b0",
   "metadata": {},
   "outputs": [
    {
     "name": "stdin",
     "output_type": "stream",
     "text": [
      "Enter a string Akbar123\n"
     ]
    },
    {
     "name": "stdout",
     "output_type": "stream",
     "text": [
      "Alphabets 5\n",
      "Number 3\n"
     ]
    }
   ],
   "source": [
    "x = input(\"Enter a string\")\n",
    "\n",
    "alpha = 0\n",
    "num = 0\n",
    "for i in x:\n",
    "    if i.isalpha():\n",
    "        alpha += 1\n",
    "    elif i.isdigit():\n",
    "        num += 1\n",
    "\n",
    "print(\"Alphabets\",alpha)\n",
    "print(\"Number\",num)"
   ]
  },
  {
   "cell_type": "code",
   "execution_count": 70,
   "id": "ac61a044-cafd-4d28-907e-89a781c206d8",
   "metadata": {},
   "outputs": [
    {
     "name": "stdin",
     "output_type": "stream",
     "text": [
      "Enter a number 5\n",
      "Enter a number 10\n"
     ]
    },
    {
     "name": "stdout",
     "output_type": "stream",
     "text": [
      "45\n"
     ]
    }
   ],
   "source": [
    "x = int(input(\"Enter a number\"))\n",
    "y = int(input(\"Enter a number\"))\n",
    "\n",
    "sum1 = 0\n",
    "for i in range(x, y+1):\n",
    "    sum1 = i + sum1\n",
    "\n",
    "print(sum1)"
   ]
  },
  {
   "cell_type": "code",
   "execution_count": 1,
   "id": "d4ab56d2-761b-4433-b93a-09766977da19",
   "metadata": {},
   "outputs": [
    {
     "name": "stdin",
     "output_type": "stream",
     "text": [
      "Enter a number:  7\n"
     ]
    },
    {
     "name": "stdout",
     "output_type": "stream",
     "text": [
      "5040\n"
     ]
    }
   ],
   "source": [
    "def factorial(n):\n",
    "    if n < 0:\n",
    "        return \"Error\"  \n",
    "    elif n == 0 or n == 1:\n",
    "        return 1  \n",
    "    else:\n",
    "        fact = 1\n",
    "        for i in range(2, n + 1):  \n",
    "            fact = fact * i  \n",
    "        return fact\n",
    "\n",
    "\n",
    "x = int(input(\"Enter a number: \"))\n",
    "result = factorial(x)  \n",
    "print(result)\n"
   ]
  },
  {
   "cell_type": "code",
   "execution_count": 3,
   "id": "bcc46c37-d9cf-4e10-bddb-1c4d30e4cced",
   "metadata": {},
   "outputs": [
    {
     "name": "stdout",
     "output_type": "stream",
     "text": [
      "30\n"
     ]
    }
   ],
   "source": [
    "a = 10\n",
    "b = 20\n",
    "x = lambda a,b : a + b\n",
    "print(x(a,b))"
   ]
  },
  {
   "cell_type": "code",
   "execution_count": 5,
   "id": "7e59c3eb-645f-4900-9811-3a1a10a6fe48",
   "metadata": {},
   "outputs": [
    {
     "name": "stdout",
     "output_type": "stream",
     "text": [
      "Original list: [1, 2, 3, 2, 4, 4, 4, 8, 9, 1, 5]\n",
      "Distinct elements: [1, 2, 3, 4, 8, 9, 5]\n"
     ]
    }
   ],
   "source": [
    "def remove_duplicates(input_list):\n",
    "    distinct_list = []\n",
    "    \n",
    "    for item in input_list:\n",
    "        if item not in distinct_list:\n",
    "            distinct_list.append(item)\n",
    "    \n",
    "    return distinct_list\n",
    "\n",
    "original_list = [1, 2, 3, 2, 4,4,4,8,9, 1, 5] \n",
    "result = remove_duplicates(original_list)\n",
    "print(f\"Original list: {original_list}\")\n",
    "print(f\"Distinct elements: {result}\")\n"
   ]
  },
  {
   "cell_type": "code",
   "execution_count": 6,
   "id": "0b0f4a80-e4bb-4b45-9268-93f4a3bf24bf",
   "metadata": {},
   "outputs": [
    {
     "name": "stdout",
     "output_type": "stream",
     "text": [
      "2\n",
      "4\n",
      "56\n",
      "8\n",
      "90\n",
      "22\n"
     ]
    }
   ],
   "source": [
    "x = [1,2,3,4,56,7,8,9,90,3,7,7,22]\n",
    "\n",
    "\n",
    "for i in x:\n",
    "    if i % 2 ==0:\n",
    "        print(i)\n"
   ]
  },
  {
   "cell_type": "code",
   "execution_count": null,
   "id": "8b50cf89-aee4-4b03-b8c7-ab07ff18dd2e",
   "metadata": {},
   "outputs": [],
   "source": []
  }
 ],
 "metadata": {
  "kernelspec": {
   "display_name": "Python 3 (ipykernel)",
   "language": "python",
   "name": "python3"
  },
  "language_info": {
   "codemirror_mode": {
    "name": "ipython",
    "version": 3
   },
   "file_extension": ".py",
   "mimetype": "text/x-python",
   "name": "python",
   "nbconvert_exporter": "python",
   "pygments_lexer": "ipython3",
   "version": "3.12.4"
  }
 },
 "nbformat": 4,
 "nbformat_minor": 5
}
