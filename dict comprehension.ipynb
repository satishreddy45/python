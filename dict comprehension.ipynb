{
 "cells": [
  {
   "cell_type": "code",
   "execution_count": 7,
   "id": "79821c0c-1bf0-46e3-bb85-4ebae6113090",
   "metadata": {},
   "outputs": [
    {
     "name": "stdout",
     "output_type": "stream",
     "text": [
      "{0: 0, 1: 1, 2: 4, 3: 9, 4: 16}\n"
     ]
    }
   ],
   "source": [
    "squares = {x:x**2 for x in range (5)}\n",
    "print(squares)"
   ]
  },
  {
   "cell_type": "code",
   "execution_count": 17,
   "id": "5f33fb88-21b4-48e7-841e-6f700a22806c",
   "metadata": {},
   "outputs": [
    {
     "data": {
      "text/plain": [
       "{0: 0, 2: 8, 4: 64, 6: 216, 8: 512}"
      ]
     },
     "execution_count": 17,
     "metadata": {},
     "output_type": "execute_result"
    }
   ],
   "source": [
    "even_cubes = {x: x**3 for x in range(10) if x%2==0}\n",
    "even_cubes"
   ]
  },
  {
   "cell_type": "code",
   "execution_count": 23,
   "id": "cc4ba99f-ba79-4568-8e53-574aa8e63096",
   "metadata": {},
   "outputs": [
    {
     "name": "stdout",
     "output_type": "stream",
     "text": [
      "{'a': 1, 'b': 2, 'c': 3}\n"
     ]
    }
   ],
   "source": [
    "#create a dictionary from two lists,one for keys and one for values\n",
    "\n",
    "keys=['a','b','c']\n",
    "values=[1,2,3]\n",
    "my_dict={keys[i]:values[i]for i in range(len(keys))}\n",
    "print(my_dict)"
   ]
  },
  {
   "cell_type": "code",
   "execution_count": 25,
   "id": "e90ec72b-73b7-4115-bd2c-5f366c4ea64a",
   "metadata": {},
   "outputs": [
    {
     "name": "stdout",
     "output_type": "stream",
     "text": [
      "{1: 'a', 2: 'b', 3: 'c'}\n"
     ]
    }
   ],
   "source": [
    "original={'a':1,'b':2,'c':3}\n",
    "swapped={v:k for k,v in original.items()}\n",
    "print(swapped)"
   ]
  },
  {
   "cell_type": "code",
   "execution_count": 21,
   "id": "e793e88d-8549-4c39-bc94-13db41744377",
   "metadata": {},
   "outputs": [
    {
     "name": "stdout",
     "output_type": "stream",
     "text": [
      "{'b': 6, 'd': 10}\n"
     ]
    }
   ],
   "source": [
    "original = {'a':1, 'b':6, 'c':3, 'd':10}\n",
    "filtered = {k:v for k, v in original.items() if v>=5}\n",
    "print(filtered)"
   ]
  },
  {
   "cell_type": "code",
   "execution_count": 27,
   "id": "ef041c76-eae5-49a3-87c0-ab4d49bdbe92",
   "metadata": {},
   "outputs": [
    {
     "name": "stdout",
     "output_type": "stream",
     "text": [
      "{'a': 10, 'b': 20, 'c': 30}\n"
     ]
    }
   ],
   "source": [
    "original = {'a':1, 'b':2, 'c':3}\n",
    "transformed = {k:v*10 for k, v in original.items()}\n",
    "print(transformed)"
   ]
  },
  {
   "cell_type": "code",
   "execution_count": 31,
   "id": "334692a7-081d-4b1d-8c6b-cbfad44cb9f5",
   "metadata": {},
   "outputs": [
    {
     "name": "stdout",
     "output_type": "stream",
     "text": [
      "{1: {'square': 1, 'cube': 1}, 2: {'square': 4, 'cube': 8}, 3: {'square': 9, 'cube': 27}, 4: {'square': 16, 'cube': 64}}\n"
     ]
    }
   ],
   "source": [
    "#nested dictionary comprehension\n",
    "numbers = [1,2,3,4]\n",
    "nested_dict = {x:{'square':x**2, 'cube':x**3} for x in numbers}\n",
    "print(nested_dict)"
   ]
  },
  {
   "cell_type": "code",
   "execution_count": 33,
   "id": "f046e246-82e0-4620-bf86-9c925fb5f9f4",
   "metadata": {},
   "outputs": [
    {
     "name": "stdout",
     "output_type": "stream",
     "text": [
      "{'a': 1, 'c': 3}\n"
     ]
    }
   ],
   "source": [
    "keys = ['a','b','c','d']\n",
    "values = [1,2,3,4]\n",
    "filtered_dict = {keys[i]:values[i] for i in range (len(keys)) if i%2==0}\n",
    "print(filtered_dict)"
   ]
  },
  {
   "cell_type": "code",
   "execution_count": 35,
   "id": "0478ef3a-acfb-43a3-a259-e96a77b04af4",
   "metadata": {},
   "outputs": [
    {
     "name": "stdout",
     "output_type": "stream",
     "text": [
      "{'a': 1, 'b': 2, 'c': 3}\n"
     ]
    }
   ],
   "source": [
    "tuples = [('a',1),('b',2),('c',3)]\n",
    "my_dict ={key:value for key,value in tuples}\n",
    "print(my_dict)"
   ]
  },
  {
   "cell_type": "code",
   "execution_count": null,
   "id": "da2ff72a-4858-4e82-bfcc-e52656575481",
   "metadata": {},
   "outputs": [],
   "source": []
  }
 ],
 "metadata": {
  "kernelspec": {
   "display_name": "Python 3 (ipykernel)",
   "language": "python",
   "name": "python3"
  },
  "language_info": {
   "codemirror_mode": {
    "name": "ipython",
    "version": 3
   },
   "file_extension": ".py",
   "mimetype": "text/x-python",
   "name": "python",
   "nbconvert_exporter": "python",
   "pygments_lexer": "ipython3",
   "version": "3.12.4"
  }
 },
 "nbformat": 4,
 "nbformat_minor": 5
}
