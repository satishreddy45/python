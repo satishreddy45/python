{
 "cells": [
  {
   "cell_type": "markdown",
   "id": "e8b967be-70f4-4402-9b21-8785acbe23bd",
   "metadata": {},
   "source": [
    "### 1. Arithmetic Operators:\n",
    "   - `+` : Addition  \n",
    "   - `-` : Subtraction  \n",
    "   - `*` : Multiplication  \n",
    "   - `/` : Division  \n",
    "   - `%` : Modulus  \n",
    "   - `` : Exponentiation  \n",
    "   - `//` : Floor Division  \n",
    "\n",
    "### 2. Comparison or Relational Operators:\n",
    "   - `==` : Equal to  \n",
    "   - `!= , <>` : Not equal to  \n",
    "   - `>` : Greater than  \n",
    "   - `<` : Less than  \n",
    "   - `>=` : Greater than or equal to  \n",
    "   - `<=` : Less than or equal to  \n",
    "\n",
    "### 3. Logical Operators:\n",
    "   - `and` : Logical AND  \n",
    "   - `or` : Logical OR  \n",
    "   - `not` : Logical NOT  \n",
    "\n",
    "### 4. Assignment Operators:\n",
    "   - `=` : Assign  \n",
    "   - `+=` : Add and assign  \n",
    "   - `-=` : Subtract and assign  \n",
    "   - `*=` : Multiply and assign  \n",
    "   - `/=` : Divide and assign  \n",
    "   - `//=` : Floor divide and assign  \n",
    "   - `%=` : Modulus and assign  \n",
    "   - `=` : Exponent and assign  \n",
    "\n",
    "### 5. Bitwise Operators:\n",
    "   - `&` : Bitwise AND  \n",
    "   - `|` : Bitwise OR  \n",
    "   - `^` : Bitwise XOR  \n",
    "   - `~` : Bitwise NOT  \n",
    "   - `<<` : Left shift  \n",
    "   - `>>` : Right shift  \n",
    "\n",
    "### 6. Membership Operators:\n",
    "   - `in` : Checks if a value is present in a sequence  \n",
    "   - `not in` : Checks if a value is not present in a sequence  \n",
    "\n",
    "### 7. Identity Operators:\n",
    "   - `is` : Checks if two variables are the same object  \n",
    "   - `is not` : Checks if two variables are not the same object  "
   ]
  },
  {
   "cell_type": "code",
   "execution_count": 1,
   "id": "5aaf7021-d013-447f-bae2-fc4c8b68f150",
   "metadata": {},
   "outputs": [
    {
     "name": "stdin",
     "output_type": "stream",
     "text": [
      "Enter first number 5\n",
      "Enter second number 4\n"
     ]
    },
    {
     "name": "stdout",
     "output_type": "stream",
     "text": [
      "9\n",
      "1\n"
     ]
    }
   ],
   "source": [
    "x = int(input(\"Enter first number\"))\n",
    "y = int(input(\"Enter second number\"))\n",
    "\n",
    "print(x + y)\n",
    "print(x - y)"
   ]
  },
  {
   "cell_type": "code",
   "execution_count": 2,
   "id": "3dac3683-f422-4271-ab68-6d24aee4743d",
   "metadata": {},
   "outputs": [
    {
     "name": "stdin",
     "output_type": "stream",
     "text": [
      "Enter the dividend:  10\n",
      "Enter the divisor:  6\n"
     ]
    },
    {
     "name": "stdout",
     "output_type": "stream",
     "text": [
      "The quotient is: 1\n",
      "The remainder is: 4\n"
     ]
    }
   ],
   "source": [
    "# Input two numbers for division\n",
    "dividend = int(input(\"Enter the dividend: \"))\n",
    "divisor = int(input(\"Enter the divisor: \"))\n",
    "\n",
    "quotient = dividend // divisor  \n",
    "remainder = dividend % divisor  \n",
    "\n",
    "print(f\"The quotient is: {quotient}\")\n",
    "print(f\"The remainder is: {remainder}\")"
   ]
  },
  {
   "cell_type": "code",
   "execution_count": 3,
   "id": "ba26dc1b-3081-44fa-abc0-cdc7683f6a07",
   "metadata": {},
   "outputs": [
    {
     "data": {
      "text/plain": [
       "15"
      ]
     },
     "execution_count": 3,
     "metadata": {},
     "output_type": "execute_result"
    }
   ],
   "source": [
    "a = (1, 2, 3, 4, 5)\n",
    "x = sum(a)\n",
    "x"
   ]
  },
  {
   "cell_type": "code",
   "execution_count": 4,
   "id": "f4830705-dda3-4e6a-b8a6-248527156f9b",
   "metadata": {},
   "outputs": [
    {
     "name": "stdin",
     "output_type": "stream",
     "text": [
      "Enter the radius of the circle:  7\n",
      "Enter the central angle (in degrees):  5\n"
     ]
    },
    {
     "name": "stdout",
     "output_type": "stream",
     "text": [
      "The arc length is: 0.61\n"
     ]
    }
   ],
   "source": [
    "pi = 3.14\n",
    "\n",
    "def arc_length(radius, angle):\n",
    "    arc_length = 2 * pi * radius * (angle/ 360)\n",
    "    return arc_length\n",
    "\n",
    "radius = float(input(\"Enter the radius of the circle: \"))\n",
    "angle = float(input(\"Enter the central angle (in degrees): \"))\n",
    "\n",
    "arc_length = arc_length(radius, angle)\n",
    "\n",
    "print(f\"The arc length is: {arc_length:.2f}\")"
   ]
  },
  {
   "cell_type": "code",
   "execution_count": 5,
   "id": "1b62a227-2340-4478-8f72-0c27f05110a4",
   "metadata": {},
   "outputs": [
    {
     "name": "stdin",
     "output_type": "stream",
     "text": [
      "Enter a diameter 9\n"
     ]
    },
    {
     "name": "stdout",
     "output_type": "stream",
     "text": [
      "the radius254.3 \n"
     ]
    }
   ],
   "source": [
    "r  = int(input(\"Enter a diameter\"))\n",
    "pi = 3.14\n",
    "\n",
    "result = pi * r * r\n",
    "\n",
    "print(f\"the radius{result:.1f} \")"
   ]
  },
  {
   "cell_type": "code",
   "execution_count": 6,
   "id": "3c843da9-9bef-45cb-8b33-84139665c018",
   "metadata": {},
   "outputs": [
    {
     "name": "stdin",
     "output_type": "stream",
     "text": [
      "Enter a number 10\n",
      "Enter a number 20\n"
     ]
    },
    {
     "name": "stdout",
     "output_type": "stream",
     "text": [
      "22.36068\n"
     ]
    }
   ],
   "source": [
    "import math as e\n",
    "\n",
    "side1 = int(input(\"Enter a number\"))\n",
    "side2 = int(input(\"Enter a number\"))\n",
    "\n",
    "hypo = e.sqrt((side1 ** 2) + (side2 ** 2))\n",
    "# print(f\"Result {hypo:.2f}\")\n",
    "print(round(hypo,5))"
   ]
  },
  {
   "cell_type": "code",
   "execution_count": 9,
   "id": "b40a9b03-2108-4a91-9673-a38472e0c11e",
   "metadata": {},
   "outputs": [
    {
     "name": "stdin",
     "output_type": "stream",
     "text": [
      "Enter a diameter 10\n"
     ]
    },
    {
     "name": "stdout",
     "output_type": "stream",
     "text": [
      "62.8\n"
     ]
    }
   ],
   "source": [
    "r  = float(input(\"Enter a diameter\"))\n",
    "pi = 3.14\n",
    "\n",
    "result = 2 * pi * r\n",
    "print(round(result,2))"
   ]
  },
  {
   "cell_type": "code",
   "execution_count": 11,
   "id": "108198bf-bead-46ea-9192-ce4f4c39d8fa",
   "metadata": {},
   "outputs": [
    {
     "name": "stdout",
     "output_type": "stream",
     "text": [
      "0\n",
      "False\n"
     ]
    }
   ],
   "source": [
    "c = 0 and 20\n",
    "d = 5 > 4 and 3 <2\n",
    "print(c)\n",
    "print(d)"
   ]
  },
  {
   "cell_type": "code",
   "execution_count": 6,
   "id": "d7f66b8e-8501-48c1-8337-ea329d9b6970",
   "metadata": {},
   "outputs": [
    {
     "name": "stdin",
     "output_type": "stream",
     "text": [
      "Enter a celsius 36\n"
     ]
    },
    {
     "name": "stdout",
     "output_type": "stream",
     "text": [
      "96.8\n",
      "309.15\n"
     ]
    }
   ],
   "source": [
    "x = int(input(\"Enter a celsius\"))\n",
    "\n",
    "fah = x * 9/5 + 32\n",
    "kel = x + 273.15\n",
    "\n",
    "print(fah)\n",
    "print(kel)"
   ]
  },
  {
   "cell_type": "code",
   "execution_count": 7,
   "id": "08e11195-813e-42c4-a77a-115c2a2946fb",
   "metadata": {},
   "outputs": [
    {
     "name": "stdout",
     "output_type": "stream",
     "text": [
      "7326.0\n"
     ]
    }
   ],
   "source": [
    "a = 5*99 * (3+0.7) * 8/2\n",
    "print(a)"
   ]
  },
  {
   "cell_type": "code",
   "execution_count": 8,
   "id": "e2c52929-06fd-49f6-a7f1-b870604ee7e1",
   "metadata": {},
   "outputs": [
    {
     "data": {
      "text/plain": [
       "186.20000000000002"
      ]
     },
     "execution_count": 8,
     "metadata": {},
     "output_type": "execute_result"
    }
   ],
   "source": [
    "y = 7 + 7 * (8*8*2/5)\n",
    "y"
   ]
  },
  {
   "cell_type": "code",
   "execution_count": 9,
   "id": "d6cc7af4-5370-4ed2-aaaf-4670a62f81bc",
   "metadata": {},
   "outputs": [
    {
     "data": {
      "text/plain": [
       "100.0"
      ]
     },
     "execution_count": 9,
     "metadata": {},
     "output_type": "execute_result"
    }
   ],
   "source": [
    "z = (7 * 3 + 4) * (8 / 2)\n",
    "z"
   ]
  },
  {
   "cell_type": "code",
   "execution_count": null,
   "id": "ce013488-f645-471c-8536-8abe367443c2",
   "metadata": {},
   "outputs": [],
   "source": []
  }
 ],
 "metadata": {
  "kernelspec": {
   "display_name": "Python 3 (ipykernel)",
   "language": "python",
   "name": "python3"
  },
  "language_info": {
   "codemirror_mode": {
    "name": "ipython",
    "version": 3
   },
   "file_extension": ".py",
   "mimetype": "text/x-python",
   "name": "python",
   "nbconvert_exporter": "python",
   "pygments_lexer": "ipython3",
   "version": "3.12.4"
  }
 },
 "nbformat": 4,
 "nbformat_minor": 5
}
