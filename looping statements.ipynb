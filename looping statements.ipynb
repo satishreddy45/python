{
 "cells": [
  {
   "cell_type": "code",
   "execution_count": 3,
   "id": "8e693332-a1cf-40e3-8332-f551b194a2aa",
   "metadata": {},
   "outputs": [
    {
     "name": "stdin",
     "output_type": "stream",
     "text": [
      "enter the starting number 4\n",
      "enter the last number 10\n"
     ]
    },
    {
     "name": "stdout",
     "output_type": "stream",
     "text": [
      "4\n",
      "5\n",
      "6\n",
      "7\n",
      "8\n",
      "9\n",
      "10\n"
     ]
    }
   ],
   "source": [
    "a= int(input(\"enter the starting number\"))\n",
    "b= int(input(\"enter the last number\"))\n",
    "while a>=b:\n",
    "  pass\n",
    "else:\n",
    " for i in range(a,b+1):\n",
    "     print(i)"
   ]
  },
  {
   "cell_type": "code",
   "execution_count": 3,
   "id": "5eee5873-0996-4ecb-80de-a0af95c49e51",
   "metadata": {},
   "outputs": [
    {
     "name": "stdin",
     "output_type": "stream",
     "text": [
      "enter the starting number 10\n",
      "enter the last number 4\n"
     ]
    }
   ],
   "source": [
    "a= int(input(\"enter the starting number\"))\n",
    "b= int(input(\"enter the last number\"))\n",
    "while a<=b:\n",
    "  pass\n",
    "else:\n",
    " for i in range(a,b+1):\n",
    "     print(i)"
   ]
  },
  {
   "cell_type": "code",
   "execution_count": 7,
   "id": "49d470a7-1f7d-4375-b0b7-d1adb43e588c",
   "metadata": {},
   "outputs": [
    {
     "name": "stdin",
     "output_type": "stream",
     "text": [
      " 54548\n"
     ]
    },
    {
     "name": "stdout",
     "output_type": "stream",
     "text": [
      "5\n"
     ]
    }
   ],
   "source": [
    "x = int(input())\n",
    "z = str(x)\n",
    "tot_digit = 0\n",
    "for i in z:\n",
    "    tot_digit+=1\n",
    "\n",
    "print(tot_digit)"
   ]
  },
  {
   "cell_type": "code",
   "execution_count": null,
   "id": "d1ca85e7-fe94-4661-a5c6-b8e72d0faefb",
   "metadata": {},
   "outputs": [],
   "source": []
  }
 ],
 "metadata": {
  "kernelspec": {
   "display_name": "Python 3 (ipykernel)",
   "language": "python",
   "name": "python3"
  },
  "language_info": {
   "codemirror_mode": {
    "name": "ipython",
    "version": 3
   },
   "file_extension": ".py",
   "mimetype": "text/x-python",
   "name": "python",
   "nbconvert_exporter": "python",
   "pygments_lexer": "ipython3",
   "version": "3.12.4"
  }
 },
 "nbformat": 4,
 "nbformat_minor": 5
}
