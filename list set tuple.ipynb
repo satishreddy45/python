{
 "cells": [
  {
   "cell_type": "code",
   "execution_count": 5,
   "id": "f45fedff-07b3-4a2d-a3b2-8f739d8ce541",
   "metadata": {},
   "outputs": [
    {
     "name": "stdout",
     "output_type": "stream",
     "text": [
      "()\n"
     ]
    }
   ],
   "source": [
    "empty_tuple = ()\n",
    "print(empty_tuple)"
   ]
  },
  {
   "cell_type": "code",
   "execution_count": 7,
   "id": "dc1cfa67-a67e-4c74-bbd3-5e29e3b22629",
   "metadata": {},
   "outputs": [
    {
     "name": "stdout",
     "output_type": "stream",
     "text": [
      "(26, 45, 32)\n"
     ]
    }
   ],
   "source": [
    "value_tuple = 26,45,32\n",
    "print(value_tuple)"
   ]
  },
  {
   "cell_type": "code",
   "execution_count": 49,
   "id": "7c165fb4-65d6-441e-b918-e8efad9f521b",
   "metadata": {},
   "outputs": [
    {
     "name": "stdout",
     "output_type": "stream",
     "text": [
      "(26, 45, 'hello')\n"
     ]
    }
   ],
   "source": [
    "value_tuple = (26,45,'hello')\n",
    "print(value_tuple)"
   ]
  },
  {
   "cell_type": "code",
   "execution_count": 17,
   "id": "d843d8a9-63ff-4306-a95f-3b71daff359d",
   "metadata": {},
   "outputs": [
    {
     "name": "stdout",
     "output_type": "stream",
     "text": [
      "hello\n"
     ]
    }
   ],
   "source": [
    "Tuple = (\"hello\")\n",
    "print(Tuple)"
   ]
  },
  {
   "cell_type": "code",
   "execution_count": 19,
   "id": "b2eccd0b-0265-4e8a-a209-d6f6f35636d6",
   "metadata": {},
   "outputs": [
    {
     "name": "stdout",
     "output_type": "stream",
     "text": [
      "('hello',)\n"
     ]
    }
   ],
   "source": [
    "Tuple = ('hello',)\n",
    "print(Tuple)"
   ]
  },
  {
   "cell_type": "code",
   "execution_count": 21,
   "id": "08000aac-3774-40e9-90dc-dc1b0341cc94",
   "metadata": {},
   "outputs": [
    {
     "ename": "TypeError",
     "evalue": "'tuple' object does not support item assignment",
     "output_type": "error",
     "traceback": [
      "\u001b[1;31m---------------------------------------------------------------------------\u001b[0m",
      "\u001b[1;31mTypeError\u001b[0m                                 Traceback (most recent call last)",
      "Cell \u001b[1;32mIn[21], line 2\u001b[0m\n\u001b[0;32m      1\u001b[0m value_tuple \u001b[38;5;241m=\u001b[39m (\u001b[38;5;241m26\u001b[39m,\u001b[38;5;241m45\u001b[39m,\u001b[38;5;124m'\u001b[39m\u001b[38;5;124mhello\u001b[39m\u001b[38;5;124m'\u001b[39m)\n\u001b[1;32m----> 2\u001b[0m value_tuple[\u001b[38;5;241m1\u001b[39m]\u001b[38;5;241m=\u001b[39m\u001b[38;5;241m7\u001b[39m\n\u001b[0;32m      3\u001b[0m \u001b[38;5;28mprint\u001b[39m(value_tuple)\n",
      "\u001b[1;31mTypeError\u001b[0m: 'tuple' object does not support item assignment"
     ]
    }
   ],
   "source": [
    "#the tuples is immutable (will get error)\n",
    "value_tuple = (26,45,'hello')\n",
    "value_tuple[1]=7\n",
    "print(value_tuple)"
   ]
  },
  {
   "cell_type": "code",
   "execution_count": 23,
   "id": "680ba9e3-ad2f-4eeb-a1f4-a7c130a5c1e0",
   "metadata": {},
   "outputs": [
    {
     "name": "stdout",
     "output_type": "stream",
     "text": [
      "(26, 45, 'hello', 7, 5.6, 'python')\n"
     ]
    }
   ],
   "source": [
    "#concatenation\n",
    "value1_tuple = (26,45,'hello')\n",
    "value2_tuple = 7,5.6,\"python\"\n",
    "print(value1_tuple + value2_tuple)"
   ]
  },
  {
   "cell_type": "code",
   "execution_count": 25,
   "id": "32402418-e205-4f2c-ada0-3e82ac2a7522",
   "metadata": {},
   "outputs": [
    {
     "name": "stdout",
     "output_type": "stream",
     "text": [
      "((26, 45, 'hello'), (7, 5.6, 'python'))\n"
     ]
    }
   ],
   "source": [
    "#nesting of tuples\n",
    "value1_tuple = (26,45,'hello')\n",
    "value2_tuple = 7,5.6,\"python\"\n",
    "value3_tuple = value1_tuple, value2_tuple\n",
    "print(value3_tuple)"
   ]
  },
  {
   "cell_type": "code",
   "execution_count": 29,
   "id": "ef777ab5-45ce-4605-a76c-c6c11296e4bd",
   "metadata": {},
   "outputs": [
    {
     "name": "stdout",
     "output_type": "stream",
     "text": [
      "(26, 45, 'hello', 26, 45, 'hello')\n"
     ]
    }
   ],
   "source": [
    "#repetition of tuples\n",
    "value_tuple = (26,45,'hello')*2\n",
    "print(value_tuple)"
   ]
  },
  {
   "cell_type": "code",
   "execution_count": 31,
   "id": "012f9b2c-d2f0-4d43-a44d-357489270a73",
   "metadata": {},
   "outputs": [
    {
     "name": "stdout",
     "output_type": "stream",
     "text": [
      "7.5\n"
     ]
    }
   ],
   "source": [
    "#accesing values in tuple\n",
    "value_tuple = (26,45,'hello',7.5)\n",
    "print(value_tuple[3])"
   ]
  },
  {
   "cell_type": "code",
   "execution_count": 37,
   "id": "d85a6357-481c-4e66-8afe-47636b469f21",
   "metadata": {},
   "outputs": [
    {
     "name": "stdout",
     "output_type": "stream",
     "text": [
      "(26, 45, 'hello', 7.5)\n"
     ]
    }
   ],
   "source": [
    "#slicing in tuples\n",
    "value_tuple=(26,45,'hello',7.5)\n",
    "print(value_tuple[0:])"
   ]
  },
  {
   "cell_type": "code",
   "execution_count": 39,
   "id": "c171cd82-d290-498a-8df9-494c8f31ab61",
   "metadata": {},
   "outputs": [
    {
     "name": "stdout",
     "output_type": "stream",
     "text": [
      "('hello', 7.5)\n"
     ]
    }
   ],
   "source": [
    "#slicing in tuples\n",
    "value_tuple=(26,45,'hello',7.5)\n",
    "print(value_tuple[2:])"
   ]
  },
  {
   "cell_type": "code",
   "execution_count": 41,
   "id": "76076533-14c7-44e0-b6a2-2edafe9de0b7",
   "metadata": {},
   "outputs": [
    {
     "name": "stdout",
     "output_type": "stream",
     "text": [
      "(26, 45, 'hello')\n"
     ]
    }
   ],
   "source": [
    "#slicing in tuples\n",
    "value_tuple=(26,45,'hello',7.5)\n",
    "print(value_tuple[:3])"
   ]
  },
  {
   "cell_type": "code",
   "execution_count": 43,
   "id": "6568d555-2abc-4664-9a0b-989d16b096aa",
   "metadata": {},
   "outputs": [
    {
     "name": "stdout",
     "output_type": "stream",
     "text": [
      "(26, 45, 'hello', 7.5, 'z', 5, 6.9)\n"
     ]
    }
   ],
   "source": [
    "#slicing in tuples\n",
    "value_tuple=(26,45,'hello',7.5,'z',5,6.9)\n",
    "print(value_tuple[:7])"
   ]
  },
  {
   "cell_type": "code",
   "execution_count": 45,
   "id": "3d076c78-b207-425e-9bca-360940268e25",
   "metadata": {},
   "outputs": [
    {
     "name": "stdout",
     "output_type": "stream",
     "text": [
      "6.9\n"
     ]
    }
   ],
   "source": [
    "#slicing in tuples\n",
    "value_tuple=(26,45,'hello',7.5,'z',5,6.9)\n",
    "print(value_tuple[-1])"
   ]
  },
  {
   "cell_type": "code",
   "execution_count": 47,
   "id": "b0324886-377f-4173-a6d1-63606085d15a",
   "metadata": {},
   "outputs": [
    {
     "name": "stdout",
     "output_type": "stream",
     "text": [
      "(26, 45, 'hello')\n"
     ]
    }
   ],
   "source": [
    "#slicing in tuples\n",
    "value_tuple=(26,45,'hello',7.5,'z',5,6.9)\n",
    "print(value_tuple[:-4])"
   ]
  },
  {
   "cell_type": "code",
   "execution_count": 53,
   "id": "caa3bd15-cdca-483e-907c-a6aa4fc5150e",
   "metadata": {},
   "outputs": [
    {
     "name": "stdout",
     "output_type": "stream",
     "text": [
      "(6.9, 5, 'z', 7.5, 'hello', 45, 26)\n"
     ]
    }
   ],
   "source": [
    "#slicing in tuples\n",
    "value_tuple=(26,45,'hello',7.5,'z',5,6.9)\n",
    "print(value_tuple[::-1])"
   ]
  },
  {
   "cell_type": "code",
   "execution_count": 55,
   "id": "b13d0e41-5e92-4040-8bed-b5295abe0ef6",
   "metadata": {},
   "outputs": [
    {
     "name": "stdout",
     "output_type": "stream",
     "text": [
      "(6.9, 'z', 'hello', 26)\n"
     ]
    }
   ],
   "source": [
    "#slicing in tuples\n",
    "value_tuple=(26,45,'hello',7.5,'z',5,6.9)\n",
    "print(value_tuple[::-2])"
   ]
  },
  {
   "cell_type": "code",
   "execution_count": 57,
   "id": "20346bb6-9bea-473c-b0a8-65ea8cc4b39f",
   "metadata": {},
   "outputs": [
    {
     "name": "stdout",
     "output_type": "stream",
     "text": [
      "(6.9, 7.5, 26)\n"
     ]
    }
   ],
   "source": [
    "#slicing in tuples\n",
    "value_tuple=(26,45,'hello',7.5,'z',5,6.9)\n",
    "print(value_tuple[::-3])"
   ]
  },
  {
   "cell_type": "code",
   "execution_count": 59,
   "id": "9dd180ef-49bb-44f0-818a-b3955edcf8cf",
   "metadata": {},
   "outputs": [
    {
     "name": "stdout",
     "output_type": "stream",
     "text": [
      "('z', 5, 6.9)\n"
     ]
    }
   ],
   "source": [
    "#slicing in tuples\n",
    "value_tuple=(26,45,'hello',7.5,'z',5,6.9)\n",
    "print(value_tuple[-3::])"
   ]
  },
  {
   "cell_type": "code",
   "execution_count": 61,
   "id": "8be1ce92-6924-4fe8-8501-75726bff93d8",
   "metadata": {},
   "outputs": [
    {
     "name": "stdout",
     "output_type": "stream",
     "text": [
      "(45, 7.5, 5)\n"
     ]
    }
   ],
   "source": [
    "#slicing in tuples\n",
    "value_tuple=(26,45,'hello',7.5,'z',5,6.9)\n",
    "print(value_tuple[1:6:2])"
   ]
  },
  {
   "cell_type": "code",
   "execution_count": 63,
   "id": "41ca327b-b0cf-4375-a73a-06f82685a081",
   "metadata": {},
   "outputs": [
    {
     "name": "stdout",
     "output_type": "stream",
     "text": [
      "(45,)\n"
     ]
    }
   ],
   "source": [
    "#slicing in tuples\n",
    "value_tuple=(26,45,'hello',7.5,'z',5,6.9)\n",
    "print(value_tuple[1:3:2])"
   ]
  },
  {
   "cell_type": "code",
   "execution_count": 1,
   "id": "7e233e51-2154-4b57-964c-3805f79edb32",
   "metadata": {},
   "outputs": [
    {
     "ename": "TypeError",
     "evalue": "'tuple' object doesn't support item deletion",
     "output_type": "error",
     "traceback": [
      "\u001b[1;31m---------------------------------------------------------------------------\u001b[0m",
      "\u001b[1;31mTypeError\u001b[0m                                 Traceback (most recent call last)",
      "Cell \u001b[1;32mIn[1], line 3\u001b[0m\n\u001b[0;32m      1\u001b[0m \u001b[38;5;66;03m#deleteing a tuple\u001b[39;00m\n\u001b[0;32m      2\u001b[0m value_tuple\u001b[38;5;241m=\u001b[39m(\u001b[38;5;241m26\u001b[39m,\u001b[38;5;241m45\u001b[39m,\u001b[38;5;124m'\u001b[39m\u001b[38;5;124mhello\u001b[39m\u001b[38;5;124m'\u001b[39m,\u001b[38;5;241m7.5\u001b[39m,\u001b[38;5;124m'\u001b[39m\u001b[38;5;124mz\u001b[39m\u001b[38;5;124m'\u001b[39m,\u001b[38;5;241m5\u001b[39m,\u001b[38;5;241m6.9\u001b[39m)\n\u001b[1;32m----> 3\u001b[0m \u001b[38;5;28;01mdel\u001b[39;00m(value_tuple[\u001b[38;5;241m1\u001b[39m])\n\u001b[0;32m      4\u001b[0m \u001b[38;5;28mprint\u001b[39m(value_tuple)\n",
      "\u001b[1;31mTypeError\u001b[0m: 'tuple' object doesn't support item deletion"
     ]
    }
   ],
   "source": [
    "#deleteing a tuple\n",
    "value_tuple=(26,45,'hello',7.5,'z',5,6.9)\n",
    "del(value_tuple[1])\n",
    "print(value_tuple)"
   ]
  },
  {
   "cell_type": "code",
   "execution_count": 7,
   "id": "af876bb9-63c5-4a4f-9122-cdf52b82f90b",
   "metadata": {},
   "outputs": [
    {
     "name": "stdout",
     "output_type": "stream",
     "text": [
      "('hello',)\n",
      "(('hello',),)\n",
      "((('hello',),),)\n"
     ]
    }
   ],
   "source": [
    "Tuple = ('hello')\n",
    "n = 3\n",
    "for i in range(int(n)):\n",
    "    Tuple=(Tuple,)\n",
    "    print(Tuple)"
   ]
  },
  {
   "cell_type": "code",
   "execution_count": 11,
   "id": "12c3b1c7-0462-48d2-84a4-1b762f58cbed",
   "metadata": {},
   "outputs": [
    {
     "name": "stdout",
     "output_type": "stream",
     "text": [
      "5\n"
     ]
    }
   ],
   "source": [
    "tuple=('developers',5,8.9,'r',8)\n",
    "print(len(tuple))"
   ]
  },
  {
   "cell_type": "code",
   "execution_count": 13,
   "id": "2d3fb851-99ff-4aec-81ab-784a7ae6a640",
   "metadata": {},
   "outputs": [
    {
     "name": "stdout",
     "output_type": "stream",
     "text": [
      "89\n"
     ]
    }
   ],
   "source": [
    "tuple2=(9,5,89,4,8)\n",
    "print(max(tuple2))"
   ]
  },
  {
   "cell_type": "code",
   "execution_count": 15,
   "id": "2eebec4e-b9d2-4044-9cbb-0039a2e44c6d",
   "metadata": {},
   "outputs": [
    {
     "name": "stdout",
     "output_type": "stream",
     "text": [
      "4\n"
     ]
    }
   ],
   "source": [
    "tuple2=(9,5,89,4,8)\n",
    "print(min(tuple2))"
   ]
  },
  {
   "cell_type": "code",
   "execution_count": 17,
   "id": "39c99b8d-2d61-4d5b-8b6c-32efd4aa1402",
   "metadata": {},
   "outputs": [
    {
     "name": "stdout",
     "output_type": "stream",
     "text": [
      "115\n"
     ]
    }
   ],
   "source": [
    "tuple2=(9,5,89,4,8)\n",
    "print(sum(tuple2))"
   ]
  },
  {
   "cell_type": "code",
   "execution_count": 19,
   "id": "c525cd1f-559c-4cdf-8765-965903b7bc4f",
   "metadata": {},
   "outputs": [
    {
     "name": "stdout",
     "output_type": "stream",
     "text": [
      "[4, 5, 8, 9, 89]\n"
     ]
    }
   ],
   "source": [
    "tuple2=(9,5,89,4,8)\n",
    "print(sorted(tuple2))"
   ]
  },
  {
   "cell_type": "code",
   "execution_count": 21,
   "id": "ee04a625-31c3-4a08-b80d-fe21f0336ee9",
   "metadata": {},
   "outputs": [
    {
     "name": "stdout",
     "output_type": "stream",
     "text": [
      "True\n"
     ]
    }
   ],
   "source": [
    "tuple = (0,1)\n",
    "print(any(tuple))"
   ]
  },
  {
   "cell_type": "code",
   "execution_count": 41,
   "id": "d9a716fb-594c-41c3-a855-d2f10d5d3044",
   "metadata": {},
   "outputs": [
    {
     "name": "stdout",
     "output_type": "stream",
     "text": [
      "False\n"
     ]
    }
   ],
   "source": [
    "tuple = (0,)\n",
    "print(any(tuple))"
   ]
  },
  {
   "cell_type": "code",
   "execution_count": 25,
   "id": "fc4cc500-e7cf-457d-ad43-0eea3165bbf3",
   "metadata": {},
   "outputs": [
    {
     "name": "stdout",
     "output_type": "stream",
     "text": [
      "True\n"
     ]
    }
   ],
   "source": [
    "tuple = (4,1)\n",
    "print(all(tuple))"
   ]
  },
  {
   "cell_type": "code",
   "execution_count": 27,
   "id": "ccade3c3-bf45-4983-94f5-00515d8dea77",
   "metadata": {},
   "outputs": [
    {
     "name": "stdout",
     "output_type": "stream",
     "text": [
      "False\n"
     ]
    }
   ],
   "source": [
    "tuple = (0,5,7)\n",
    "print(all(tuple))"
   ]
  },
  {
   "cell_type": "code",
   "execution_count": 29,
   "id": "77d3efb9-efbc-4c1b-a30b-0b7d62a71e1e",
   "metadata": {},
   "outputs": [
    {
     "name": "stdout",
     "output_type": "stream",
     "text": [
      "True\n"
     ]
    }
   ],
   "source": [
    "tuple = ()\n",
    "print(all(tuple))"
   ]
  },
  {
   "cell_type": "code",
   "execution_count": 43,
   "id": "560e216f-bccd-438f-899f-de7ea4367eb2",
   "metadata": {},
   "outputs": [
    {
     "name": "stdout",
     "output_type": "stream",
     "text": [
      "apple\n",
      "byte\n",
      "computer\n"
     ]
    }
   ],
   "source": [
    "tuple=(\"apple\",\"byte\",\"computer\")\n",
    "for i in tuple:\n",
    "    print(i)"
   ]
  },
  {
   "cell_type": "code",
   "execution_count": 45,
   "id": "16babc4f-41d2-48da-9937-fa96bdb2099e",
   "metadata": {},
   "outputs": [
    {
     "name": "stdout",
     "output_type": "stream",
     "text": [
      "apple\n",
      "byte\n"
     ]
    }
   ],
   "source": [
    "tuple=(\"apple\",\"byte\",\"computer\")\n",
    "n=2\n",
    "for i in range(n):\n",
    "    print(tuple[i])"
   ]
  },
  {
   "cell_type": "code",
   "execution_count": 47,
   "id": "5e585af4-b7e9-47c7-97b0-f54036f08727",
   "metadata": {},
   "outputs": [
    {
     "name": "stdout",
     "output_type": "stream",
     "text": [
      "apple\n"
     ]
    }
   ],
   "source": [
    "tuple=(\"apple\",\"byte\",\"computer\")\n",
    "n=2\n",
    "for i in range(n):\n",
    "    print(tuple[i])\n",
    "    break"
   ]
  },
  {
   "cell_type": "code",
   "execution_count": 49,
   "id": "f5b79747-756c-42a6-8d3f-6b3a6410779c",
   "metadata": {},
   "outputs": [
    {
     "name": "stdout",
     "output_type": "stream",
     "text": [
      "['apple', 'byte', 'computer']\n"
     ]
    }
   ],
   "source": [
    "tuple=(\"apple\",\"byte\",\"computer\")\n",
    "print(list(tuple))"
   ]
  },
  {
   "cell_type": "code",
   "execution_count": 51,
   "id": "3c8b09de-53b3-427f-8c5f-93298853ca48",
   "metadata": {},
   "outputs": [
    {
     "name": "stdout",
     "output_type": "stream",
     "text": [
      "2\n",
      "1\n",
      "0\n"
     ]
    }
   ],
   "source": [
    "tuple = (3,7,'p','y','z',9.5,'y')\n",
    "print(tuple.count('y'))\n",
    "print(tuple.count(7))\n",
    "print(tuple.count(9))"
   ]
  },
  {
   "cell_type": "code",
   "execution_count": 53,
   "id": "9a87231b-8611-4846-9f60-7c2ebf0252bb",
   "metadata": {},
   "outputs": [
    {
     "name": "stdout",
     "output_type": "stream",
     "text": [
      "3\n",
      "4\n"
     ]
    }
   ],
   "source": [
    "tuple = (3,7,'p','y','z',9.5,'y')\n",
    "print(tuple.index('y'))\n",
    "print(tuple.index('z'))"
   ]
  },
  {
   "cell_type": "code",
   "execution_count": null,
   "id": "0367e853-4c22-4707-94ba-d4116e7fbd9b",
   "metadata": {},
   "outputs": [],
   "source": []
  }
 ],
 "metadata": {
  "kernelspec": {
   "display_name": "Python 3 (ipykernel)",
   "language": "python",
   "name": "python3"
  },
  "language_info": {
   "codemirror_mode": {
    "name": "ipython",
    "version": 3
   },
   "file_extension": ".py",
   "mimetype": "text/x-python",
   "name": "python",
   "nbconvert_exporter": "python",
   "pygments_lexer": "ipython3",
   "version": "3.12.4"
  }
 },
 "nbformat": 4,
 "nbformat_minor": 5
}
