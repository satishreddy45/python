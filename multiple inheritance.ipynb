{
 "cells": [
  {
   "cell_type": "code",
   "execution_count": 9,
   "id": "027fc8df-dc9d-4860-a46b-ee383e4891df",
   "metadata": {},
   "outputs": [],
   "source": [
    "class NormalRoom:\n",
    "    def calculate_rent(self, no_rooms, days):\n",
    "        \"\"\"Calculates the total room rent based on the number of rooms and days.\n",
    "\n",
    "        Args:\n",
    "            no_rooms (int): The number of rooms booked.\n",
    "            days (int): The number of days of stay.\n",
    "\n",
    "        Returns:\n",
    "            int: The total room rent.\n",
    "        \"\"\"\n",
    "\n",
    "        if days == 1:\n",
    "            room_rent = 300\n",
    "        elif 1 < days <= 5:\n",
    "            room_rent = 250\n",
    "        else:\n",
    "            room_rent = 200\n",
    "\n",
    "        total_rent = no_rooms * room_rent * days\n",
    "        return total_rent"
   ]
  },
  {
   "cell_type": "code",
   "execution_count": 11,
   "id": "e6f72c0d-8e26-4e8a-b8f7-125f804d2273",
   "metadata": {},
   "outputs": [
    {
     "name": "stdout",
     "output_type": "stream",
     "text": [
      "Total Rent: 1500\n"
     ]
    }
   ],
   "source": [
    "room = NormalRoom()\n",
    "total_rent = room.calculate_rent(2, 3)  # 2 rooms for 3 days\n",
    "print(\"Total Rent:\", total_rent)"
   ]
  },
  {
   "cell_type": "code",
   "execution_count": null,
   "id": "47bef74e-f0b8-49d1-88b0-a039ff133489",
   "metadata": {},
   "outputs": [],
   "source": []
  }
 ],
 "metadata": {
  "kernelspec": {
   "display_name": "Python 3 (ipykernel)",
   "language": "python",
   "name": "python3"
  },
  "language_info": {
   "codemirror_mode": {
    "name": "ipython",
    "version": 3
   },
   "file_extension": ".py",
   "mimetype": "text/x-python",
   "name": "python",
   "nbconvert_exporter": "python",
   "pygments_lexer": "ipython3",
   "version": "3.12.4"
  }
 },
 "nbformat": 4,
 "nbformat_minor": 5
}
