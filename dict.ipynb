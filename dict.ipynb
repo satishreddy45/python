{
 "cells": [
  {
   "cell_type": "code",
   "execution_count": 9,
   "id": "831f3c44-57d5-466c-9895-28df1358e23d",
   "metadata": {},
   "outputs": [
    {
     "name": "stdout",
     "output_type": "stream",
     "text": [
      "{}\n"
     ]
    }
   ],
   "source": [
    "dic = {}\n",
    "print(dic)"
   ]
  },
  {
   "cell_type": "code",
   "execution_count": 3,
   "id": "f37beadc-72ce-40e5-9496-d3d940afde20",
   "metadata": {},
   "outputs": [
    {
     "name": "stdout",
     "output_type": "stream",
     "text": [
      "{1: 'focus', 2: 'academy', 3: 'for', 4: 'carrer', 5: 'enhancement'}\n"
     ]
    }
   ],
   "source": [
    "dic={1:\"focus\",2:\"academy\",3:\"for\",4:\"carrer\",5:\"enhancement\"}\n",
    "print(dic)"
   ]
  },
  {
   "cell_type": "code",
   "execution_count": 5,
   "id": "3294694d-8c51-4ab9-bb04-74a793491c64",
   "metadata": {},
   "outputs": [
    {
     "name": "stdout",
     "output_type": "stream",
     "text": [
      "{1: (2, 4, 5), 'Name': 'Face', 4: [5, 7]}\n"
     ]
    }
   ],
   "source": [
    "dic={1:(2,4,5),\"Name\":\"Face\",4:[5,7]}\n",
    "print(dic)"
   ]
  },
  {
   "cell_type": "code",
   "execution_count": 7,
   "id": "21579c66-0c16-4444-9e16-eecd69afbcaa",
   "metadata": {},
   "outputs": [
    {
     "name": "stdout",
     "output_type": "stream",
     "text": [
      "{1: 2, 'Name': 'Face', 4: 5}\n"
     ]
    }
   ],
   "source": [
    "dic=dict([(1,2),(\"Name\",\"Face\"),(4,5)])\n",
    "print(dic)"
   ]
  },
  {
   "cell_type": "code",
   "execution_count": 9,
   "id": "4320af0c-ac0b-4cb2-b726-f36459fc6d6a",
   "metadata": {},
   "outputs": [
    {
     "name": "stdout",
     "output_type": "stream",
     "text": [
      "{1: 'Face', 2: 4, 3: {5: 'hello', 6: 9.5}}\n"
     ]
    }
   ],
   "source": [
    "dic={1:\"Face\",2:4,3:{5:\"hello\",6:9.5}}\n",
    "print(dic)"
   ]
  },
  {
   "cell_type": "code",
   "execution_count": 11,
   "id": "553ef225-1ec3-484c-aad2-b2592b2e8ee6",
   "metadata": {},
   "outputs": [
    {
     "name": "stdout",
     "output_type": "stream",
     "text": [
      "{1: 'hard', 2: 4, 3: 'work', 0: 'Apple'}\n"
     ]
    }
   ],
   "source": [
    "dic[0]=\"Apple\"\n",
    "dic[1]=\"hard\"\n",
    "dic[3]=\"work\"\n",
    "print(dic)"
   ]
  },
  {
   "cell_type": "code",
   "execution_count": 13,
   "id": "dd67cde0-2a2a-4c9a-ac9f-236a1b01a29b",
   "metadata": {},
   "outputs": [
    {
     "data": {
      "text/plain": [
       "{1: 'hard', 2: 4, 3: 'work', 0: 'Apple', 'new_set': (1, 5, 8)}"
      ]
     },
     "execution_count": 13,
     "metadata": {},
     "output_type": "execute_result"
    }
   ],
   "source": [
    "dic['new_set']=1,5,8\n",
    "dic"
   ]
  },
  {
   "cell_type": "code",
   "execution_count": 15,
   "id": "a03f0ffe-bba2-49f4-8d8f-a96d197a7b39",
   "metadata": {},
   "outputs": [
    {
     "data": {
      "text/plain": [
       "{1: 'hard', 2: 4, 3: 'work', 0: 'google', 'new_set': (1, 5, 8)}"
      ]
     },
     "execution_count": 15,
     "metadata": {},
     "output_type": "execute_result"
    }
   ],
   "source": [
    "dic[0]=\"google\"\n",
    "dic"
   ]
  },
  {
   "cell_type": "code",
   "execution_count": 17,
   "id": "e74054bd-8fef-4b5e-b141-c07c18f4a89b",
   "metadata": {},
   "outputs": [
    {
     "name": "stdout",
     "output_type": "stream",
     "text": [
      "(1, 5, 8)\n",
      "hard\n"
     ]
    }
   ],
   "source": [
    "dic={0: 'google', 1: 'hard', 3: 'work', 'new_set': (1, 5, 8)}\n",
    "print(dic.get(\"new_set\"))\n",
    "print(dic.get(1))"
   ]
  },
  {
   "cell_type": "code",
   "execution_count": 19,
   "id": "f16cf7b7-9140-4d2f-8202-d1fd454e1961",
   "metadata": {},
   "outputs": [
    {
     "name": "stdout",
     "output_type": "stream",
     "text": [
      "{0: 'google', 1: 'hard', 3: 'work'}\n"
     ]
    }
   ],
   "source": [
    "dic.pop(\"new_set\")\n",
    "print(dic)"
   ]
  },
  {
   "cell_type": "code",
   "execution_count": 21,
   "id": "823ed8c3-383f-49ff-b92b-5a823deb7e01",
   "metadata": {},
   "outputs": [
    {
     "data": {
      "text/plain": [
       "{0: 'google', 1: 'hard'}"
      ]
     },
     "execution_count": 21,
     "metadata": {},
     "output_type": "execute_result"
    }
   ],
   "source": [
    "del dic[3]\n",
    "dic"
   ]
  },
  {
   "cell_type": "code",
   "execution_count": null,
   "id": "05cab0ed-1bd2-49f4-bc23-4a780c876a88",
   "metadata": {},
   "outputs": [],
   "source": []
  }
 ],
 "metadata": {
  "kernelspec": {
   "display_name": "Python 3 (ipykernel)",
   "language": "python",
   "name": "python3"
  },
  "language_info": {
   "codemirror_mode": {
    "name": "ipython",
    "version": 3
   },
   "file_extension": ".py",
   "mimetype": "text/x-python",
   "name": "python",
   "nbconvert_exporter": "python",
   "pygments_lexer": "ipython3",
   "version": "3.12.4"
  }
 },
 "nbformat": 4,
 "nbformat_minor": 5
}
