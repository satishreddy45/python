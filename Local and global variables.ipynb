{
 "cells": [
  {
   "cell_type": "code",
   "execution_count": 1,
   "id": "fba9017c-59fc-4222-8db4-454da59209ce",
   "metadata": {},
   "outputs": [],
   "source": [
    "#WAP to print local variable and global variable \n",
    "total=0;\n",
    "def sum(arg1,arg2):\n",
    "    total=arg1+arg2;\n",
    "    print(\"inside the function local total:\",total)\n",
    "    return total;"
   ]
  },
  {
   "cell_type": "code",
   "execution_count": 2,
   "id": "f8737c00-c593-429b-a3e8-dde6ba5b341c",
   "metadata": {},
   "outputs": [
    {
     "name": "stdout",
     "output_type": "stream",
     "text": [
      "inside the function local total: 30\n",
      "outside the function global total: 0\n"
     ]
    }
   ],
   "source": [
    "sum(10,20);\n",
    "print(\"outside the function global total:\",total)"
   ]
  },
  {
   "cell_type": "code",
   "execution_count": null,
   "id": "1191695f-6eb4-45aa-b39c-e8a78b672491",
   "metadata": {},
   "outputs": [],
   "source": []
  }
 ],
 "metadata": {
  "kernelspec": {
   "display_name": "Python 3 (ipykernel)",
   "language": "python",
   "name": "python3"
  },
  "language_info": {
   "codemirror_mode": {
    "name": "ipython",
    "version": 3
   },
   "file_extension": ".py",
   "mimetype": "text/x-python",
   "name": "python",
   "nbconvert_exporter": "python",
   "pygments_lexer": "ipython3",
   "version": "3.12.4"
  }
 },
 "nbformat": 4,
 "nbformat_minor": 5
}
