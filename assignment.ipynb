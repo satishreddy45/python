{
 "cells": [
  {
   "cell_type": "code",
   "execution_count": 7,
   "id": "21676aca-863e-4a02-a937-32488dad5366",
   "metadata": {},
   "outputs": [],
   "source": [
    "ist1 = [1, 2, 3, 4, 5, 6, 7, 8, 9, 0]\n",
    "list2 = [28, 56, 72, 55, 0, 101]\n",
    "\n",
    "def find_even_numbers(numbers):\n",
    "    even_numbers = []\n",
    "    for num in numbers:\n",
    "        if num % 2 == 0:\n",
    "            even_numbers.append(num)\n",
    "            return even_numbers"
   ]
  },
  {
   "cell_type": "code",
   "execution_count": 9,
   "id": "8b55fd5d-2a43-439f-9aac-de1bf57efc94",
   "metadata": {},
   "outputs": [
    {
     "name": "stdout",
     "output_type": "stream",
     "text": [
      "[2]\n",
      "[28]\n"
     ]
    }
   ],
   "source": [
    "print(find_even_numbers(list1))\n",
    "print(find_even_numbers(list2))"
   ]
  },
  {
   "cell_type": "code",
   "execution_count": null,
   "id": "cbaecd0d-9854-41e4-9ee7-fec4b8f133b8",
   "metadata": {},
   "outputs": [],
   "source": []
  }
 ],
 "metadata": {
  "kernelspec": {
   "display_name": "Python 3 (ipykernel)",
   "language": "python",
   "name": "python3"
  },
  "language_info": {
   "codemirror_mode": {
    "name": "ipython",
    "version": 3
   },
   "file_extension": ".py",
   "mimetype": "text/x-python",
   "name": "python",
   "nbconvert_exporter": "python",
   "pygments_lexer": "ipython3",
   "version": "3.12.4"
  }
 },
 "nbformat": 4,
 "nbformat_minor": 5
}
