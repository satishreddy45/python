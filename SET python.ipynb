{
 "cells": [
  {
   "cell_type": "code",
   "execution_count": 11,
   "id": "07184957-4d79-4769-a66b-f8ebe8afe04e",
   "metadata": {},
   "outputs": [
    {
     "data": {
      "text/plain": [
       "{5.6, 6, 'python'}"
      ]
     },
     "execution_count": 11,
     "metadata": {},
     "output_type": "execute_result"
    }
   ],
   "source": [
    "values = {6, 'python', 5.6}\n",
    "values"
   ]
  },
  {
   "cell_type": "code",
   "execution_count": 5,
   "id": "6558d4f1-ce50-4d8c-8650-2dccae0e443e",
   "metadata": {},
   "outputs": [
    {
     "data": {
      "text/plain": [
       "set"
      ]
     },
     "execution_count": 5,
     "metadata": {},
     "output_type": "execute_result"
    }
   ],
   "source": [
    "type(values)"
   ]
  },
  {
   "cell_type": "code",
   "execution_count": 7,
   "id": "34569728-4bf9-4f0b-9506-4403510c5781",
   "metadata": {},
   "outputs": [],
   "source": [
    "#why the elements are not printed in the order as we have given?\n",
    "#set is unordered"
   ]
  },
  {
   "cell_type": "code",
   "execution_count": 13,
   "id": "778efd92-86f4-4e09-a304-0242546296e9",
   "metadata": {},
   "outputs": [
    {
     "data": {
      "text/plain": [
       "dict"
      ]
     },
     "execution_count": 13,
     "metadata": {},
     "output_type": "execute_result"
    }
   ],
   "source": [
    "value = {}\n",
    "type(value)"
   ]
  },
  {
   "cell_type": "code",
   "execution_count": 15,
   "id": "d3e75434-dce2-4d0e-af87-9f7298e17129",
   "metadata": {},
   "outputs": [
    {
     "data": {
      "text/plain": [
       "set"
      ]
     },
     "execution_count": 15,
     "metadata": {},
     "output_type": "execute_result"
    }
   ],
   "source": [
    "values = set()\n",
    "type(values)"
   ]
  },
  {
   "cell_type": "code",
   "execution_count": 17,
   "id": "18637f20-b3ff-45bb-b722-e7f6e51c37c4",
   "metadata": {},
   "outputs": [
    {
     "data": {
      "text/plain": [
       "{1, 2, 3, 4, 5, 12, 45}"
      ]
     },
     "execution_count": 17,
     "metadata": {},
     "output_type": "execute_result"
    }
   ],
   "source": [
    "values = {12,1,2,3,3,2,45,4,5,3}\n",
    "values"
   ]
  },
  {
   "cell_type": "code",
   "execution_count": 19,
   "id": "06fbc796-2ad4-481e-b1b8-667aa9b42cf3",
   "metadata": {},
   "outputs": [
    {
     "data": {
      "text/plain": [
       "set"
      ]
     },
     "execution_count": 19,
     "metadata": {},
     "output_type": "execute_result"
    }
   ],
   "source": [
    "type(values)"
   ]
  },
  {
   "cell_type": "code",
   "execution_count": 21,
   "id": "074c97fd-b88d-41e4-bffa-bc450aba636e",
   "metadata": {},
   "outputs": [],
   "source": [
    "#creating a set"
   ]
  },
  {
   "cell_type": "code",
   "execution_count": 23,
   "id": "7929685e-ab7b-4b6d-b8ec-894d807b2cd2",
   "metadata": {},
   "outputs": [
    {
     "name": "stdout",
     "output_type": "stream",
     "text": [
      "set()\n"
     ]
    }
   ],
   "source": [
    "set1 = set()\n",
    "print(set1)"
   ]
  },
  {
   "cell_type": "code",
   "execution_count": 25,
   "id": "c8223f1f-3c60-46f8-8404-6e09e5296fb0",
   "metadata": {},
   "outputs": [
    {
     "data": {
      "text/plain": [
       "{2, 5, 9.4, 'PYTHON', 'a'}"
      ]
     },
     "execution_count": 25,
     "metadata": {},
     "output_type": "execute_result"
    }
   ],
   "source": [
    "value_set = {2,'PYTHON','a',5,9.4}\n",
    "value_set"
   ]
  },
  {
   "cell_type": "code",
   "execution_count": 27,
   "id": "492035da-8b27-4388-9e87-c92f9abc0aa4",
   "metadata": {},
   "outputs": [],
   "source": [
    "#wap to access an element in the set"
   ]
  },
  {
   "cell_type": "code",
   "execution_count": 29,
   "id": "ed01c8e8-8394-4e01-b096-813c68bc3122",
   "metadata": {},
   "outputs": [
    {
     "ename": "TypeError",
     "evalue": "'set' object is not subscriptable",
     "output_type": "error",
     "traceback": [
      "\u001b[1;31m---------------------------------------------------------------------------\u001b[0m",
      "\u001b[1;31mTypeError\u001b[0m                                 Traceback (most recent call last)",
      "Cell \u001b[1;32mIn[29], line 1\u001b[0m\n\u001b[1;32m----> 1\u001b[0m value_set[\u001b[38;5;241m0\u001b[39m]\n",
      "\u001b[1;31mTypeError\u001b[0m: 'set' object is not subscriptable"
     ]
    }
   ],
   "source": [
    "value_set[0]"
   ]
  },
  {
   "cell_type": "code",
   "execution_count": 31,
   "id": "c7b2799d-db42-4f9a-b0b8-af6ba8f7f19f",
   "metadata": {},
   "outputs": [
    {
     "data": {
      "text/plain": [
       "{2, 5, 9.4, 'PYTHON', 'a'}"
      ]
     },
     "execution_count": 31,
     "metadata": {},
     "output_type": "execute_result"
    }
   ],
   "source": [
    "value_set = {2, 'PYTHON', 'a', 9.4, 5}\n",
    "value_set"
   ]
  },
  {
   "cell_type": "code",
   "execution_count": 33,
   "id": "d8abe613-cc67-4c1e-98dc-4e4a888d9674",
   "metadata": {},
   "outputs": [
    {
     "ename": "AttributeError",
     "evalue": "'set' object has no attribute 'append'",
     "output_type": "error",
     "traceback": [
      "\u001b[1;31m---------------------------------------------------------------------------\u001b[0m",
      "\u001b[1;31mAttributeError\u001b[0m                            Traceback (most recent call last)",
      "Cell \u001b[1;32mIn[33], line 1\u001b[0m\n\u001b[1;32m----> 1\u001b[0m value_set\u001b[38;5;241m.\u001b[39mappend(\u001b[38;5;124m\"\u001b[39m\u001b[38;5;124mHello\u001b[39m\u001b[38;5;124m\"\u001b[39m)\n\u001b[0;32m      2\u001b[0m value_set\n",
      "\u001b[1;31mAttributeError\u001b[0m: 'set' object has no attribute 'append'"
     ]
    }
   ],
   "source": [
    "value_set.append(\"Hello\")\n",
    "value_set"
   ]
  },
  {
   "cell_type": "code",
   "execution_count": 35,
   "id": "7d6c0505-aa23-4d94-ba46-c8c0b7cc4811",
   "metadata": {},
   "outputs": [
    {
     "ename": "TypeError",
     "evalue": "unsupported operand type(s) for +: 'set' and 'str'",
     "output_type": "error",
     "traceback": [
      "\u001b[1;31m---------------------------------------------------------------------------\u001b[0m",
      "\u001b[1;31mTypeError\u001b[0m                                 Traceback (most recent call last)",
      "Cell \u001b[1;32mIn[35], line 1\u001b[0m\n\u001b[1;32m----> 1\u001b[0m value_set\u001b[38;5;241m=\u001b[39mvalue_set\u001b[38;5;241m+\u001b[39m\u001b[38;5;124m\"\u001b[39m\u001b[38;5;124mhello\u001b[39m\u001b[38;5;124m\"\u001b[39m\n\u001b[0;32m      2\u001b[0m value_set\n",
      "\u001b[1;31mTypeError\u001b[0m: unsupported operand type(s) for +: 'set' and 'str'"
     ]
    }
   ],
   "source": [
    "value_set=value_set+\"hello\"\n",
    "value_set"
   ]
  },
  {
   "cell_type": "code",
   "execution_count": 39,
   "id": "b47a4600-16cc-4bcd-a430-9e7a07867986",
   "metadata": {},
   "outputs": [
    {
     "data": {
      "text/plain": [
       "{2, 5, 9.4, 'PYTHON', 'a', 'hello'}"
      ]
     },
     "execution_count": 39,
     "metadata": {},
     "output_type": "execute_result"
    }
   ],
   "source": [
    "value_set.add(\"hello\")\n",
    "value_set"
   ]
  },
  {
   "cell_type": "code",
   "execution_count": 45,
   "id": "494fc2ce-8cdf-4087-967c-8d85e7ff0bfa",
   "metadata": {},
   "outputs": [
    {
     "ename": "TypeError",
     "evalue": "set.add() takes exactly one argument (2 given)",
     "output_type": "error",
     "traceback": [
      "\u001b[1;31m---------------------------------------------------------------------------\u001b[0m",
      "\u001b[1;31mTypeError\u001b[0m                                 Traceback (most recent call last)",
      "Cell \u001b[1;32mIn[45], line 1\u001b[0m\n\u001b[1;32m----> 1\u001b[0m value_set\u001b[38;5;241m.\u001b[39madd(\u001b[38;5;124m\"\u001b[39m\u001b[38;5;124mhello\u001b[39m\u001b[38;5;124m\"\u001b[39m,\u001b[38;5;124m\"\u001b[39m\u001b[38;5;124ma\u001b[39m\u001b[38;5;124m\"\u001b[39m)\n\u001b[0;32m      2\u001b[0m value_set\n",
      "\u001b[1;31mTypeError\u001b[0m: set.add() takes exactly one argument (2 given)"
     ]
    }
   ],
   "source": [
    "value_set.add(\"hello\",\"a\")\n",
    "value_set\n",
    "#we cant add two elements with add method"
   ]
  },
  {
   "cell_type": "code",
   "execution_count": 47,
   "id": "2e150232-cd9b-4cbe-98c0-05322ca697cb",
   "metadata": {},
   "outputs": [],
   "source": [
    "#deleting a element in a set"
   ]
  },
  {
   "cell_type": "code",
   "execution_count": 63,
   "id": "6e0fea2a-7810-445f-a8e7-ff34f679425f",
   "metadata": {},
   "outputs": [
    {
     "data": {
      "text/plain": [
       "{2, 5, 9.4, 'PYTHON', 'a'}"
      ]
     },
     "execution_count": 63,
     "metadata": {},
     "output_type": "execute_result"
    }
   ],
   "source": [
    "value_set = {2, 'PYTHON', 'a', 5, 9.4}\n",
    "value_set"
   ]
  },
  {
   "cell_type": "code",
   "execution_count": 65,
   "id": "8996b897-2314-43f9-886a-2b9bbfea31e8",
   "metadata": {},
   "outputs": [
    {
     "data": {
      "text/plain": [
       "{2, 5, 9.4, 'a'}"
      ]
     },
     "execution_count": 65,
     "metadata": {},
     "output_type": "execute_result"
    }
   ],
   "source": [
    "value_set.remove('PYTHON')\n",
    "value_set"
   ]
  },
  {
   "cell_type": "code",
   "execution_count": 53,
   "id": "116dbb0a-98c1-4d01-958c-73bb0ac97da2",
   "metadata": {},
   "outputs": [
    {
     "ename": "TypeError",
     "evalue": "set.remove() takes exactly one argument (2 given)",
     "output_type": "error",
     "traceback": [
      "\u001b[1;31m---------------------------------------------------------------------------\u001b[0m",
      "\u001b[1;31mTypeError\u001b[0m                                 Traceback (most recent call last)",
      "Cell \u001b[1;32mIn[53], line 1\u001b[0m\n\u001b[1;32m----> 1\u001b[0m value_set\u001b[38;5;241m.\u001b[39mremove(\u001b[38;5;124m'\u001b[39m\u001b[38;5;124mPYTHON\u001b[39m\u001b[38;5;124m'\u001b[39m, \u001b[38;5;124m'\u001b[39m\u001b[38;5;124ma\u001b[39m\u001b[38;5;124m'\u001b[39m)\n\u001b[0;32m      2\u001b[0m value_set\n",
      "\u001b[1;31mTypeError\u001b[0m: set.remove() takes exactly one argument (2 given)"
     ]
    }
   ],
   "source": [
    "value_set.remove('PYTHON', 'a')\n",
    "value_set\n",
    "#we cant remove 2 elements once"
   ]
  },
  {
   "cell_type": "code",
   "execution_count": 55,
   "id": "f6671236-dfc4-4fa5-b1d6-be2e69861265",
   "metadata": {},
   "outputs": [
    {
     "ename": "KeyError",
     "evalue": "6",
     "output_type": "error",
     "traceback": [
      "\u001b[1;31m---------------------------------------------------------------------------\u001b[0m",
      "\u001b[1;31mKeyError\u001b[0m                                  Traceback (most recent call last)",
      "Cell \u001b[1;32mIn[55], line 1\u001b[0m\n\u001b[1;32m----> 1\u001b[0m value_set\u001b[38;5;241m.\u001b[39mremove(\u001b[38;5;241m6\u001b[39m)\n",
      "\u001b[1;31mKeyError\u001b[0m: 6"
     ]
    }
   ],
   "source": [
    "value_set.remove(6)"
   ]
  },
  {
   "cell_type": "code",
   "execution_count": 67,
   "id": "5b547887-a680-419a-847d-a1e9871931d4",
   "metadata": {},
   "outputs": [
    {
     "data": {
      "text/plain": [
       "{2, 5, 'a'}"
      ]
     },
     "execution_count": 67,
     "metadata": {},
     "output_type": "execute_result"
    }
   ],
   "source": [
    "value_set.discard(9.4)\n",
    "value_set"
   ]
  },
  {
   "cell_type": "code",
   "execution_count": 69,
   "id": "63c65ad9-f6e4-4eda-92de-088af280d4f6",
   "metadata": {},
   "outputs": [],
   "source": [
    "#clear or delete the set"
   ]
  },
  {
   "cell_type": "code",
   "execution_count": 71,
   "id": "12164435-8f7f-47cf-825c-1c0f950bd540",
   "metadata": {},
   "outputs": [
    {
     "data": {
      "text/plain": [
       "{2, 5, 9.4, 'PYTHON', 'a'}"
      ]
     },
     "execution_count": 71,
     "metadata": {},
     "output_type": "execute_result"
    }
   ],
   "source": [
    "value_set = {2, 'PYTHON', 'a', 5, 9.4}\n",
    "value_set"
   ]
  },
  {
   "cell_type": "code",
   "execution_count": 73,
   "id": "741cba4b-8d6f-42ce-b910-3eb2aaef35f0",
   "metadata": {},
   "outputs": [
    {
     "data": {
      "text/plain": [
       "<function set.clear>"
      ]
     },
     "execution_count": 73,
     "metadata": {},
     "output_type": "execute_result"
    }
   ],
   "source": [
    "value_set.clear"
   ]
  },
  {
   "cell_type": "code",
   "execution_count": 7,
   "id": "b7b77073-da57-4a79-8571-b2878cf994e8",
   "metadata": {},
   "outputs": [
    {
     "ename": "NameError",
     "evalue": "name 'value_set' is not defined",
     "output_type": "error",
     "traceback": [
      "\u001b[1;31m---------------------------------------------------------------------------\u001b[0m",
      "\u001b[1;31mNameError\u001b[0m                                 Traceback (most recent call last)",
      "Cell \u001b[1;32mIn[7], line 2\u001b[0m\n\u001b[0;32m      1\u001b[0m \u001b[38;5;28;01mdel\u001b[39;00m value_set\n\u001b[1;32m----> 2\u001b[0m value_set\n",
      "\u001b[1;31mNameError\u001b[0m: name 'value_set' is not defined"
     ]
    }
   ],
   "source": [
    "del value_set\n",
    "value_set"
   ]
  },
  {
   "cell_type": "code",
   "execution_count": 9,
   "id": "6a708bdb-2e05-4c5a-8d42-5ef721e5c6e1",
   "metadata": {},
   "outputs": [
    {
     "name": "stdin",
     "output_type": "stream",
     "text": [
      " 4\n",
      " 12\n",
      " 26\n",
      " 10\n",
      " 6\n"
     ]
    }
   ],
   "source": [
    "value_set = set()\n",
    "n = int(input())\n",
    "for i in range(n):\n",
    "    value_set.add(int(input()))"
   ]
  },
  {
   "cell_type": "code",
   "execution_count": 13,
   "id": "39a991ec-9ddb-4246-a824-3586a528070f",
   "metadata": {},
   "outputs": [
    {
     "data": {
      "text/plain": [
       "{6, 10, 12, 26}"
      ]
     },
     "execution_count": 13,
     "metadata": {},
     "output_type": "execute_result"
    }
   ],
   "source": [
    "value_set"
   ]
  },
  {
   "cell_type": "code",
   "execution_count": 23,
   "id": "ee779b79-fc44-49e7-9dda-fe0f8cd62623",
   "metadata": {},
   "outputs": [
    {
     "name": "stdin",
     "output_type": "stream",
     "text": [
      " 5\n"
     ]
    },
    {
     "name": "stdout",
     "output_type": "stream",
     "text": [
      "False\n"
     ]
    }
   ],
   "source": [
    "#WAP to check whether the element got from the user is present in the value_set?\n",
    "value_set = {6,12,26,10}\n",
    "user_input = int(input())\n",
    "if user_input in value_set:\n",
    "    print(\"True\")\n",
    "else:\n",
    "    print(\"False\")"
   ]
  },
  {
   "cell_type": "code",
   "execution_count": 25,
   "id": "9887179a-49ae-4218-9bdc-4749636db7cd",
   "metadata": {},
   "outputs": [],
   "source": [
    "#union of two sets"
   ]
  },
  {
   "cell_type": "code",
   "execution_count": 33,
   "id": "c7a3becf-4655-48fc-ae8d-f1bb19f12816",
   "metadata": {},
   "outputs": [],
   "source": [
    "month1_set = {\"Jan\",\"Feb\",\"Dec\",\"Mar\"}\n",
    "month2_set = {\"May\",\"Jan\",\"Oct\",\"Mar\"}"
   ]
  },
  {
   "cell_type": "code",
   "execution_count": 35,
   "id": "8a1198d6-d04b-455e-b76c-c79f09121067",
   "metadata": {},
   "outputs": [
    {
     "data": {
      "text/plain": [
       "{'Dec', 'Feb', 'Jan', 'Mar'}"
      ]
     },
     "execution_count": 35,
     "metadata": {},
     "output_type": "execute_result"
    }
   ],
   "source": [
    "month1_set"
   ]
  },
  {
   "cell_type": "code",
   "execution_count": 37,
   "id": "0c3c7efb-0311-4195-a7c1-bd3ab65748de",
   "metadata": {},
   "outputs": [
    {
     "data": {
      "text/plain": [
       "{'Jan', 'Mar', 'May', 'Oct'}"
      ]
     },
     "execution_count": 37,
     "metadata": {},
     "output_type": "execute_result"
    }
   ],
   "source": [
    "month2_set"
   ]
  },
  {
   "cell_type": "code",
   "execution_count": 39,
   "id": "2310d050-6b9f-4ded-9cf9-64456e881840",
   "metadata": {},
   "outputs": [],
   "source": [
    "month=month1_set | month2_set"
   ]
  },
  {
   "cell_type": "code",
   "execution_count": 41,
   "id": "dbc7a8ab-81a2-46a4-b8fb-88bb010d1fe0",
   "metadata": {},
   "outputs": [
    {
     "data": {
      "text/plain": [
       "{'Dec', 'Feb', 'Jan', 'Mar', 'May', 'Oct'}"
      ]
     },
     "execution_count": 41,
     "metadata": {},
     "output_type": "execute_result"
    }
   ],
   "source": [
    "month"
   ]
  },
  {
   "cell_type": "code",
   "execution_count": 43,
   "id": "65e4ea40-ae5c-4760-aea3-7fdd4e628f7a",
   "metadata": {},
   "outputs": [],
   "source": [
    "month_common=month1_set.union(month2_set)"
   ]
  },
  {
   "cell_type": "code",
   "execution_count": 45,
   "id": "4ee8045f-7669-4636-b7b7-9da55c400855",
   "metadata": {},
   "outputs": [
    {
     "data": {
      "text/plain": [
       "{'Dec', 'Feb', 'Jan', 'Mar', 'May', 'Oct'}"
      ]
     },
     "execution_count": 45,
     "metadata": {},
     "output_type": "execute_result"
    }
   ],
   "source": [
    "month_common"
   ]
  },
  {
   "cell_type": "code",
   "execution_count": 55,
   "id": "58b227a0-1eec-4db1-848e-b142555dffcc",
   "metadata": {},
   "outputs": [],
   "source": [
    "common=month1_set & month2_set"
   ]
  },
  {
   "cell_type": "code",
   "execution_count": 59,
   "id": "3cc27b08-7e3b-45f5-bf33-96964093a44b",
   "metadata": {},
   "outputs": [
    {
     "data": {
      "text/plain": [
       "{'Jan', 'Mar'}"
      ]
     },
     "execution_count": 59,
     "metadata": {},
     "output_type": "execute_result"
    }
   ],
   "source": [
    "common"
   ]
  },
  {
   "cell_type": "code",
   "execution_count": 51,
   "id": "8945adba-49fa-41e7-849d-eb308ed84bc2",
   "metadata": {},
   "outputs": [],
   "source": [
    "month = month1_set.intersection(month2_set)"
   ]
  },
  {
   "cell_type": "code",
   "execution_count": 63,
   "id": "f563ee1b-7863-4745-bbf3-135974ae465e",
   "metadata": {},
   "outputs": [
    {
     "data": {
      "text/plain": [
       "{'Jan', 'Mar'}"
      ]
     },
     "execution_count": 63,
     "metadata": {},
     "output_type": "execute_result"
    }
   ],
   "source": [
    "month"
   ]
  },
  {
   "cell_type": "code",
   "execution_count": 65,
   "id": "5e0ff483-cf7e-43c3-bfbc-ac178f6604d8",
   "metadata": {},
   "outputs": [],
   "source": [
    "#difference of two sets"
   ]
  },
  {
   "cell_type": "code",
   "execution_count": 71,
   "id": "27a9c064-68c9-4634-bd85-779ece90c169",
   "metadata": {},
   "outputs": [
    {
     "data": {
      "text/plain": [
       "{'Dec', 'Feb'}"
      ]
     },
     "execution_count": 71,
     "metadata": {},
     "output_type": "execute_result"
    }
   ],
   "source": [
    "diff = (month1_set - month2_set)\n",
    "diff"
   ]
  },
  {
   "cell_type": "code",
   "execution_count": 75,
   "id": "b39c2744-ac16-41ad-9a54-346d66d1583e",
   "metadata": {},
   "outputs": [
    {
     "data": {
      "text/plain": [
       "{'May', 'Oct'}"
      ]
     },
     "execution_count": 75,
     "metadata": {},
     "output_type": "execute_result"
    }
   ],
   "source": [
    "diff = (month2_set - month1_set)\n",
    "diff"
   ]
  },
  {
   "cell_type": "code",
   "execution_count": 77,
   "id": "5d5bdca0-a602-4a28-bc62-bde2afd0ac19",
   "metadata": {},
   "outputs": [
    {
     "data": {
      "text/plain": [
       "{'Dec', 'Feb'}"
      ]
     },
     "execution_count": 77,
     "metadata": {},
     "output_type": "execute_result"
    }
   ],
   "source": [
    "x = month1_set.difference(month2_set)\n",
    "x"
   ]
  },
  {
   "cell_type": "code",
   "execution_count": 79,
   "id": "ccf70fb5-616e-44c5-a21b-b3cc5de99fb9",
   "metadata": {},
   "outputs": [
    {
     "data": {
      "text/plain": [
       "{'May', 'Oct'}"
      ]
     },
     "execution_count": 79,
     "metadata": {},
     "output_type": "execute_result"
    }
   ],
   "source": [
    "x = month2_set.difference(month1_set)\n",
    "x"
   ]
  },
  {
   "cell_type": "code",
   "execution_count": 81,
   "id": "a3cd6f1c-39ec-4ac5-9859-337f9b064713",
   "metadata": {},
   "outputs": [],
   "source": [
    "#set comparisions"
   ]
  },
  {
   "cell_type": "code",
   "execution_count": 1,
   "id": "70f94176-59b7-43bd-a8f2-ca28968f1f75",
   "metadata": {},
   "outputs": [],
   "source": [
    "month1_set = {\"Jan\",\"Feb\",\"Dec\",\"Mar\"}\n",
    "month2_set = {\"Jan\",\"Feb\"}"
   ]
  },
  {
   "cell_type": "code",
   "execution_count": 85,
   "id": "ab89ad4f-2ed2-4795-b37b-30bcc001b325",
   "metadata": {},
   "outputs": [
    {
     "data": {
      "text/plain": [
       "True"
      ]
     },
     "execution_count": 85,
     "metadata": {},
     "output_type": "execute_result"
    }
   ],
   "source": [
    "month1_set > month2_set"
   ]
  },
  {
   "cell_type": "code",
   "execution_count": 87,
   "id": "35e9951a-cd83-4e02-9e7f-59c5dd0c3e03",
   "metadata": {},
   "outputs": [
    {
     "data": {
      "text/plain": [
       "False"
      ]
     },
     "execution_count": 87,
     "metadata": {},
     "output_type": "execute_result"
    }
   ],
   "source": [
    "month1_set < month2_set"
   ]
  },
  {
   "cell_type": "code",
   "execution_count": 89,
   "id": "93f66c83-98df-499b-a07a-727883868878",
   "metadata": {},
   "outputs": [
    {
     "data": {
      "text/plain": [
       "4"
      ]
     },
     "execution_count": 89,
     "metadata": {},
     "output_type": "execute_result"
    }
   ],
   "source": [
    "len(month1_set)"
   ]
  },
  {
   "cell_type": "code",
   "execution_count": 91,
   "id": "8cea2bf7-8d06-4ca5-be79-264d2266e028",
   "metadata": {},
   "outputs": [
    {
     "data": {
      "text/plain": [
       "2"
      ]
     },
     "execution_count": 91,
     "metadata": {},
     "output_type": "execute_result"
    }
   ],
   "source": [
    "len(month2_set)"
   ]
  },
  {
   "cell_type": "code",
   "execution_count": 3,
   "id": "6b515273-25b2-4158-9fb8-3e35334598fe",
   "metadata": {},
   "outputs": [
    {
     "name": "stdout",
     "output_type": "stream",
     "text": [
      "True\n",
      "False\n",
      "False\n"
     ]
    }
   ],
   "source": [
    "print(month1_set>month2_set)\n",
    "print(month1_set<month2_set)\n",
    "print(month1_set==month2_set)"
   ]
  },
  {
   "cell_type": "code",
   "execution_count": null,
   "id": "49101a3f-f2c2-4ca0-8812-58736f1dc4dc",
   "metadata": {},
   "outputs": [],
   "source": []
  }
 ],
 "metadata": {
  "kernelspec": {
   "display_name": "Python 3 (ipykernel)",
   "language": "python",
   "name": "python3"
  },
  "language_info": {
   "codemirror_mode": {
    "name": "ipython",
    "version": 3
   },
   "file_extension": ".py",
   "mimetype": "text/x-python",
   "name": "python",
   "nbconvert_exporter": "python",
   "pygments_lexer": "ipython3",
   "version": "3.12.4"
  }
 },
 "nbformat": 4,
 "nbformat_minor": 5
}
