{
 "cells": [
  {
   "cell_type": "code",
   "execution_count": 1,
   "id": "819682ad-1a7c-40ec-8466-725ff0f54738",
   "metadata": {},
   "outputs": [
    {
     "name": "stdout",
     "output_type": "stream",
     "text": [
      "89\n"
     ]
    }
   ],
   "source": [
    "a=55\n",
    "b=34\n",
    "print(a+b)"
   ]
  },
  {
   "cell_type": "code",
   "execution_count": 2,
   "id": "06dae84b-fb37-47e7-a133-93cac2ac5302",
   "metadata": {},
   "outputs": [
    {
     "name": "stdout",
     "output_type": "stream",
     "text": [
      "21\n"
     ]
    }
   ],
   "source": [
    "print(a-b)"
   ]
  },
  {
   "cell_type": "code",
   "execution_count": 3,
   "id": "83a1e186-1849-42da-ba7b-f2543cfa740e",
   "metadata": {},
   "outputs": [
    {
     "name": "stdout",
     "output_type": "stream",
     "text": [
      "89\n",
      "21\n"
     ]
    }
   ],
   "source": [
    "a=55\n",
    "b=34\n",
    "print(a+b)\n",
    "print(a-b)"
   ]
  },
  {
   "cell_type": "code",
   "execution_count": 5,
   "id": "6e117cb0-0d51-4e9b-9b2e-087397a2f8c7",
   "metadata": {},
   "outputs": [
    {
     "name": "stdout",
     "output_type": "stream",
     "text": [
      "10.638297872340425\n",
      "150\n"
     ]
    }
   ],
   "source": [
    "a=2500\n",
    "b=235\n",
    "print(a/b)\n",
    "print(a%b)"
   ]
  },
  {
   "cell_type": "code",
   "execution_count": 16,
   "id": "4f2a717d-cacb-4c32-b58e-4a32663edab1",
   "metadata": {},
   "outputs": [
    {
     "name": "stdout",
     "output_type": "stream",
     "text": [
      "(10, 20)\n"
     ]
    }
   ],
   "source": [
    "x=10\n",
    "y=20\n",
    "add=x,y\n",
    "print(add)"
   ]
  },
  {
   "cell_type": "code",
   "execution_count": 22,
   "id": "dd94c370-92f6-4480-9993-55da373e3586",
   "metadata": {},
   "outputs": [
    {
     "name": "stdin",
     "output_type": "stream",
     "text": [
      "Enter the r value: 15.03\n",
      "Enter the c value 36.90\n"
     ]
    },
    {
     "name": "stdout",
     "output_type": "stream",
     "text": [
      "9.674811\n"
     ]
    }
   ],
   "source": [
    "r=float(input(\"Enter the r value:\"))\n",
    "a=float(input(\"Enter the c value\"))\n",
    "pi=3.14\n",
    "cir=2*pi*r*(a/360)\n",
    "print(cir)"
   ]
  },
  {
   "cell_type": "code",
   "execution_count": 23,
   "id": "07b93453-7231-429c-85dd-d4ad42b67022",
   "metadata": {},
   "outputs": [
    {
     "name": "stdin",
     "output_type": "stream",
     "text": [
      "Enter the r radius: 9\n"
     ]
    },
    {
     "name": "stdout",
     "output_type": "stream",
     "text": [
      "area of circle is: 254.34\n"
     ]
    }
   ],
   "source": [
    "pi=3.14\n",
    "r=int(input(\"Enter the r radius:\"))\n",
    "a=r*r*pi\n",
    "print(\"area of circle is:\",a)\n"
   ]
  },
  {
   "cell_type": "code",
   "execution_count": 34,
   "id": "c7f46217-0569-419a-8484-a10fa8734e61",
   "metadata": {},
   "outputs": [
    {
     "name": "stdin",
     "output_type": "stream",
     "text": [
      " 2\n",
      " 3\n"
     ]
    },
    {
     "name": "stdout",
     "output_type": "stream",
     "text": [
      "3.605551275463989\n"
     ]
    }
   ],
   "source": [
    "import math\n",
    "\n",
    "s1=int(input())\n",
    "s2=int(input())\n",
    "hypo=math.sqrt(s1*s1+s2*s2)\n",
    "print(hypo)"
   ]
  },
  {
   "cell_type": "code",
   "execution_count": 37,
   "id": "171388fd-85d0-44ab-9390-5be8044a1f0b",
   "metadata": {},
   "outputs": [
    {
     "name": "stdin",
     "output_type": "stream",
     "text": [
      " 5\n",
      " 5\n"
     ]
    },
    {
     "name": "stdout",
     "output_type": "stream",
     "text": [
      "7.07\n"
     ]
    }
   ],
   "source": [
    "import math\n",
    "side1=int(input())\n",
    "side2=int(input())\n",
    "\n",
    "hypo=(side1*side1)+(side2*side2)\n",
    "out=math.sqrt(hypo)\n",
    "\n",
    "out\n",
    "\n",
    "print(round(out,2))\n"
   ]
  },
  {
   "cell_type": "code",
   "execution_count": 38,
   "id": "2a0c63c9-32ea-4c68-b5b0-d39bf6ffb8fb",
   "metadata": {},
   "outputs": [
    {
     "name": "stdin",
     "output_type": "stream",
     "text": [
      " 7\n",
      " 7\n"
     ]
    },
    {
     "name": "stdout",
     "output_type": "stream",
     "text": [
      "9.899494936611665\n"
     ]
    }
   ],
   "source": [
    "import math\n",
    "s1=int(input())\n",
    "s2=int(input())\n",
    "hypo=math.sqrt(s1*s1+s2*s2)\n",
    "print(hypo)"
   ]
  },
  {
   "cell_type": "code",
   "execution_count": 41,
   "id": "b241fe23-7e8f-4908-81f8-6b725d625d13",
   "metadata": {},
   "outputs": [
    {
     "name": "stdin",
     "output_type": "stream",
     "text": [
      "enter the r radius: 2.9\n"
     ]
    },
    {
     "name": "stdout",
     "output_type": "stream",
     "text": [
      "The circumference of a circle: 18.212\n"
     ]
    }
   ],
   "source": [
    "pi=3.14\n",
    "r=float(input(\"enter the r radius:\"))\n",
    "c=2*pi*r\n",
    "print(\"The circumference of a circle:\",c)\n"
   ]
  },
  {
   "cell_type": "code",
   "execution_count": 1,
   "id": "e53ef450-732e-472a-b8ad-ccf10b05d11c",
   "metadata": {},
   "outputs": [
    {
     "name": "stdout",
     "output_type": "stream",
     "text": [
      "20\n",
      "False\n"
     ]
    }
   ],
   "source": [
    "a=10\n",
    "b=20\n",
    "c=10 and 20\n",
    "d=5>4 and 3<2\n",
    "print(c)\n",
    "print(d)"
   ]
  },
  {
   "cell_type": "code",
   "execution_count": 2,
   "id": "16d51861-b5fb-44f9-a233-64dcc2929ad0",
   "metadata": {},
   "outputs": [
    {
     "name": "stdout",
     "output_type": "stream",
     "text": [
      "False\n"
     ]
    }
   ],
   "source": [
    "a=10\n",
    "c=not a\n",
    "print(c)"
   ]
  },
  {
   "cell_type": "code",
   "execution_count": 4,
   "id": "a984f8f3-872c-4745-8d1a-50cbcd838921",
   "metadata": {},
   "outputs": [
    {
     "name": "stdout",
     "output_type": "stream",
     "text": [
      "False\n"
     ]
    }
   ],
   "source": [
    "x=\"nokesh\"\n",
    "print(\"a\"in x)"
   ]
  },
  {
   "cell_type": "code",
   "execution_count": 5,
   "id": "9460a402-5fcb-4f66-a991-e17da322974e",
   "metadata": {},
   "outputs": [
    {
     "name": "stdout",
     "output_type": "stream",
     "text": [
      "True\n"
     ]
    }
   ],
   "source": [
    "x=\"nokesh\"\n",
    "print(\"g\" not in x)"
   ]
  },
  {
   "cell_type": "code",
   "execution_count": 1,
   "id": "c265f51c-6e22-453e-a3b8-696832b01de4",
   "metadata": {},
   "outputs": [
    {
     "name": "stdin",
     "output_type": "stream",
     "text": [
      " B\n",
      " N\n",
      " 20\n"
     ]
    }
   ],
   "source": [
    "first_name=str(input())\n",
    "last_name=str(input())\n",
    "age=int(input())"
   ]
  },
  {
   "cell_type": "code",
   "execution_count": 3,
   "id": "fd731e10-2914-4882-80b3-e9fe75455288",
   "metadata": {},
   "outputs": [
    {
     "name": "stdout",
     "output_type": "stream",
     "text": [
      "20\n",
      "10\n"
     ]
    }
   ],
   "source": [
    "a=10\n",
    "b=20\n",
    "a,b =b,a\n",
    "print(a)\n",
    "print(b)"
   ]
  },
  {
   "cell_type": "code",
   "execution_count": 18,
   "id": "f37959fd-368d-4f63-8334-1e8cdb169a0e",
   "metadata": {},
   "outputs": [
    {
     "name": "stdin",
     "output_type": "stream",
     "text": [
      "enter the celsius 35\n",
      "enter the fahrentheat 308.5\n"
     ]
    },
    {
     "name": "stdout",
     "output_type": "stream",
     "text": [
      "95.0\n",
      "427.1111111111111\n"
     ]
    }
   ],
   "source": [
    "x=float(input(\"enter the celsius\"))\n",
    "y=float(input(\"enter the fahrentheat\"))\n",
    "x=x*9/5+32\n",
    "y=(y-32)*5/9+273.5\n",
    "print(x)\n",
    "print(y)"
   ]
  },
  {
   "cell_type": "code",
   "execution_count": 14,
   "id": "a88f49fd-a31f-4786-90d8-e5dd80fcab28",
   "metadata": {},
   "outputs": [
    {
     "name": "stdout",
     "output_type": "stream",
     "text": [
      "7326.0\n"
     ]
    }
   ],
   "source": [
    "x=5*99*(3+0.7)*8/2\n",
    "print(x)"
   ]
  },
  {
   "cell_type": "code",
   "execution_count": 16,
   "id": "c435e9f3-42d1-43a6-8157-8feb7fbeaef0",
   "metadata": {},
   "outputs": [
    {
     "name": "stdout",
     "output_type": "stream",
     "text": [
      "186.20000000000002\n"
     ]
    }
   ],
   "source": [
    "y=7+7*(8*8*2/5)\n",
    "print(y)"
   ]
  },
  {
   "cell_type": "code",
   "execution_count": 17,
   "id": "91f8033f-8a64-4d57-bc82-8dd8656118a6",
   "metadata": {},
   "outputs": [
    {
     "name": "stdout",
     "output_type": "stream",
     "text": [
      "100.0\n"
     ]
    }
   ],
   "source": [
    "z=(7*3+4)*(8/2)\n",
    "print(z)"
   ]
  },
  {
   "cell_type": "code",
   "execution_count": 1,
   "id": "e36be7ec-3901-45b3-a840-317150a1cec9",
   "metadata": {},
   "outputs": [
    {
     "name": "stdout",
     "output_type": "stream",
     "text": [
      "200\n",
      "100\n"
     ]
    }
   ],
   "source": [
    "a=100\n",
    "b=200\n",
    "a,b =b,a\n",
    "print(a)\n",
    "print(b)"
   ]
  },
  {
   "cell_type": "code",
   "execution_count": 10,
   "id": "31b1cecc-c99a-421e-b0ee-7e6c5ed3f3a9",
   "metadata": {},
   "outputs": [
    {
     "name": "stdin",
     "output_type": "stream",
     "text": [
      " 10\n",
      " 20\n"
     ]
    },
    {
     "name": "stdout",
     "output_type": "stream",
     "text": [
      "20\n",
      "10\n"
     ]
    }
   ],
   "source": [
    "a=input()\n",
    "b=input()\n",
    "temp=a\n",
    "a=b\n",
    "b=temp\n",
    "print(a)\n",
    "print(b)"
   ]
  },
  {
   "cell_type": "code",
   "execution_count": 11,
   "id": "7c0c0fb5-db65-4962-9ea9-2cc4a764ba66",
   "metadata": {},
   "outputs": [
    {
     "name": "stdout",
     "output_type": "stream",
     "text": [
      "10\n",
      "5\n"
     ]
    }
   ],
   "source": [
    "a = 5\n",
    "b = 10\n",
    "c = a + b\n",
    "b = c - b\n",
    "a = c - a\n",
    "print(a) \n",
    "print(b)"
   ]
  },
  {
   "cell_type": "code",
   "execution_count": 12,
   "id": "6b820030-b3e2-49d8-ad8d-82fab3632cd5",
   "metadata": {},
   "outputs": [
    {
     "name": "stdout",
     "output_type": "stream",
     "text": [
      "100\n",
      "50\n"
     ]
    }
   ],
   "source": [
    "a = 50\n",
    "b = 100\n",
    "c = a ^ b\n",
    "b = c ^ b\n",
    "a = c ^ a\n",
    "print(a) \n",
    "print(b)"
   ]
  },
  {
   "cell_type": "code",
   "execution_count": 13,
   "id": "b9eaae6a-2931-4d8b-af7b-f131b9c2fcea",
   "metadata": {},
   "outputs": [
    {
     "name": "stdout",
     "output_type": "stream",
     "text": [
      "20\n",
      "15.0\n"
     ]
    }
   ],
   "source": [
    "a=15\n",
    "b=20\n",
    "c=a*b\n",
    "b=c/b\n",
    "a=c//a\n",
    "print(a)\n",
    "print(b)"
   ]
  },
  {
   "cell_type": "code",
   "execution_count": null,
   "id": "8b9f41bd-1655-4291-ab9b-97768fddc97d",
   "metadata": {},
   "outputs": [],
   "source": []
  }
 ],
 "metadata": {
  "kernelspec": {
   "display_name": "Python 3 (ipykernel)",
   "language": "python",
   "name": "python3"
  },
  "language_info": {
   "codemirror_mode": {
    "name": "ipython",
    "version": 3
   },
   "file_extension": ".py",
   "mimetype": "text/x-python",
   "name": "python",
   "nbconvert_exporter": "python",
   "pygments_lexer": "ipython3",
   "version": "3.12.4"
  }
 },
 "nbformat": 4,
 "nbformat_minor": 5
}
