{
 "cells": [
  {
   "cell_type": "code",
   "execution_count": 2,
   "id": "ae291710-2c4a-4a29-9775-97b2d3dc2d86",
   "metadata": {},
   "outputs": [],
   "source": [
    "def fun():\n",
    "    print(\"welcome to python\")"
   ]
  },
  {
   "cell_type": "code",
   "execution_count": 4,
   "id": "ea933857-2fb4-4100-a3ec-3a30effb53e3",
   "metadata": {},
   "outputs": [
    {
     "name": "stdout",
     "output_type": "stream",
     "text": [
      "welcome to python\n"
     ]
    }
   ],
   "source": [
    "fun() #first call"
   ]
  },
  {
   "cell_type": "code",
   "execution_count": 24,
   "id": "e3dcb6de-d6d1-43bc-9b05-5fa0bd067df5",
   "metadata": {},
   "outputs": [],
   "source": [
    "#WAP to add two numbers using function\n",
    "def sum(n1,n2):\n",
    "    s=n1+n2\n",
    "    return s"
   ]
  },
  {
   "cell_type": "code",
   "execution_count": 25,
   "id": "efa62ece-fbc5-4883-be55-c08f967255c1",
   "metadata": {},
   "outputs": [
    {
     "name": "stdin",
     "output_type": "stream",
     "text": [
      " 10\n",
      " 20\n"
     ]
    },
    {
     "name": "stdout",
     "output_type": "stream",
     "text": [
      "30\n"
     ]
    }
   ],
   "source": [
    "x=int(input())\n",
    "y=int(input())\n",
    "print(sum(x,y))"
   ]
  },
  {
   "cell_type": "code",
   "execution_count": 26,
   "id": "58d7738b-c5d0-4da6-92ee-31434679ee95",
   "metadata": {},
   "outputs": [],
   "source": [
    "#WAP to add two numbers using Lambda function\n",
    "sum=lambda n1,n2:n1+n2"
   ]
  },
  {
   "cell_type": "code",
   "execution_count": 27,
   "id": "eaa19b62-a242-46ed-b858-0eeb104b5299",
   "metadata": {},
   "outputs": [
    {
     "name": "stdin",
     "output_type": "stream",
     "text": [
      " 100\n",
      " 200\n"
     ]
    },
    {
     "name": "stdout",
     "output_type": "stream",
     "text": [
      "300\n"
     ]
    }
   ],
   "source": [
    "x=int(input())\n",
    "y=int(input())\n",
    "print(sum(x,y))"
   ]
  },
  {
   "cell_type": "code",
   "execution_count": 36,
   "id": "6f321d20-31ed-4ff7-a7e1-87793f6011d4",
   "metadata": {},
   "outputs": [],
   "source": [
    "#WAP to print local variable and global variable \n",
    "total=0;\n",
    "def sum(arg1,arg2):\n",
    "    total=arg1+arg2;\n",
    "    print(\"inside the function local total:\",total)\n",
    "    return total;"
   ]
  },
  {
   "cell_type": "code",
   "execution_count": 35,
   "id": "c84d325f-9f83-470c-b635-035413e2a17f",
   "metadata": {},
   "outputs": [
    {
     "name": "stdout",
     "output_type": "stream",
     "text": [
      "inside the function local total: 30\n",
      "outside the function global total: 0\n"
     ]
    }
   ],
   "source": [
    "sum(10,20);\n",
    "print(\"outside the function global total:\",total)"
   ]
  },
  {
   "cell_type": "code",
   "execution_count": 37,
   "id": "9414a52e-710c-4143-92cf-83b4b0882839",
   "metadata": {},
   "outputs": [
    {
     "name": "stdout",
     "output_type": "stream",
     "text": [
      "30\n"
     ]
    }
   ],
   "source": [
    "a=[10,20,30]\n",
    "print(max(a))"
   ]
  },
  {
   "cell_type": "code",
   "execution_count": 38,
   "id": "dbda9a5e-1e91-4afe-a806-644b536bc045",
   "metadata": {},
   "outputs": [
    {
     "name": "stdout",
     "output_type": "stream",
     "text": [
      "10\n"
     ]
    }
   ],
   "source": [
    "print(min(12,19,10))"
   ]
  },
  {
   "cell_type": "code",
   "execution_count": null,
   "id": "7235123e-27b5-411e-9fcd-4a1002e647f6",
   "metadata": {},
   "outputs": [],
   "source": []
  }
 ],
 "metadata": {
  "kernelspec": {
   "display_name": "Python 3 (ipykernel)",
   "language": "python",
   "name": "python3"
  },
  "language_info": {
   "codemirror_mode": {
    "name": "ipython",
    "version": 3
   },
   "file_extension": ".py",
   "mimetype": "text/x-python",
   "name": "python",
   "nbconvert_exporter": "python",
   "pygments_lexer": "ipython3",
   "version": "3.12.4"
  }
 },
 "nbformat": 4,
 "nbformat_minor": 5
}
