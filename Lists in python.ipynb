{
 "cells": [
  {
   "cell_type": "code",
   "execution_count": 1,
   "id": "57e0268d-c6e0-49a1-8354-30fceff8df20",
   "metadata": {},
   "outputs": [
    {
     "name": "stdout",
     "output_type": "stream",
     "text": [
      "[10, 20, 30, 40, 50]\n"
     ]
    }
   ],
   "source": [
    "#list creation\n",
    "l1=[10,20,30,40,50]\n",
    "print(l1)"
   ]
  },
  {
   "cell_type": "code",
   "execution_count": 2,
   "id": "f33be68c-2fa0-44ab-b8ec-b066fcd44799",
   "metadata": {},
   "outputs": [
    {
     "name": "stdout",
     "output_type": "stream",
     "text": [
      "[10.5, 20.7, 30.2, 40.2, 50.23]\n"
     ]
    }
   ],
   "source": [
    "l2=[10.5,20.7,30.2,40.2,50.23]\n",
    "print(l2)"
   ]
  },
  {
   "cell_type": "code",
   "execution_count": 3,
   "id": "2bf51c96-a6de-4834-a4d5-2887487fb2b3",
   "metadata": {},
   "outputs": [
    {
     "data": {
      "text/plain": [
       "['a', 'b', 'c', 'd']"
      ]
     },
     "execution_count": 3,
     "metadata": {},
     "output_type": "execute_result"
    }
   ],
   "source": [
    "l3=['a','b','c','d']\n",
    "l3"
   ]
  },
  {
   "cell_type": "code",
   "execution_count": 4,
   "id": "43d16fd8-a19e-4a33-9741-79d13903331d",
   "metadata": {},
   "outputs": [
    {
     "data": {
      "text/plain": [
       "['apple', 'banana', 'orange']"
      ]
     },
     "execution_count": 4,
     "metadata": {},
     "output_type": "execute_result"
    }
   ],
   "source": [
    "l4=['apple','banana','orange']\n",
    "l4"
   ]
  },
  {
   "cell_type": "code",
   "execution_count": 7,
   "id": "1fa70b68-03b1-4627-b4d5-01d962f54e16",
   "metadata": {},
   "outputs": [
    {
     "data": {
      "text/plain": [
       "[1, 2, 3, 2.5, 3.4, 'nokesh']"
      ]
     },
     "execution_count": 7,
     "metadata": {},
     "output_type": "execute_result"
    }
   ],
   "source": [
    "l5=[1,2,3,2.5,3.4,'nokesh']\n",
    "l5"
   ]
  },
  {
   "cell_type": "code",
   "execution_count": 10,
   "id": "92afbefd-8f83-408a-9433-e83dc33cab38",
   "metadata": {},
   "outputs": [
    {
     "data": {
      "text/plain": [
       "[[1, 2], ['a', 'b']]"
      ]
     },
     "execution_count": 10,
     "metadata": {},
     "output_type": "execute_result"
    }
   ],
   "source": [
    "l6=[[1,2],['a','b']]\n",
    "l6"
   ]
  },
  {
   "cell_type": "code",
   "execution_count": 15,
   "id": "6325ff84-cc63-48e9-8c66-ee6c1285b0a1",
   "metadata": {},
   "outputs": [
    {
     "data": {
      "text/plain": [
       "[['a', 'b', [10.5, 11.5]]]"
      ]
     },
     "execution_count": 15,
     "metadata": {},
     "output_type": "execute_result"
    }
   ],
   "source": [
    "l6=[['a','b',[10.5,11.5]]]\n",
    "l6"
   ]
  },
  {
   "cell_type": "code",
   "execution_count": 1,
   "id": "5dc876a9-9fa7-4dba-8a2d-71076dfcbe84",
   "metadata": {},
   "outputs": [
    {
     "name": "stdout",
     "output_type": "stream",
     "text": [
      "[12.5, 'a', 'python']\n"
     ]
    }
   ],
   "source": [
    "# List Slicing\n",
    "a=[1,12.5,'a',\"python\"]\n",
    "print(a[1:])"
   ]
  },
  {
   "cell_type": "code",
   "execution_count": 26,
   "id": "80568e72-8b48-493e-8045-2ac5f296cd73",
   "metadata": {},
   "outputs": [
    {
     "name": "stdout",
     "output_type": "stream",
     "text": [
      "[12.5]\n"
     ]
    }
   ],
   "source": [
    "a=[1,12.5,'a',\"python\"]\n",
    "print(a[1:2:3])"
   ]
  },
  {
   "cell_type": "code",
   "execution_count": 27,
   "id": "e79f8eed-95b0-4a26-8cfe-f49e61edfe5e",
   "metadata": {},
   "outputs": [
    {
     "name": "stdout",
     "output_type": "stream",
     "text": [
      "[[0, 0, 0, 0, 0]]\n"
     ]
    }
   ],
   "source": [
    "a=[0]*5\n",
    "print([a])"
   ]
  },
  {
   "cell_type": "code",
   "execution_count": 2,
   "id": "4b9a7964-1fd2-4b24-a91f-035421051222",
   "metadata": {},
   "outputs": [
    {
     "name": "stdout",
     "output_type": "stream",
     "text": [
      "['a', 'b', 'c', 'd', 'python', 'list']\n"
     ]
    }
   ],
   "source": [
    "#List operations\n",
    "letter=['a','b','c','d']\n",
    "stg=['python','list']\n",
    "conc=letter + stg\n",
    "print(conc)"
   ]
  },
  {
   "cell_type": "code",
   "execution_count": 30,
   "id": "f7cfc89b-1c32-4a38-b704-fb5302ebe8fa",
   "metadata": {},
   "outputs": [
    {
     "name": "stdout",
     "output_type": "stream",
     "text": [
      "['p', 'y', 't', 'h', 'o', 'n']\n"
     ]
    }
   ],
   "source": [
    "a=list(\"python\")\n",
    "print(a)"
   ]
  },
  {
   "cell_type": "code",
   "execution_count": 32,
   "id": "b7228989-d8fb-485a-86a1-f7932f1959df",
   "metadata": {},
   "outputs": [
    {
     "name": "stdout",
     "output_type": "stream",
     "text": [
      "[1, 2, 3, 4]\n",
      "1\n",
      "[2, 3, 4]\n"
     ]
    }
   ],
   "source": [
    "num=[1,2,3,4]\n",
    "print(num)\n",
    "a, *other=num\n",
    "print(a)\n",
    "print(other)"
   ]
  },
  {
   "cell_type": "code",
   "execution_count": 1,
   "id": "9c96212b-f642-4e0f-b0e8-8a4ab9479fe7",
   "metadata": {},
   "outputs": [
    {
     "name": "stdout",
     "output_type": "stream",
     "text": [
      "[1, 2, 3, 4]\n",
      "1\n",
      "[3, 4]\n"
     ]
    }
   ],
   "source": [
    "num=[1,2,3,4]\n",
    "print(num)\n",
    "a,b, *other=num\n",
    "print(a)\n",
    "print(other)"
   ]
  },
  {
   "cell_type": "code",
   "execution_count": 2,
   "id": "f1ac6a86-b8e5-4ff5-adbd-f298e0c23368",
   "metadata": {},
   "outputs": [
    {
     "name": "stdout",
     "output_type": "stream",
     "text": [
      "apple\n",
      "orange\n",
      "banana\n",
      "grapes\n",
      "cherry\n"
     ]
    }
   ],
   "source": [
    "l1=['apple','orange','banana','grapes','cherry']\n",
    "for i in l1:\n",
    "    print(i)"
   ]
  },
  {
   "cell_type": "code",
   "execution_count": 29,
   "id": "0253c3fe-052d-4da6-9035-f0b7c62c315b",
   "metadata": {},
   "outputs": [
    {
     "name": "stdout",
     "output_type": "stream",
     "text": [
      "apple\n",
      "banana\n",
      "grapes\n",
      "cherry\n"
     ]
    }
   ],
   "source": [
    "l1=['apple','orange','banana','grapes','cherry']\n",
    "for i in l1:\n",
    "    if i=='orange':\n",
    "        continue\n",
    "    print(i)"
   ]
  },
  {
   "cell_type": "code",
   "execution_count": 28,
   "id": "8e04348b-b45d-43ad-995e-7b4bdb59ac12",
   "metadata": {},
   "outputs": [
    {
     "name": "stdout",
     "output_type": "stream",
     "text": [
      "10\n",
      "20\n",
      "30\n",
      "40\n",
      "50\n"
     ]
    }
   ],
   "source": [
    "l2=[2,4,6,8,10]\n",
    "for i in l2:\n",
    "    print(i*5)"
   ]
  },
  {
   "cell_type": "code",
   "execution_count": 34,
   "id": "9ef147ed-9cd4-4dd9-a93f-8a3ac22037ea",
   "metadata": {},
   "outputs": [
    {
     "name": "stdout",
     "output_type": "stream",
     "text": [
      "[1, 2, 3, 4]\n",
      "[1, 2, 3, 4, 7]\n"
     ]
    }
   ],
   "source": [
    "n=[1,2,3,4]\n",
    "print(n)\n",
    "n.append(7) #adding the element at last\n",
    "print(n)"
   ]
  },
  {
   "cell_type": "code",
   "execution_count": 36,
   "id": "f967cd19-ccc0-4051-9f80-13f980f14e26",
   "metadata": {},
   "outputs": [
    {
     "name": "stdout",
     "output_type": "stream",
     "text": [
      "[1, 2, 3, 4, 'python', 'mca']\n"
     ]
    }
   ],
   "source": [
    "n2=[1,2,3,4]\n",
    "stg=['python','mca']\n",
    "n2.extend(stg)\n",
    "print(n2)"
   ]
  },
  {
   "cell_type": "code",
   "execution_count": 42,
   "id": "ed099e1c-6872-4394-91b4-e9ab999c0fa5",
   "metadata": {},
   "outputs": [
    {
     "name": "stdout",
     "output_type": "stream",
     "text": [
      "['nokesh', 1, 2, 3, 4, 'python']\n"
     ]
    }
   ],
   "source": [
    "num=[1,2,3,4]\n",
    "stg=['python']\n",
    "num.extend(stg)\n",
    "num.insert(0,'nokesh')\n",
    "print(num)"
   ]
  },
  {
   "cell_type": "code",
   "execution_count": 43,
   "id": "571ace8c-6082-4376-88f9-d76a55d8e8fb",
   "metadata": {},
   "outputs": [
    {
     "name": "stdout",
     "output_type": "stream",
     "text": [
      "[1, 2, 3, 'python']\n"
     ]
    }
   ],
   "source": [
    "num=[1,2,3,4]\n",
    "stg=['python']\n",
    "num.extend(stg)\n",
    "num.remove(4)\n",
    "print(num)"
   ]
  },
  {
   "cell_type": "code",
   "execution_count": 44,
   "id": "ea7085d6-173e-45f1-bd6b-fabe6c321bb2",
   "metadata": {},
   "outputs": [
    {
     "name": "stdout",
     "output_type": "stream",
     "text": [
      "[1, 2, 3, 4]\n"
     ]
    }
   ],
   "source": [
    "num=[1,2,3,4]\n",
    "stg=['python']\n",
    "num.extend(stg)\n",
    "num.remove('python')\n",
    "print(num)"
   ]
  },
  {
   "cell_type": "code",
   "execution_count": 46,
   "id": "c58f91aa-08de-407f-8474-343231f6831d",
   "metadata": {},
   "outputs": [
    {
     "name": "stdout",
     "output_type": "stream",
     "text": [
      "['a', 'b', 'f', 'y', 'z']\n"
     ]
    }
   ],
   "source": [
    "#Sorting list\n",
    "a=['z','y','f','a','b']\n",
    "a.sort()\n",
    "print(a)"
   ]
  },
  {
   "cell_type": "code",
   "execution_count": 47,
   "id": "f298cf86-f99c-4677-86af-6a472e60ef21",
   "metadata": {},
   "outputs": [
    {
     "name": "stdout",
     "output_type": "stream",
     "text": [
      "['z', 'y', 'f', 'b', 'a']\n"
     ]
    }
   ],
   "source": [
    "a=['z','y','f','a','b']\n",
    "a.sort(reverse=True)\n",
    "print(a)"
   ]
  },
  {
   "cell_type": "code",
   "execution_count": 48,
   "id": "eb0a54a4-e15a-4955-a3a4-798555c37ea7",
   "metadata": {},
   "outputs": [
    {
     "name": "stdout",
     "output_type": "stream",
     "text": [
      "['a', 'b', 'f', 'y', 'z']\n"
     ]
    }
   ],
   "source": [
    "a=['z','y','f','a','b']\n",
    "a.sort(reverse=False)\n",
    "print(a)"
   ]
  },
  {
   "cell_type": "code",
   "execution_count": 49,
   "id": "50d74ed4-eacf-46b5-a8a6-3d51be314482",
   "metadata": {},
   "outputs": [
    {
     "name": "stdout",
     "output_type": "stream",
     "text": [
      "6\n"
     ]
    }
   ],
   "source": [
    "#built in functions\n",
    "b=[9,17,14,4,90,55]\n",
    "print(len(b))"
   ]
  },
  {
   "cell_type": "code",
   "execution_count": 50,
   "id": "28720a74-e066-4bc5-a8fe-2aa9c752b364",
   "metadata": {},
   "outputs": [
    {
     "name": "stdout",
     "output_type": "stream",
     "text": [
      "4\n"
     ]
    }
   ],
   "source": [
    "b=[9,17,14,4,90,55]\n",
    "print(min(b))"
   ]
  },
  {
   "cell_type": "code",
   "execution_count": 51,
   "id": "0b18f4c0-52d4-4615-890e-c43a7751a77e",
   "metadata": {},
   "outputs": [
    {
     "name": "stdout",
     "output_type": "stream",
     "text": [
      "90\n"
     ]
    }
   ],
   "source": [
    "b=[9,17,14,4,90,55]\n",
    "print(max(b))"
   ]
  },
  {
   "cell_type": "code",
   "execution_count": 52,
   "id": "e32c8557-6de8-4b6f-a4af-e78b13c64d5d",
   "metadata": {},
   "outputs": [
    {
     "name": "stdout",
     "output_type": "stream",
     "text": [
      "189\n"
     ]
    }
   ],
   "source": [
    "b=[9,17,14,4,90,55]\n",
    "print(sum(b))"
   ]
  },
  {
   "cell_type": "code",
   "execution_count": 56,
   "id": "68819a4b-9e4d-4ef0-87f0-ba1416b46b69",
   "metadata": {},
   "outputs": [
    {
     "name": "stdout",
     "output_type": "stream",
     "text": [
      "31.5\n"
     ]
    }
   ],
   "source": [
    "a=[9,17,14,4,90,55]\n",
    "b=(sum(a)/len(a))\n",
    "print(b)"
   ]
  },
  {
   "cell_type": "code",
   "execution_count": 57,
   "id": "263b5fb4-1514-4f92-866b-a6bc1f8a8f69",
   "metadata": {},
   "outputs": [
    {
     "name": "stdout",
     "output_type": "stream",
     "text": [
      "[1, 2, 3, 4, 5, 6, 7, 8, 9, 10]\n"
     ]
    }
   ],
   "source": [
    "l1=list(range(1,11))\n",
    "print(list(l1))"
   ]
  },
  {
   "cell_type": "code",
   "execution_count": 62,
   "id": "76f38bea-e94a-430d-9cb0-d8b0c1974974",
   "metadata": {},
   "outputs": [
    {
     "name": "stdout",
     "output_type": "stream",
     "text": [
      "[1, 3, 5, 7, 9]\n"
     ]
    }
   ],
   "source": [
    "odd=l1[::2]\n",
    "print(odd)"
   ]
  },
  {
   "cell_type": "code",
   "execution_count": 63,
   "id": "33c63b49-5f8b-4108-a11e-215ebc823223",
   "metadata": {},
   "outputs": [
    {
     "name": "stdout",
     "output_type": "stream",
     "text": [
      "[2, 4, 6, 8, 10]\n"
     ]
    }
   ],
   "source": [
    "even=l1[1::2]\n",
    "print(even)"
   ]
  },
  {
   "cell_type": "code",
   "execution_count": null,
   "id": "ec0a9bd1-96c8-4f4a-b459-0df80e512845",
   "metadata": {},
   "outputs": [],
   "source": []
  }
 ],
 "metadata": {
  "kernelspec": {
   "display_name": "Python 3 (ipykernel)",
   "language": "python",
   "name": "python3"
  },
  "language_info": {
   "codemirror_mode": {
    "name": "ipython",
    "version": 3
   },
   "file_extension": ".py",
   "mimetype": "text/x-python",
   "name": "python",
   "nbconvert_exporter": "python",
   "pygments_lexer": "ipython3",
   "version": "3.12.4"
  }
 },
 "nbformat": 4,
 "nbformat_minor": 5
}
