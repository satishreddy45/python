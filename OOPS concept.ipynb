{
 "cells": [
  {
   "cell_type": "code",
   "execution_count": 34,
   "id": "ddc690fd-432c-42fe-8ae1-cc43ee52a8fc",
   "metadata": {},
   "outputs": [
    {
     "name": "stdout",
     "output_type": "stream",
     "text": [
      "Welcome to oops concept\n"
     ]
    }
   ],
   "source": [
    "class pyhton:\n",
    "    def fun(self):\n",
    "        print(\"Welcome to oops concept\")\n",
    "pyt = pyhton()\n",
    "pyt.fun()"
   ]
  },
  {
   "cell_type": "code",
   "execution_count": 62,
   "id": "bfc2af78-07dc-454b-9810-8842056be1b3",
   "metadata": {},
   "outputs": [
    {
     "name": "stdout",
     "output_type": "stream",
     "text": [
      "Name: AUDI Id: 2000000\n"
     ]
    }
   ],
   "source": [
    "class Car:\n",
    "    'Common_car'\n",
    "    car=0\n",
    "    def __init__(self,name,id):\n",
    "        self.name=name\n",
    "        self.id=id\n",
    "        Car.car+=1\n",
    "    def printcardata(self):\n",
    "        print(\"Name:\",self.name,\"Id:\",self.id)\n",
    "\n",
    "c=Car(\"AUDI\",2000000)\n",
    "c.printcardata()"
   ]
  },
  {
   "cell_type": "code",
   "execution_count": 64,
   "id": "79081df4-2a59-4189-b632-fdf547a8f1b6",
   "metadata": {},
   "outputs": [
    {
     "name": "stdout",
     "output_type": "stream",
     "text": [
      "Name: Satish Age: 23 Salary: 1000000\n"
     ]
    }
   ],
   "source": [
    "class Employee:\n",
    "    def set_data(self,n,a,s):\n",
    "        self.name=n\n",
    "        self.age=a\n",
    "        self.salary=s\n",
    "    def display_data(self):\n",
    "        print(\"Name:\",self.name,\"Age:\",self.age,\"Salary:\",self.salary)\n",
    "e1=Employee()\n",
    "e1.set_data(\"Satish\",23,1000000)\n",
    "e1.display_data()"
   ]
  },
  {
   "cell_type": "code",
   "execution_count": 66,
   "id": "05db06bf-def4-44d3-b3c4-55083b6264ef",
   "metadata": {},
   "outputs": [
    {
     "name": "stdout",
     "output_type": "stream",
     "text": [
      "Birds Names: Eagle\n"
     ]
    }
   ],
   "source": [
    "class Birds:\n",
    "    def set_data(self,name):\n",
    "        self.name=name\n",
    "    def display_data(self):\n",
    "        print(\"Birds Names:\",self.name)\n",
    "b1=Birds()\n",
    "b1.set_data(\"Eagle\")\n",
    "b1.display_data()"
   ]
  },
  {
   "cell_type": "code",
   "execution_count": 76,
   "id": "5a44e393-1110-4e60-8bd5-70135f95586d",
   "metadata": {},
   "outputs": [
    {
     "name": "stdout",
     "output_type": "stream",
     "text": [
      "positive\n"
     ]
    }
   ],
   "source": [
    "class Number:\n",
    "    def __init__(self,n):\n",
    "       self.number=n\n",
    "\n",
    "    def check_num(self):\n",
    "       if self.number >0:\n",
    "           print(\"positive\")\n",
    "       else:\n",
    "           print(\"negative\")\n",
    "\n",
    "n1= Number(26)\n",
    "n1.check_num()"
   ]
  },
  {
   "cell_type": "code",
   "execution_count": 80,
   "id": "047864af-6f6c-449c-8728-3b7b8372cb50",
   "metadata": {},
   "outputs": [
    {
     "name": "stdout",
     "output_type": "stream",
     "text": [
      "hello\n",
      "10\n"
     ]
    }
   ],
   "source": [
    "class Test:\n",
    "    x=10\n",
    "    def __init__(self):\n",
    "        print(\"hello\")\n",
    "t=Test()\n",
    "print(Test.x)"
   ]
  },
  {
   "cell_type": "code",
   "execution_count": 95,
   "id": "fb4864ed-4c08-4314-a0db-d8142416bc63",
   "metadata": {},
   "outputs": [
    {
     "name": "stdout",
     "output_type": "stream",
     "text": [
      "Total Cars:  3\n",
      "Name: AUDI Id:  2000000\n",
      "Name: BENZ Id:  3000000\n",
      "Name: BMW Id:  1000000\n"
     ]
    }
   ],
   "source": [
    "class Car:\n",
    "    'Common_car'\n",
    "    car=0\n",
    "    def __init__(self,name,id):\n",
    "        self.name=name\n",
    "        self.id=id\n",
    "        Car.car+=1\n",
    "    def printCardata(self):\n",
    "        print(\"Name:\",self.name,\"Id: \",self.id)\n",
    "c=Car(\"AUDI\",2000000)\n",
    "c1=Car(\"BENZ\",3000000)\n",
    "c2=Car(\"BMW\",1000000)\n",
    "print(\"Total Cars: \",Car.car)\n",
    "c.printCardata()\n",
    "c1.printCardata()\n",
    "c2.printCardata()"
   ]
  },
  {
   "cell_type": "code",
   "execution_count": 105,
   "id": "eb4e9d50-9fa0-4e6b-a8be-f73f4667da53",
   "metadata": {},
   "outputs": [
    {
     "name": "stdout",
     "output_type": "stream",
     "text": [
      "Car\n"
     ]
    }
   ],
   "source": [
    "class test:\n",
    "    def __init__(self):\n",
    "        self.variable = 'Car'\n",
    "        self.Change(self.variable)\n",
    "    def Change(self, var):\n",
    "        var = 'Bike'\n",
    "obj=test()\n",
    "print(obj.variable)"
   ]
  },
  {
   "cell_type": "code",
   "execution_count": 107,
   "id": "7b4ff922-5eb0-4216-8f0d-3f5b128830fd",
   "metadata": {},
   "outputs": [
    {
     "name": "stdout",
     "output_type": "stream",
     "text": [
      "Bike\n",
      "Car\n"
     ]
    }
   ],
   "source": [
    "class test:\n",
    "    def __init__(self):\n",
    "        self.variable = 'Car'\n",
    "        self.Change(self.variable)\n",
    "    def Change(self, var):\n",
    "        var = 'Bike'\n",
    "        print(var)\n",
    "obj=test()\n",
    "print(obj.variable)"
   ]
  },
  {
   "cell_type": "code",
   "execution_count": 1,
   "id": "cbf8cb40-6237-47b1-a77f-4474dd28e219",
   "metadata": {},
   "outputs": [
    {
     "name": "stdout",
     "output_type": "stream",
     "text": [
      "English is powerful\n",
      "100km\n"
     ]
    }
   ],
   "source": [
    "class Car:\n",
    "    def speed(self):\n",
    "        print(\"100km\")\n",
    "class Audi(Car):\n",
    "    def engine(self):\n",
    "        print(\"English is powerful\")\n",
    "c=Audi()\n",
    "c.engine()\n",
    "c.speed()"
   ]
  },
  {
   "cell_type": "code",
   "execution_count": 5,
   "id": "b892140c-1a64-47f2-8d8a-ea90c0ad2f7c",
   "metadata": {},
   "outputs": [
    {
     "name": "stdout",
     "output_type": "stream",
     "text": [
      "bark\n",
      "meow\n"
     ]
    }
   ],
   "source": [
    "#Overriding\n",
    "class Animal:\n",
    "    def sound(self):\n",
    "        print(\"some generic sound\")\n",
    "class Dog(Animal):\n",
    "    def sound(self):\n",
    "        print(\"bark\")\n",
    "class Cat(Animal):\n",
    "    def sound(self):\n",
    "        print(\"meow\")\n",
    "dog=Dog()\n",
    "cat=Cat()\n",
    "dog.sound()\n",
    "cat.sound()"
   ]
  },
  {
   "cell_type": "code",
   "execution_count": 1,
   "id": "ca75a981-af47-4ef0-8de4-1a80b22f9893",
   "metadata": {},
   "outputs": [
    {
     "name": "stdin",
     "output_type": "stream",
     "text": [
      " 10\n",
      " 2\n"
     ]
    },
    {
     "name": "stdout",
     "output_type": "stream",
     "text": [
      "Addition: 12\n",
      "Subtraction: 8\n",
      "Multiplication: 20\n",
      "Floor Division: 5\n"
     ]
    }
   ],
   "source": [
    "#WAP to create a Advanced Calculator using single inheritance\n",
    "class Calculator:\n",
    "    def add(self,num1,num2):\n",
    "        self.num1=num1;\n",
    "        self.num2=num2;\n",
    "        return self.num1+self.num2\n",
    "    def sub(self,num1,num2):\n",
    "        return num1-num2;\n",
    "class AdvancedCalculator(Calculator):\n",
    "    def mul(self,num1,num2):\n",
    "        print(\"Multiplication:\",num1*num2)\n",
    "    def div(self,num1,num2):\n",
    "        return num1//num2;\n",
    "x=AdvancedCalculator()\n",
    "num1=int(input())\n",
    "num2=int(input())\n",
    "print(\"Addition: %d\"%(x.add(num1,num2)))\n",
    "print(\"Subtraction:\",x.sub(num1,num2))\n",
    "x.mul(num1,num2)\n",
    "print(\"Floor Division: %d\"%(x.div(num1,num2)))"
   ]
  },
  {
   "cell_type": "code",
   "execution_count": 3,
   "id": "d24b4547-1f4d-47f2-953d-e3ee5389bd90",
   "metadata": {},
   "outputs": [],
   "source": []
  }
 ],
 "metadata": {
  "kernelspec": {
   "display_name": "Python 3 (ipykernel)",
   "language": "python",
   "name": "python3"
  },
  "language_info": {
   "codemirror_mode": {
    "name": "ipython",
    "version": 3
   },
   "file_extension": ".py",
   "mimetype": "text/x-python",
   "name": "python",
   "nbconvert_exporter": "python",
   "pygments_lexer": "ipython3",
   "version": "3.12.4"
  }
 },
 "nbformat": 4,
 "nbformat_minor": 5
}
