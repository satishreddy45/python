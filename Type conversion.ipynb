{
 "cells": [
  {
   "cell_type": "code",
   "execution_count": 1,
   "id": "da6b8efd-cec6-43ad-9885-d3f664b29d9a",
   "metadata": {},
   "outputs": [
    {
     "name": "stdout",
     "output_type": "stream",
     "text": [
      "10\n",
      "<class 'str'>\n"
     ]
    }
   ],
   "source": [
    "num = 10\n",
    "num_str = str(num)  # Convert int to str\n",
    "print(num_str)      # Output: '10'\n",
    "print(type(num_str))  # Output: <class 'str'>"
   ]
  },
  {
   "cell_type": "code",
   "execution_count": 2,
   "id": "fe4a740e-cfa2-402b-87da-a2e9d61bdeab",
   "metadata": {},
   "outputs": [
    {
     "name": "stdout",
     "output_type": "stream",
     "text": [
      "10.5\n",
      "<class 'str'>\n"
     ]
    }
   ],
   "source": [
    "num = 10.5\n",
    "num_str = str(num)  # Convert Float to str\n",
    "print(num_str)      # Output: '10'\n",
    "print(type(num_str))  # Output: <class 'str'>"
   ]
  },
  {
   "cell_type": "code",
   "execution_count": 3,
   "id": "6a241b99-70ea-4b8a-b940-e1f751453582",
   "metadata": {},
   "outputs": [
    {
     "name": "stdout",
     "output_type": "stream",
     "text": [
      "True\n",
      "<class 'str'>\n"
     ]
    }
   ],
   "source": [
    "num = True\n",
    "num_str = str(num)  # Convert bool to str\n",
    "print(num_str)      # Output: '10'\n",
    "print(type(num_str))  # Output: <class 'str'>"
   ]
  },
  {
   "cell_type": "code",
   "execution_count": 4,
   "id": "fc323952-1d22-47b8-9263-da1f8289c0cf",
   "metadata": {},
   "outputs": [
    {
     "name": "stdout",
     "output_type": "stream",
     "text": [
      "(1+2j)\n",
      "<class 'str'>\n"
     ]
    }
   ],
   "source": [
    "num = 1 + 2j\n",
    "num_str = str(num)  # Convert complex to str\n",
    "print(num_str)      # Output: '10'\n",
    "print(type(num_str))  # Output: <class 'str'>"
   ]
  },
  {
   "cell_type": "code",
   "execution_count": 5,
   "id": "e5c97e81-7f79-4d7e-baab-ce1f0c5e5a07",
   "metadata": {},
   "outputs": [
    {
     "name": "stdout",
     "output_type": "stream",
     "text": [
      "25\n",
      "<class 'int'>\n"
     ]
    }
   ],
   "source": [
    "num_str = \"25\"\n",
    "num = int(num_str)  # Convert str to int\n",
    "print(num)          # Output: 25\n",
    "print(type(num))    # Output: <class 'int'>"
   ]
  },
  {
   "cell_type": "code",
   "execution_count": 6,
   "id": "a60cb46e-20b1-47a1-a037-c565946ffa16",
   "metadata": {},
   "outputs": [
    {
     "name": "stdout",
     "output_type": "stream",
     "text": [
      "10\n",
      "<class 'int'>\n"
     ]
    }
   ],
   "source": [
    "num_float = 10.7\n",
    "num_int = int(num_float)  # Convert float to int (truncates decimal part)\n",
    "print(num_int)            # Output: 10\n",
    "print(type(num_int))      # Output: <class 'int'>"
   ]
  },
  {
   "cell_type": "code",
   "execution_count": 7,
   "id": "a1dffe36-b561-4856-88a9-64350a95b08a",
   "metadata": {},
   "outputs": [
    {
     "name": "stdout",
     "output_type": "stream",
     "text": [
      "5.0\n",
      "<class 'float'>\n"
     ]
    }
   ],
   "source": [
    "num_int = 5\n",
    "num_float = float(num_int)  # Convert int to float\n",
    "print(num_float)            # Output: 5.0\n",
    "print(type(num_float))      # Output: <class 'float'>"
   ]
  },
  {
   "cell_type": "code",
   "execution_count": 8,
   "id": "33a0cf50-25b4-4e85-a1a7-6f857643fcb9",
   "metadata": {},
   "outputs": [
    {
     "name": "stdout",
     "output_type": "stream",
     "text": [
      "7.8\n",
      "<class 'float'>\n"
     ]
    }
   ],
   "source": [
    "num_str = \"7.8\"\n",
    "num_float = float(num_str)  # Convert str to float\n",
    "print(num_float)            # Output: 7.8\n",
    "print(type(num_float))      # Output: <class 'float'>"
   ]
  },
  {
   "cell_type": "code",
   "execution_count": 9,
   "id": "778fb626-08cd-4005-84a1-113f232add7d",
   "metadata": {},
   "outputs": [
    {
     "name": "stdout",
     "output_type": "stream",
     "text": [
      "1.0\n",
      "<class 'float'>\n"
     ]
    }
   ],
   "source": [
    "num_str = True\n",
    "num_float = float(num_str)  # Convert Bool to float\n",
    "print(num_float)            # Output: 7.8\n",
    "print(type(num_float))      # Output: <class 'float'>"
   ]
  },
  {
   "cell_type": "code",
   "execution_count": 10,
   "id": "54ca1641-dbeb-4095-8bda-effe931d0146",
   "metadata": {},
   "outputs": [
    {
     "name": "stdout",
     "output_type": "stream",
     "text": [
      "9.5\n",
      "<class 'str'>\n"
     ]
    }
   ],
   "source": [
    "num_float = 9.5\n",
    "num_str = str(num_float)    # Convert float to str\n",
    "print(num_str)              # Output: '9.5'\n",
    "print(type(num_str))        # Output: <class 'str'>"
   ]
  },
  {
   "cell_type": "code",
   "execution_count": 11,
   "id": "33eb9231-b882-4841-b4ac-dc1e63d5338c",
   "metadata": {},
   "outputs": [
    {
     "name": "stdout",
     "output_type": "stream",
     "text": [
      "(1, 2, 3)\n",
      "<class 'tuple'>\n"
     ]
    }
   ],
   "source": [
    "my_list = [1, 2, 3]\n",
    "my_tuple = tuple(my_list)  # Convert list to tuple\n",
    "print(my_tuple)            # Output: (1, 2, 3)\n",
    "print(type(my_tuple))      # Output: <class 'tuple'>"
   ]
  },
  {
   "cell_type": "code",
   "execution_count": 12,
   "id": "201f876d-025c-4174-9daa-30fb26afcbab",
   "metadata": {},
   "outputs": [
    {
     "name": "stdout",
     "output_type": "stream",
     "text": [
      "[4, 5, 6]\n",
      "<class 'list'>\n"
     ]
    }
   ],
   "source": [
    "my_tuple = (4, 5, 6)\n",
    "my_list = list(my_tuple)  # Convert tuple to list\n",
    "print(my_list)            # Output: [4, 5, 6]\n",
    "print(type(my_list))      # Output: <class 'list'>"
   ]
  },
  {
   "cell_type": "code",
   "execution_count": 13,
   "id": "00bba069-0760-43d6-ab04-e6dc019c7be1",
   "metadata": {},
   "outputs": [
    {
     "name": "stdout",
     "output_type": "stream",
     "text": [
      "2348435\n"
     ]
    }
   ],
   "source": [
    "a = \"2348435\"\n",
    "b = int(a)\n",
    "print(b)"
   ]
  },
  {
   "cell_type": "code",
   "execution_count": 14,
   "id": "9f323ba2-c009-40e7-b5bf-70a5a7605180",
   "metadata": {},
   "outputs": [
    {
     "data": {
      "text/plain": [
       "1"
      ]
     },
     "execution_count": 14,
     "metadata": {},
     "output_type": "execute_result"
    }
   ],
   "source": [
    "g = True\n",
    "f = int(g)\n",
    "f"
   ]
  },
  {
   "cell_type": "code",
   "execution_count": 15,
   "id": "27984ab9-895b-47a3-a529-ea4aceccae45",
   "metadata": {},
   "outputs": [
    {
     "name": "stdout",
     "output_type": "stream",
     "text": [
      "(2+0j) <class 'complex'>\n"
     ]
    }
   ],
   "source": [
    "x = complex(2)\n",
    "print(x,type(x))"
   ]
  },
  {
   "cell_type": "code",
   "execution_count": 16,
   "id": "c4cf79ff-c789-45e2-aed9-726ecf5af316",
   "metadata": {},
   "outputs": [
    {
     "name": "stdout",
     "output_type": "stream",
     "text": [
      "(7.7+0j) <class 'complex'>\n"
     ]
    }
   ],
   "source": [
    "x = complex(7.7)\n",
    "print(x,type(x))"
   ]
  },
  {
   "cell_type": "code",
   "execution_count": 17,
   "id": "6b931246-21e4-48b3-aef3-0406d8323738",
   "metadata": {},
   "outputs": [
    {
     "name": "stdout",
     "output_type": "stream",
     "text": [
      "0j <class 'complex'>\n"
     ]
    }
   ],
   "source": [
    "x = complex(False)\n",
    "print(x,type(x))"
   ]
  },
  {
   "cell_type": "code",
   "execution_count": null,
   "id": "d80de631-9bde-4c18-b9e8-4c20b32709b5",
   "metadata": {},
   "outputs": [],
   "source": []
  }
 ],
 "metadata": {
  "kernelspec": {
   "display_name": "Python 3 (ipykernel)",
   "language": "python",
   "name": "python3"
  },
  "language_info": {
   "codemirror_mode": {
    "name": "ipython",
    "version": 3
   },
   "file_extension": ".py",
   "mimetype": "text/x-python",
   "name": "python",
   "nbconvert_exporter": "python",
   "pygments_lexer": "ipython3",
   "version": "3.12.2"
  }
 },
 "nbformat": 4,
 "nbformat_minor": 5
}
