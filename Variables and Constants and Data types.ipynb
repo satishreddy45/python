{
 "cells": [
  {
   "cell_type": "code",
   "execution_count": null,
   "id": "88af270b-a774-43ce-acdc-efef6810397f",
   "metadata": {},
   "outputs": [],
   "source": [
    "#Variables"
   ]
  },
  {
   "cell_type": "code",
   "execution_count": 1,
   "id": "8ac0ac25-3abe-40e4-b4c5-ae0441c41e9f",
   "metadata": {},
   "outputs": [],
   "source": [
    "Bike_name = \"Royal Enfield\""
   ]
  },
  {
   "cell_type": "code",
   "execution_count": 2,
   "id": "293be4f0-f1c3-4ed5-8cb6-cff9164968c0",
   "metadata": {},
   "outputs": [
    {
     "data": {
      "text/plain": [
       "'Royal Enfield'"
      ]
     },
     "execution_count": 2,
     "metadata": {},
     "output_type": "execute_result"
    }
   ],
   "source": [
    "Bike_name"
   ]
  },
  {
   "cell_type": "code",
   "execution_count": 3,
   "id": "dad2d155-ddb9-4d23-807e-ac254967926f",
   "metadata": {},
   "outputs": [
    {
     "name": "stdout",
     "output_type": "stream",
     "text": [
      "Your result =  50\n"
     ]
    }
   ],
   "source": [
    "a = 10\n",
    "b = a * 5\n",
    "c = \"Your result = \"\n",
    "print(c,b)"
   ]
  },
  {
   "cell_type": "code",
   "execution_count": 4,
   "id": "7be7d2ab-8bb8-43f4-aaab-37db83c5b69d",
   "metadata": {},
   "outputs": [],
   "source": [
    "x,y,z = 50,\"Apple\",6"
   ]
  },
  {
   "cell_type": "code",
   "execution_count": null,
   "id": "9c002d77-c720-4576-85c5-6c4fcf68cac5",
   "metadata": {},
   "outputs": [],
   "source": [
    "#Constant"
   ]
  },
  {
   "cell_type": "code",
   "execution_count": 5,
   "id": "ab943c00-1c70-4bfc-8e7e-c3e2bbc7a30e",
   "metadata": {},
   "outputs": [],
   "source": [
    "import math"
   ]
  },
  {
   "cell_type": "code",
   "execution_count": 6,
   "id": "13890325-375b-4e64-bb55-59e9df487ef6",
   "metadata": {},
   "outputs": [
    {
     "data": {
      "text/plain": [
       "2.718281828459045"
      ]
     },
     "execution_count": 6,
     "metadata": {},
     "output_type": "execute_result"
    }
   ],
   "source": [
    "math.e ## Euler's number"
   ]
  },
  {
   "cell_type": "code",
   "execution_count": 7,
   "id": "f0fc0c7a-7fc4-403d-b628-445b1ec4e564",
   "metadata": {},
   "outputs": [
    {
     "data": {
      "text/plain": [
       "3.141592653589793"
      ]
     },
     "execution_count": 7,
     "metadata": {},
     "output_type": "execute_result"
    }
   ],
   "source": [
    "math.pi"
   ]
  },
  {
   "cell_type": "code",
   "execution_count": 8,
   "id": "f6237775-2088-4e87-948c-28c632f3b8ee",
   "metadata": {},
   "outputs": [
    {
     "data": {
      "text/plain": [
       "inf"
      ]
     },
     "execution_count": 8,
     "metadata": {},
     "output_type": "execute_result"
    }
   ],
   "source": [
    "math.inf "
   ]
  },
  {
   "cell_type": "code",
   "execution_count": 9,
   "id": "6a9eb3eb-dfae-41cd-988d-434465a6e638",
   "metadata": {},
   "outputs": [
    {
     "name": "stdout",
     "output_type": "stream",
     "text": [
      "314.1592653589793\n"
     ]
    }
   ],
   "source": [
    "p = 3.141592653589793\n",
    "r = 10\n",
    "print(p * r * r)"
   ]
  },
  {
   "cell_type": "code",
   "execution_count": 10,
   "id": "331e9f4e-137f-4f35-8e41-c15ef0c0ba50",
   "metadata": {},
   "outputs": [],
   "source": [
    "## print the constant infinity value of positive and negative "
   ]
  },
  {
   "cell_type": "code",
   "execution_count": 11,
   "id": "230acf18-4df0-467a-a045-22dd7916e0b2",
   "metadata": {},
   "outputs": [
    {
     "name": "stdout",
     "output_type": "stream",
     "text": [
      "Positive Infinity: inf\n",
      "Negative Infinity: -inf\n"
     ]
    }
   ],
   "source": [
    "import math\n",
    "\n",
    "positive_infinity = math.inf\n",
    "print(\"Positive Infinity:\", positive_infinity)\n",
    "\n",
    "negative_infinity = -math.inf\n",
    "print(\"Negative Infinity:\", negative_infinity)"
   ]
  },
  {
   "cell_type": "code",
   "execution_count": 12,
   "id": "661e9a59-d2c9-49d3-a5e8-4d42e830e420",
   "metadata": {},
   "outputs": [
    {
     "name": "stdout",
     "output_type": "stream",
     "text": [
      "2337.5\n"
     ]
    }
   ],
   "source": [
    "#Calculate the simple interest and display result\n",
    "Amount = 5000\n",
    "ri = 8.5\n",
    "tm = 5.5\n",
    "\n",
    "si = (Amount * ri * tm)/100\n",
    "print(si)"
   ]
  },
  {
   "cell_type": "code",
   "execution_count": 13,
   "id": "828ba799-4f7f-4568-8668-01e6ac55b07e",
   "metadata": {},
   "outputs": [
    {
     "name": "stdout",
     "output_type": "stream",
     "text": [
      "(7+8j) + (3.1+6j) = (10.1+14j)\n"
     ]
    }
   ],
   "source": [
    "a = (7 + 8j)\n",
    "b = (3.1 + 6j)\n",
    "print(a ,\"+\", b ,\"=\", (a+ b))\n"
   ]
  },
  {
   "cell_type": "code",
   "execution_count": 14,
   "id": "b4b0ed18-c29a-4a86-946b-436f613d39ab",
   "metadata": {},
   "outputs": [
    {
     "name": "stdout",
     "output_type": "stream",
     "text": [
      "False\n",
      "True\n",
      "False\n"
     ]
    }
   ],
   "source": [
    "x, y, z = 5,0,9\n",
    "\n",
    "print(y > z)\n",
    "print(x < z)\n",
    "print(y == z)"
   ]
  },
  {
   "cell_type": "code",
   "execution_count": null,
   "id": "625d51ab-b41d-4d66-b265-e460a74f82c8",
   "metadata": {},
   "outputs": [],
   "source": [
    "#Data Types"
   ]
  },
  {
   "cell_type": "code",
   "execution_count": 15,
   "id": "dce45f9a-2111-49b9-8c8a-adbc492dde6f",
   "metadata": {},
   "outputs": [
    {
     "data": {
      "text/plain": [
       "int"
      ]
     },
     "execution_count": 15,
     "metadata": {},
     "output_type": "execute_result"
    }
   ],
   "source": [
    "a = 100\n",
    "type(a)"
   ]
  },
  {
   "cell_type": "code",
   "execution_count": 16,
   "id": "adf03032-ce2d-4ff7-9d26-51a4f65cda98",
   "metadata": {},
   "outputs": [
    {
     "data": {
      "text/plain": [
       "float"
      ]
     },
     "execution_count": 16,
     "metadata": {},
     "output_type": "execute_result"
    }
   ],
   "source": [
    "b = 10.23\n",
    "type(b)"
   ]
  },
  {
   "cell_type": "code",
   "execution_count": 17,
   "id": "f9debb69-fcc1-44a9-b5f1-ca90fc5206bc",
   "metadata": {},
   "outputs": [
    {
     "data": {
      "text/plain": [
       "bool"
      ]
     },
     "execution_count": 17,
     "metadata": {},
     "output_type": "execute_result"
    }
   ],
   "source": [
    "c = True\n",
    "type(c)"
   ]
  },
  {
   "cell_type": "code",
   "execution_count": 18,
   "id": "a9747447-7261-491f-a70f-5ce99cdada6f",
   "metadata": {},
   "outputs": [
    {
     "name": "stdout",
     "output_type": "stream",
     "text": [
      "1j\n"
     ]
    }
   ],
   "source": [
    "str = \"1j\"\n",
    "print(str)"
   ]
  },
  {
   "cell_type": "code",
   "execution_count": null,
   "id": "5bdd8144-5a8f-4ca6-86db-c8bb4b33b784",
   "metadata": {},
   "outputs": [],
   "source": [
    "#Escape Quote"
   ]
  },
  {
   "cell_type": "code",
   "execution_count": 19,
   "id": "f05e22ce-08f7-46e8-8c9d-8bf5cb2ebfc7",
   "metadata": {},
   "outputs": [],
   "source": [
    "# \\ Can be used to escape quotes"
   ]
  },
  {
   "cell_type": "code",
   "execution_count": 20,
   "id": "c9422b65-7091-43b9-a63c-34f10ab82b6e",
   "metadata": {},
   "outputs": [
    {
     "name": "stdout",
     "output_type": "stream",
     "text": [
      "We are the so-called \"Vikings\" from the north.\n"
     ]
    }
   ],
   "source": [
    "txt = \"We are the so-called \\\"Vikings\\\" from the north.\"\n",
    "print(txt)"
   ]
  },
  {
   "cell_type": "code",
   "execution_count": 21,
   "id": "64c48d51-ff45-4c25-9493-7dfd273f599a",
   "metadata": {},
   "outputs": [
    {
     "name": "stdout",
     "output_type": "stream",
     "text": [
      "It's alright.\n"
     ]
    }
   ],
   "source": [
    "txt1 = 'It\\'s alright.'\n",
    "print(txt1) \n"
   ]
  },
  {
   "cell_type": "code",
   "execution_count": 22,
   "id": "aead9cdf-ba7c-4d22-bcb8-6fef6f96dc0a",
   "metadata": {},
   "outputs": [
    {
     "name": "stdout",
     "output_type": "stream",
     "text": [
      "'\"Yes\", he.'\n"
     ]
    }
   ],
   "source": [
    "print('\\'\"Yes\", he.\\'')"
   ]
  },
  {
   "cell_type": "code",
   "execution_count": 23,
   "id": "11de9d28-ff1c-4697-ac2f-d1e47603a716",
   "metadata": {},
   "outputs": [
    {
     "name": "stdout",
     "output_type": "stream",
     "text": [
      "First \n",
      "second\n"
     ]
    }
   ],
   "source": [
    "print(\"First \\nsecond\")"
   ]
  },
  {
   "cell_type": "code",
   "execution_count": null,
   "id": "a161608b-5905-46bb-b5d0-8489057ffa28",
   "metadata": {},
   "outputs": [],
   "source": [
    "#Raw string"
   ]
  },
  {
   "cell_type": "code",
   "execution_count": 2,
   "id": "953f4361-8e40-407b-b620-395437a68954",
   "metadata": {},
   "outputs": [
    {
     "name": "stdout",
     "output_type": "stream",
     "text": [
      "C:\\some\\name\n"
     ]
    }
   ],
   "source": [
    "print(r'C:\\some\\name')"
   ]
  },
  {
   "cell_type": "code",
   "execution_count": 25,
   "id": "b9d07de6-22b1-429f-bdea-ba0526060435",
   "metadata": {},
   "outputs": [
    {
     "name": "stdout",
     "output_type": "stream",
     "text": [
      "C:\\some\\name\n"
     ]
    }
   ],
   "source": [
    "print(r'C:\\some\\name') # r represent that (read the sentence as it is)"
   ]
  },
  {
   "cell_type": "code",
   "execution_count": 26,
   "id": "92ac86f5-21ca-4f66-a8ca-2832791e9dda",
   "metadata": {},
   "outputs": [
    {
     "name": "stdout",
     "output_type": "stream",
     "text": [
      "<class 'str'>\n"
     ]
    }
   ],
   "source": [
    "doc1 = \"24 - aug - 2024\"\n",
    "print(type(doc1))"
   ]
  },
  {
   "cell_type": "code",
   "execution_count": null,
   "id": "0c04f37c-c251-4066-b81f-0fb1b6595719",
   "metadata": {},
   "outputs": [],
   "source": [
    "#Type Conversion"
   ]
  },
  {
   "cell_type": "code",
   "execution_count": 27,
   "id": "ac0f1278-784c-47cb-91c0-95a874beacce",
   "metadata": {},
   "outputs": [
    {
     "data": {
      "text/plain": [
       "int"
      ]
     },
     "execution_count": 27,
     "metadata": {},
     "output_type": "execute_result"
    }
   ],
   "source": [
    "e = 180.3\n",
    "s = int(e)\n",
    "type(s)"
   ]
  },
  {
   "cell_type": "code",
   "execution_count": 28,
   "id": "084b86bc-bc74-4b01-bc85-0c91689b8da3",
   "metadata": {},
   "outputs": [
    {
     "name": "stdout",
     "output_type": "stream",
     "text": [
      "<class 'str'>\n",
      "<class 'int'>\n",
      "<class 'int'>\n"
     ]
    }
   ],
   "source": [
    "age = \"20\"\n",
    "usera = int(40)\n",
    "vo_age = int(\"18\")\n",
    "\n",
    "print(type(age))\n",
    "print(type(usera))\n",
    "print(type(vo_age))"
   ]
  },
  {
   "cell_type": "code",
   "execution_count": 29,
   "id": "dc2f0d28-2617-4071-b4f3-0619467ea194",
   "metadata": {},
   "outputs": [
    {
     "data": {
      "text/plain": [
       "int"
      ]
     },
     "execution_count": 29,
     "metadata": {},
     "output_type": "execute_result"
    }
   ],
   "source": [
    "age = int(20.98)\n",
    "type(age)"
   ]
  },
  {
   "cell_type": "code",
   "execution_count": null,
   "id": "c7bef453-8f8b-4efc-a29a-f93dca911387",
   "metadata": {},
   "outputs": [],
   "source": [
    "#Strings"
   ]
  },
  {
   "cell_type": "code",
   "execution_count": 30,
   "id": "6bb66519-7434-45a4-929d-477edde6c0d4",
   "metadata": {},
   "outputs": [
    {
     "name": "stdout",
     "output_type": "stream",
     "text": [
      "e\n",
      "o\n"
     ]
    }
   ],
   "source": [
    "a = 'Welcome to strings'\n",
    "print(a[1])\n",
    "print(a[9])"
   ]
  },
  {
   "cell_type": "code",
   "execution_count": 31,
   "id": "21b1a6a0-c4c8-4007-9685-362d0fe20fdc",
   "metadata": {},
   "outputs": [
    {
     "name": "stdout",
     "output_type": "stream",
     "text": [
      "d\n"
     ]
    }
   ],
   "source": [
    "x = \"Hello world\"\n",
    "print(x[-1]) # last word of string"
   ]
  },
  {
   "cell_type": "code",
   "execution_count": 32,
   "id": "91765978-94b2-407f-a4f7-2c6d7bd624a6",
   "metadata": {},
   "outputs": [
    {
     "name": "stdout",
     "output_type": "stream",
     "text": [
      "He\n"
     ]
    }
   ],
   "source": [
    "y = \"Hello world\" #slicing in string\n",
    "print(y[:2])"
   ]
  },
  {
   "cell_type": "markdown",
   "id": "d9a8ab8b-21e8-4f13-bdde-6e9f2a2c1e74",
   "metadata": {},
   "source": [
    "\n",
    "## String Slicing in Python\n",
    "\n",
    "## Syntax:\n",
    "- **string[start:stop:step]**\n",
    "\n",
    "### Parameters:\n",
    "- **`start`**: Starting index (inclusive, default is 0).\n",
    "- **`stop`**: Ending index (exclusive).\n",
    "- **`step`**: Step between indices (default is 1)."
   ]
  },
  {
   "cell_type": "markdown",
   "id": "dad7e5df-0e60-4a5b-a2ec-9b1436a48eab",
   "metadata": {},
   "source": [
    "#### Slicing with Negative Indices:"
   ]
  },
  {
   "cell_type": "code",
   "execution_count": 33,
   "id": "9ea443c7-5d3f-4e37-9075-cc7a48601651",
   "metadata": {},
   "outputs": [
    {
     "name": "stdout",
     "output_type": "stream",
     "text": [
      "World\n"
     ]
    }
   ],
   "source": [
    "text = \"Hello, World!\"\n",
    "print(text[-6:-1])  "
   ]
  },
  {
   "cell_type": "markdown",
   "id": "1bc1b371-e9d6-43eb-b66d-79b4f10bbb92",
   "metadata": {},
   "source": [
    "#### Slicing with a Step:"
   ]
  },
  {
   "cell_type": "code",
   "execution_count": 34,
   "id": "3c6b4b2a-d827-4332-adcf-f300f979f25d",
   "metadata": {},
   "outputs": [
    {
     "name": "stdout",
     "output_type": "stream",
     "text": [
      "Hlo ol\n"
     ]
    }
   ],
   "source": [
    "text = \"Hello, World!\"\n",
    "print(text[0:12:2])  "
   ]
  },
  {
   "cell_type": "markdown",
   "id": "e03ea43a-5277-461f-81f9-8342e7861a79",
   "metadata": {},
   "source": [
    "#### Reverse a String:"
   ]
  },
  {
   "cell_type": "code",
   "execution_count": 35,
   "id": "8b434049-16bb-4b2c-a907-23e8cd5ebebe",
   "metadata": {},
   "outputs": [
    {
     "name": "stdout",
     "output_type": "stream",
     "text": [
      "dlrow olleH\n",
      "drwolH\n",
      "Hlowrd\n",
      "ld\n"
     ]
    }
   ],
   "source": [
    "text = \"Hello world\"\n",
    "print(text[::-1])  \n",
    "\n",
    "text = \"Hello world\"\n",
    "print(text[::-2])  \n",
    "\n",
    "text = \"Hello world\"\n",
    "print(text[::2])\n",
    "\n",
    "text = \"Hello world\"\n",
    "print(text[-2::])  "
   ]
  },
  {
   "cell_type": "markdown",
   "id": "e409f83a-bf47-40da-a45f-5521b82389e2",
   "metadata": {},
   "source": [
    "### String Concatenation"
   ]
  },
  {
   "cell_type": "code",
   "execution_count": 36,
   "id": "4667918a-50cd-4a73-b98c-fa0b21963abd",
   "metadata": {},
   "outputs": [
    {
     "name": "stdout",
     "output_type": "stream",
     "text": [
      "Hello World\n"
     ]
    }
   ],
   "source": [
    "# Using + operator:\n",
    "str1 = \"Hello\"\n",
    "str2 = \"World\"\n",
    "result = str1 + \" \" + str2\n",
    "print(result)"
   ]
  },
  {
   "cell_type": "code",
   "execution_count": 37,
   "id": "26d7c66c-2b6a-4aee-9c37-61f485fb9783",
   "metadata": {},
   "outputs": [
    {
     "name": "stdout",
     "output_type": "stream",
     "text": [
      "Hello World\n"
     ]
    }
   ],
   "source": [
    "# Using join() method:\n",
    "str_list = [\"Hello\", \"World\"]\n",
    "result = \" \".join(str_list)\n",
    "print(result)"
   ]
  },
  {
   "cell_type": "code",
   "execution_count": 38,
   "id": "2f72b1b1-aa9c-4da0-b76f-1c192814caaf",
   "metadata": {},
   "outputs": [
    {
     "name": "stdout",
     "output_type": "stream",
     "text": [
      "Py\"thon\n"
     ]
    }
   ],
   "source": [
    "x = 'Py\"thon'\n",
    "print(x)"
   ]
  },
  {
   "cell_type": "code",
   "execution_count": 42,
   "id": "26757fd2-feb0-464b-92a9-945a4042d3cd",
   "metadata": {},
   "outputs": [
    {
     "data": {
      "text/plain": [
       "321"
      ]
     },
     "execution_count": 42,
     "metadata": {},
     "output_type": "execute_result"
    }
   ],
   "source": [
    "num = \"123\"\n",
    "c = num[::-1]\n",
    "y = int(c)\n",
    "y"
   ]
  },
  {
   "cell_type": "code",
   "execution_count": null,
   "id": "a71ecf3a-d323-4f7b-bfb1-328d41f603b6",
   "metadata": {},
   "outputs": [],
   "source": []
  }
 ],
 "metadata": {
  "kernelspec": {
   "display_name": "Python 3 (ipykernel)",
   "language": "python",
   "name": "python3"
  },
  "language_info": {
   "codemirror_mode": {
    "name": "ipython",
    "version": 3
   },
   "file_extension": ".py",
   "mimetype": "text/x-python",
   "name": "python",
   "nbconvert_exporter": "python",
   "pygments_lexer": "ipython3",
   "version": "3.12.4"
  }
 },
 "nbformat": 4,
 "nbformat_minor": 5
}
