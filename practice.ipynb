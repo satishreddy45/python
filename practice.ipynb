{
 "cells": [
  {
   "cell_type": "code",
   "execution_count": null,
   "id": "d10aa00a-8efe-4473-a46b-e37f0d829ae0",
   "metadata": {},
   "outputs": [],
   "source": [
    "#Swap a value with different ways"
   ]
  },
  {
   "cell_type": "code",
   "execution_count": 1,
   "id": "f2f126ad-97a2-4a16-8f3c-d581550efc25",
   "metadata": {},
   "outputs": [
    {
     "name": "stdout",
     "output_type": "stream",
     "text": [
      "20\n",
      "10\n"
     ]
    }
   ],
   "source": [
    "a = int(10)\n",
    "b = int(20)\n",
    "\n",
    "a,b = b,a\n",
    "print(a)\n",
    "print(b)"
   ]
  },
  {
   "cell_type": "code",
   "execution_count": 2,
   "id": "bab495e7-9033-425c-8793-b61ae9279d39",
   "metadata": {},
   "outputs": [
    {
     "name": "stdout",
     "output_type": "stream",
     "text": [
      "40\n",
      "30\n"
     ]
    }
   ],
   "source": [
    "x = int(30)\n",
    "y = int(40)\n",
    "\n",
    "temp = x\n",
    "x = y\n",
    "y = temp\n",
    "\n",
    "print(x)\n",
    "print(y)"
   ]
  },
  {
   "cell_type": "code",
   "execution_count": 3,
   "id": "2f2e7483-f282-43a5-8455-bf70b35f2cc5",
   "metadata": {},
   "outputs": [
    {
     "name": "stdout",
     "output_type": "stream",
     "text": [
      "50\n",
      "40\n"
     ]
    }
   ],
   "source": [
    "c = 40\n",
    "d = 50\n",
    "z = c + d\n",
    "c = z - c\n",
    "d = z - d\n",
    "print(c)\n",
    "print(d)"
   ]
  },
  {
   "cell_type": "code",
   "execution_count": 4,
   "id": "b35a9ca9-1dbf-46c3-a924-f2621eecbeca",
   "metadata": {},
   "outputs": [
    {
     "name": "stdout",
     "output_type": "stream",
     "text": [
      "20 10\n"
     ]
    }
   ],
   "source": [
    "a = 10\n",
    "b = 20\n",
    "\n",
    "a = a * b\n",
    "b = a // b\n",
    "a = a // b\n",
    "print(a,b)"
   ]
  },
  {
   "cell_type": "code",
   "execution_count": 5,
   "id": "ed69b4e2-eb99-4ab4-88ad-8246e7621dd3",
   "metadata": {},
   "outputs": [
    {
     "name": "stdout",
     "output_type": "stream",
     "text": [
      "20 10\n"
     ]
    }
   ],
   "source": [
    "m = 10 \n",
    "n = 20\n",
    "\n",
    "m1 = m ^ n\n",
    "m = m1 - m\n",
    "n = m1 - n\n",
    "print(m , n)"
   ]
  },
  {
   "cell_type": "code",
   "execution_count": null,
   "id": "afe5ed7e-d6be-4b8c-ab90-211b856577bd",
   "metadata": {},
   "outputs": [],
   "source": [
    "#Mani, Arun, and Kumar were very close friends at school. They were very good in Mathematics and were the pets of Ranjani Ma'am. Mani, Arun, and Kumar live in the same locality and their gang was known as 3 - Psychos. A new student Logan joins their class and he wanted to be friends with the 3 - Psychos. Logan asked Arun about his home address. Arun wanted to test Logan's mathematical skills and hence told that his house is at the midpoint of the line joining Mani's house and Kumar's house. Logan was puzzled. Can you help Logan out? Given the coordinates of the 2 endpoints of a line (x1,y1) and (x2,y2). Write a program to find the midpoint of the line."
   ]
  },
  {
   "cell_type": "code",
   "execution_count": 2,
   "id": "a7c2fad3-38ab-4442-9adf-ea2337570352",
   "metadata": {},
   "outputs": [
    {
     "name": "stdout",
     "output_type": "stream",
     "text": [
      "The result =  6.0 9.5\n"
     ]
    }
   ],
   "source": [
    "x1 = 2\n",
    "y1 = 4\n",
    "x2 = 10\n",
    "y2 = 15\n",
    "\n",
    "print(\"The result = \",(x1+x2)/2,(y1+y2)/2)\n"
   ]
  },
  {
   "cell_type": "code",
   "execution_count": 1,
   "id": "4ece9086-75df-4ccd-832f-6f74936aa41e",
   "metadata": {},
   "outputs": [
    {
     "data": {
      "text/plain": [
       "19.531249999999996"
      ]
     },
     "execution_count": 1,
     "metadata": {},
     "output_type": "execute_result"
    }
   ],
   "source": [
    "#WAP To calculate the Body mass index(BMI)\n",
    "h = 1.6\n",
    "weight = 50\n",
    "\n",
    "exp = h * h\n",
    "BMI = weight/exp\n",
    "BMI"
   ]
  },
  {
   "cell_type": "code",
   "execution_count": null,
   "id": "25bd5d3a-8a4a-4e55-9b68-ddc7d20cec1d",
   "metadata": {},
   "outputs": [],
   "source": [
    "#Mani, Arun, and Kumar were very close friends at school. They were very good in Mathematics and were the pets of Ranjani Ma'am. Mani, Arun, and Kumar live in the same locality and their gang was known as 3 - Psychos. A new student Logan joins their class and he wanted to be friends with the 3 - Psychos. Logan asked Arun about his home address. Arun wanted to test Logan's mathematical skills and hence told that his house is at the midpoint of the line joining Mani's house and Kumar's house. Logan was puzzled. Can you help Logan out? Given the coordinates of the 2 endpoints of a line (x1,y1) and (x2,y2). Write a program to find the midpoint of the line."
   ]
  },
  {
   "cell_type": "code",
   "execution_count": 8,
   "id": "8d4c836e-efa7-4866-b761-25c6960144de",
   "metadata": {},
   "outputs": [
    {
     "name": "stdin",
     "output_type": "stream",
     "text": [
      "Enter a number = 345\n"
     ]
    },
    {
     "name": "stdout",
     "output_type": "stream",
     "text": [
      "Not a trendy number. No free sandwiches for Joey.\n"
     ]
    }
   ],
   "source": [
    "num = int(input(\"Enter a number =\"))\n",
    "remain = num // 10\n",
    "middle = remain % 10\n",
    "\n",
    "if len(str(num)) == 3 and middle%3 == 0:\n",
    "    print(\"Trendy Number\")\n",
    "else:\n",
    "    print(\"Not a trendy number. No free sandwiches for Joey.\")\n",
    "    "
   ]
  },
  {
   "cell_type": "markdown",
   "id": "61d022cd-ab43-457b-8aef-825fec983532",
   "metadata": {},
   "source": [
    "---"
   ]
  },
  {
   "cell_type": "markdown",
   "id": "b31b88bf-eca9-4ae3-ad79-ed94cf43633f",
   "metadata": {},
   "source": [
    "#### what will be the output : \n",
    "    X = \"ALl is well\"\n",
    "`print the string` \n",
    "`check the following criteria is ensured : isalpha(),islower(),isupper(),isdigit(),isalnum`"
   ]
  },
  {
   "cell_type": "code",
   "execution_count": 9,
   "id": "e910c7b4-f5df-41d1-a228-56f380ebe6a0",
   "metadata": {},
   "outputs": [
    {
     "data": {
      "text/plain": [
       "False"
      ]
     },
     "execution_count": 9,
     "metadata": {},
     "output_type": "execute_result"
    }
   ],
   "source": [
    "X = \"ALL IS WELL\"\n",
    "X.isalpha()"
   ]
  },
  {
   "cell_type": "code",
   "execution_count": 10,
   "id": "d6e732de-e896-4950-b9e6-e0204d4d29ab",
   "metadata": {},
   "outputs": [
    {
     "data": {
      "text/plain": [
       "False"
      ]
     },
     "execution_count": 10,
     "metadata": {},
     "output_type": "execute_result"
    }
   ],
   "source": [
    "X.islower()"
   ]
  },
  {
   "cell_type": "code",
   "execution_count": 11,
   "id": "5054826b-80b0-4ce7-b18b-35133fbe8c15",
   "metadata": {},
   "outputs": [
    {
     "data": {
      "text/plain": [
       "True"
      ]
     },
     "execution_count": 11,
     "metadata": {},
     "output_type": "execute_result"
    }
   ],
   "source": [
    "X.isupper()"
   ]
  },
  {
   "cell_type": "code",
   "execution_count": 12,
   "id": "fd06cac0-dd75-4f15-9700-a3835daab60c",
   "metadata": {},
   "outputs": [
    {
     "data": {
      "text/plain": [
       "False"
      ]
     },
     "execution_count": 12,
     "metadata": {},
     "output_type": "execute_result"
    }
   ],
   "source": [
    "X.isdigit()"
   ]
  },
  {
   "cell_type": "code",
   "execution_count": 13,
   "id": "b8fbc66d-9926-4fdd-8bab-2d9d68113cae",
   "metadata": {},
   "outputs": [
    {
     "data": {
      "text/plain": [
       "False"
      ]
     },
     "execution_count": 13,
     "metadata": {},
     "output_type": "execute_result"
    }
   ],
   "source": [
    "X.isalnum()"
   ]
  },
  {
   "cell_type": "code",
   "execution_count": 14,
   "id": "d9e2c18e-f351-4517-ab40-ddfec3d81adf",
   "metadata": {},
   "outputs": [
    {
     "name": "stdout",
     "output_type": "stream",
     "text": [
      "w r aasinit\n"
     ]
    }
   ],
   "source": [
    "Y = \"we are data scientist\"\n",
    "print(Y[::2])"
   ]
  },
  {
   "cell_type": "markdown",
   "id": "47e2d15b-8d18-4311-a888-9bcb0b321405",
   "metadata": {},
   "source": [
    "---"
   ]
  },
  {
   "cell_type": "code",
   "execution_count": 15,
   "id": "a6535674-af0a-426d-9af5-1aeb1a65ae8f",
   "metadata": {},
   "outputs": [],
   "source": [
    "x = \"Peter Piper picked a peck of pickled peppers. a peck of pickled peppers Peter Piper picked. If Peter Piper picked a peck of pickled peppers,Where’s the peck of pickled peppers Peter Piper picked?\"\n"
   ]
  },
  {
   "cell_type": "code",
   "execution_count": 16,
   "id": "a14f9449-fbca-4a78-a466-4da1f5bf0beb",
   "metadata": {},
   "outputs": [
    {
     "data": {
      "text/plain": [
       "35"
      ]
     },
     "execution_count": 16,
     "metadata": {},
     "output_type": "execute_result"
    }
   ],
   "source": [
    "y = x.count('e')\n",
    "y"
   ]
  },
  {
   "cell_type": "markdown",
   "id": "ac45c9df-5cc1-4585-8b2d-5c23f6b9bd56",
   "metadata": {},
   "source": [
    "---"
   ]
  },
  {
   "cell_type": "code",
   "execution_count": 17,
   "id": "5104f856-d98d-4473-8b69-2612d5ea53d2",
   "metadata": {},
   "outputs": [
    {
     "name": "stdin",
     "output_type": "stream",
     "text": [
      "Enter your marks:  56\n"
     ]
    },
    {
     "name": "stdout",
     "output_type": "stream",
     "text": [
      "Your grade is: F\n"
     ]
    }
   ],
   "source": [
    "marks = int(input(\"Enter your marks: \"))\n",
    "\n",
    "if marks >= 90:\n",
    "    grade = 'A'\n",
    "elif marks >= 80:\n",
    "    grade = 'B'\n",
    "elif marks >= 70:\n",
    "    grade = 'C'\n",
    "elif marks >= 60:\n",
    "    grade = 'D'\n",
    "else:\n",
    "    grade = 'F'\n",
    "\n",
    "print(f\"Your grade is: {grade}\")"
   ]
  },
  {
   "cell_type": "markdown",
   "id": "0fd6771f-7a24-43e4-a14c-24451a43c235",
   "metadata": {},
   "source": [
    "---"
   ]
  },
  {
   "cell_type": "code",
   "execution_count": 18,
   "id": "6c674097-1178-4bac-83c9-020097c84135",
   "metadata": {},
   "outputs": [
    {
     "name": "stdin",
     "output_type": "stream",
     "text": [
      "Enter a 1st Number 1\n",
      "Enter a 2nd Number 2\n",
      "Enter a 3rd Number 34\n"
     ]
    },
    {
     "data": {
      "text/plain": [
       "34"
      ]
     },
     "execution_count": 18,
     "metadata": {},
     "output_type": "execute_result"
    }
   ],
   "source": [
    "# write a program to print the greatest of given three numbers\n",
    "a = int(input(\"Enter a 1st Number\"))\n",
    "b = int(input(\"Enter a 2nd Number\"))\n",
    "c = int(input(\"Enter a 3rd Number\"))\n",
    "\n",
    "greatest = a if a > b else b\n",
    "greatest = greatest if greatest> c else c\n",
    "greatest"
   ]
  },
  {
   "cell_type": "markdown",
   "id": "af47323a-6a52-49c8-a7d4-7090720a79c5",
   "metadata": {},
   "source": [
    "---"
   ]
  },
  {
   "cell_type": "code",
   "execution_count": 1,
   "id": "9b4050ff-3e04-46ae-aa3f-5009036f41a7",
   "metadata": {},
   "outputs": [
    {
     "name": "stdin",
     "output_type": "stream",
     "text": [
      "Enter the 1st number:  234\n",
      "Enter the 2nd number:  5\n",
      "Enter the 3rd number:  67\n"
     ]
    },
    {
     "name": "stdout",
     "output_type": "stream",
     "text": [
      "The second greatest number is: 67\n"
     ]
    }
   ],
   "source": [
    "a = int(input(\"Enter the 1st number: \"))\n",
    "b = int(input(\"Enter the 2nd number: \"))\n",
    "c = int(input(\"Enter the 3rd number: \"))\n",
    "\n",
    "# Find the second greatest number\n",
    "if (a > b and a < c) or (a > c and a < b):\n",
    "    second_greatest = a\n",
    "elif (b > a and b < c) or (b > c and b < a)\n",
    "    second_greatest = b\n",
    "else:\n",
    "    second_greatest = c\n",
    "\n",
    "print(\"The second greatest number is:\", second_greatest)"
   ]
  },
  {
   "cell_type": "code",
   "execution_count": 20,
   "id": "9d78d86b-4d94-4fc9-b9f2-52f0d92718b7",
   "metadata": {},
   "outputs": [
    {
     "name": "stdin",
     "output_type": "stream",
     "text": [
      "Enter a 1st Number 2\n",
      "Enter a 2nd Number 3\n",
      "Enter a 3rd Number 4\n",
      "Enter a 4th Number 56\n"
     ]
    },
    {
     "data": {
      "text/plain": [
       "2"
      ]
     },
     "execution_count": 20,
     "metadata": {},
     "output_type": "execute_result"
    }
   ],
   "source": [
    "# write a program to find the smallest of four numbers\n",
    "a = int(input(\"Enter a 1st Number\"))\n",
    "b = int(input(\"Enter a 2nd Number\"))\n",
    "c = int(input(\"Enter a 3rd Number\"))\n",
    "d = int(input(\"Enter a 4th Number\"))\n",
    "\n",
    "smallest = a if a < b else b\n",
    "smallest = smallest if smallest < c else c\n",
    "smallest = smallest if smallest < d else d\n",
    "smallest"
   ]
  },
  {
   "cell_type": "markdown",
   "id": "515ed861-8813-4e2d-a4b1-116c6c112b8b",
   "metadata": {},
   "source": [
    "---"
   ]
  },
  {
   "cell_type": "markdown",
   "id": "b36ed657-68f9-40d1-8f17-7a0674910a54",
   "metadata": {},
   "source": [
    "#### A Microwave oven manufacturer recommends to increase the heating time by 50% when two items are heated and to double the heating time when three items are heated. Heating more than three items at once is not recommended. Now, write a program to find out the recommended heating time"
   ]
  },
  {
   "cell_type": "code",
   "execution_count": 21,
   "id": "4eb0c11d-bebf-450f-9b2e-a265c520fc54",
   "metadata": {},
   "outputs": [
    {
     "name": "stdin",
     "output_type": "stream",
     "text": [
      "Enter the number of items:  2\n",
      "Enter the heating time for a single item:  3\n"
     ]
    },
    {
     "name": "stdout",
     "output_type": "stream",
     "text": [
      "Recommended heating time: 4.5 minutes\n"
     ]
    }
   ],
   "source": [
    "NmItem = int(input(\"Enter the number of items: \"))\n",
    "sin_it = float(input(\"Enter the heating time for a single item: \"))\n",
    "\n",
    "r_time = None\n",
    "\n",
    "if NmItem == 1:\n",
    "    r_time = sin_it\n",
    "elif NmItem == 2:\n",
    "    r_time = sin_it * 1.5\n",
    "elif NmItem == 3:\n",
    "    r_time = sin_it * 2\n",
    "else:\n",
    "    print(\"Heating more than 3 items is not recommended.\")\n",
    "\n",
    "if r_time is not None:\n",
    "    print(f\"Recommended heating time: {r_time} minutes\")\n"
   ]
  },
  {
   "cell_type": "markdown",
   "id": "7e0a0c45-70b0-4668-97a2-e67664bd802a",
   "metadata": {},
   "source": [
    "---"
   ]
  },
  {
   "cell_type": "markdown",
   "id": "9db7b999-1fe8-4f79-a9e8-49fc31640d9e",
   "metadata": {},
   "source": [
    "#### According to a 24-hour clock, the show timings are 10.15, 13.30, 18.00 and 22.00. The normal price of an adult ticket is 8.00. However, the price of an adult ticket for the matinee show is 5.00. Adults are those over 13 years. The normal price of a child ticket is 4.00. However, the price of a child ticket for the matinee show is $2.00. Write a program that determines the price of a movie ticket."
   ]
  },
  {
   "cell_type": "code",
   "execution_count": 25,
   "id": "77ba488f-f9c9-44b6-b94d-c5bfd1abf12e",
   "metadata": {},
   "outputs": [
    {
     "name": "stdin",
     "output_type": "stream",
     "text": [
      "Enter Your Age =  16\n",
      "Enter timing =  10.15\n"
     ]
    },
    {
     "name": "stdout",
     "output_type": "stream",
     "text": [
      "Your price is $8.00\n"
     ]
    }
   ],
   "source": [
    "age = int(input(\"Enter Your Age = \"))\n",
    "time = float(input(\"Enter timing = \"))\n",
    "\n",
    "if age > 13:\n",
    "    if time == 10.15 or time == 13.30:\n",
    "        print(\"Your price is $8.00\")\n",
    "    elif time == 18.00 or time == 22.00:\n",
    "        print(\"Your price is $5.00\")\n",
    "elif age <= 13:  \n",
    "    if time == 10.15 or time == 13.30:\n",
    "        print(\"Your price is $4.00\")\n",
    "    elif time == 18.00 or time == 22.00:\n",
    "        print(\"Your price is $2.00\")\n"
   ]
  },
  {
   "cell_type": "code",
   "execution_count": 38,
   "id": "e6cbebae-57de-4097-a07b-cfeb7b3af940",
   "metadata": {},
   "outputs": [
    {
     "name": "stdin",
     "output_type": "stream",
     "text": [
      "Enter your birth year 03\n",
      "Enter Current year 24\n"
     ]
    },
    {
     "name": "stdout",
     "output_type": "stream",
     "text": [
      "21\n"
     ]
    }
   ],
   "source": [
    "b_yr = int(input(\"Enter your birth year\"))\n",
    "c_yr = int(input(\"Enter Current year\"))\n",
    "\n",
    "age = c_yr - b_yr\n",
    "\n",
    "if c_yr < b_yr:\n",
    "    age += 100\n",
    "    print(age)\n",
    "else:\n",
    "    print(age)\n"
   ]
  },
  {
   "cell_type": "code",
   "execution_count": 50,
   "id": "48113400-d005-4e06-bc8f-26b7473b8d2b",
   "metadata": {},
   "outputs": [
    {
     "name": "stdout",
     "output_type": "stream",
     "text": [
      "*\n",
      "***\n",
      "*****\n",
      "*******\n",
      "*********\n"
     ]
    }
   ],
   "source": [
    "def full_pyramid(n):\n",
    "    for i in range(1, n + 1):\n",
    "        for j in range(n - i):\n",
    "            print(\"\", end=\"\")\n",
    "        for k in range(1, 2*i):\n",
    "            print(\"*\", end=\"\")\n",
    "        print()\n",
    "   \n",
    "full_pyramid(5)"
   ]
  },
  {
   "cell_type": "code",
   "execution_count": 38,
   "id": "d6a428c7-70c0-4f06-b5a2-51f04a42c06f",
   "metadata": {},
   "outputs": [
    {
     "name": "stdout",
     "output_type": "stream",
     "text": [
      "* \n",
      "* * \n",
      "* * * \n",
      "* * * * \n",
      "* * * * * \n",
      "* * * * * * \n",
      "----------------------\n",
      "1 \n",
      "1 2 \n",
      "1 2 3 \n",
      "1 2 3 4 \n",
      "1 2 3 4 5 \n"
     ]
    }
   ],
   "source": [
    "for i in range(1,7):\n",
    "    print(i * \"* \")\n",
    "print(\"----------------------\")\n",
    "for i in range(1,6):\n",
    "    for j in range(1,i+1):\n",
    "        print(j,end=\" \")\n",
    "    print()"
   ]
  },
  {
   "cell_type": "code",
   "execution_count": 58,
   "id": "ce54606a-c393-4255-9205-065b3761869a",
   "metadata": {},
   "outputs": [
    {
     "name": "stdout",
     "output_type": "stream",
     "text": [
      "* \n",
      "* * \n",
      "* * * \n",
      "* * * * \n",
      "* * * * * \n",
      "----------------------\n",
      "1 \n",
      "2 2 \n",
      "3 3 3 \n",
      "4 4 4 4 \n",
      "5 5 5 5 5 \n"
     ]
    }
   ],
   "source": [
    "for i in range(1,6):\n",
    "    for j in range(1,i+1):\n",
    "        print(\"*\",end=\" \")\n",
    "    print()\n",
    "print(\"----------------------\")\n",
    "for i in range(1,6):\n",
    "    for j in range(1,i+1):\n",
    "        print(i,end=\" \")\n",
    "    print()"
   ]
  },
  {
   "cell_type": "code",
   "execution_count": null,
   "id": "159f3e5e-c454-4929-9239-fd074f31e33a",
   "metadata": {},
   "outputs": [],
   "source": []
  },
  {
   "cell_type": "code",
   "execution_count": 10,
   "id": "85ee6080-7810-4fa1-940f-62659826605c",
   "metadata": {},
   "outputs": [
    {
     "name": "stdin",
     "output_type": "stream",
     "text": [
      "Enter a student type =  MSH\n",
      "Enter tution fees 40000\n",
      "Enter bus fees 12000\n",
      "Enter hostel fees 50000\n"
     ]
    },
    {
     "name": "stdout",
     "output_type": "stream",
     "text": [
      "90000.00\n"
     ]
    }
   ],
   "source": [
    "std_type = input(\"Enter a student type = \")\n",
    "tut_fees = int(input(\"Enter tution fees\"))\n",
    "bus_fees = int(input(\"Enter bus fees\"))\n",
    "host_fees = int(input(\"Enter hostel fees\"))\n",
    "\n",
    "if std_type == 'MSDS':\n",
    "    total_fees = tut_fees + bus_fees\n",
    "\n",
    "elif std_type == 'MSH':\n",
    "    total_fees = tut_fees + host_fees\n",
    "\n",
    "elif std_type == 'MGSDS':\n",
    "    total_fees = 1.5 * tut_fees + bus_fees\n",
    "\n",
    "elif std_type == 'MGSH':\n",
    "    total_fees = 1.5 * tut_fees + host_fees\n",
    "else:\n",
    "    print(\"Enter a valid input\")\n",
    "print(\"%.2f\" % total_fees)\n"
   ]
  },
  {
   "cell_type": "markdown",
   "id": "2017c231-eb9c-4c52-b864-bbb806ca0610",
   "metadata": {},
   "source": [
    "---"
   ]
  }
 ],
 "metadata": {
  "kernelspec": {
   "display_name": "Python 3 (ipykernel)",
   "language": "python",
   "name": "python3"
  },
  "language_info": {
   "codemirror_mode": {
    "name": "ipython",
    "version": 3
   },
   "file_extension": ".py",
   "mimetype": "text/x-python",
   "name": "python",
   "nbconvert_exporter": "python",
   "pygments_lexer": "ipython3",
   "version": "3.12.4"
  }
 },
 "nbformat": 4,
 "nbformat_minor": 5
}
