{
 "cells": [
  {
   "cell_type": "code",
   "execution_count": 2,
   "id": "ae291710-2c4a-4a29-9775-97b2d3dc2d86",
   "metadata": {},
   "outputs": [],
   "source": [
    "def fun():\n",
    "    print(\"welcome to python\")"
   ]
  },
  {
   "cell_type": "code",
   "execution_count": 4,
   "id": "ea933857-2fb4-4100-a3ec-3a30effb53e3",
   "metadata": {},
   "outputs": [
    {
     "name": "stdout",
     "output_type": "stream",
     "text": [
      "welcome to python\n"
     ]
    }
   ],
   "source": [
    "fun() #first call"
   ]
  },
  {
   "cell_type": "code",
   "execution_count": 24,
   "id": "e3dcb6de-d6d1-43bc-9b05-5fa0bd067df5",
   "metadata": {},
   "outputs": [],
   "source": [
    "#WAP to add two numbers using function\n",
    "def sum(n1,n2):\n",
    "    s=n1+n2\n",
    "    return s"
   ]
  },
  {
   "cell_type": "code",
   "execution_count": 25,
   "id": "efa62ece-fbc5-4883-be55-c08f967255c1",
   "metadata": {},
   "outputs": [
    {
     "name": "stdin",
     "output_type": "stream",
     "text": [
      " 10\n",
      " 20\n"
     ]
    },
    {
     "name": "stdout",
     "output_type": "stream",
     "text": [
      "30\n"
     ]
    }
   ],
   "source": [
    "x=int(input())\n",
    "y=int(input())\n",
    "print(sum(x,y))"
   ]
  },
  {
   "cell_type": "code",
   "execution_count": 26,
   "id": "58d7738b-c5d0-4da6-92ee-31434679ee95",
   "metadata": {},
   "outputs": [],
   "source": [
    "#WAP to add two numbers using Lambda function\n",
    "sum=lambda n1,n2:n1+n2"
   ]
  },
  {
   "cell_type": "code",
   "execution_count": 27,
   "id": "eaa19b62-a242-46ed-b858-0eeb104b5299",
   "metadata": {},
   "outputs": [
    {
     "name": "stdin",
     "output_type": "stream",
     "text": [
      " 100\n",
      " 200\n"
     ]
    },
    {
     "name": "stdout",
     "output_type": "stream",
     "text": [
      "300\n"
     ]
    }
   ],
   "source": [
    "x=int(input())\n",
    "y=int(input())\n",
    "print(sum(x,y))"
   ]
  },
  {
   "cell_type": "code",
   "execution_count": 36,
   "id": "6f321d20-31ed-4ff7-a7e1-87793f6011d4",
   "metadata": {},
   "outputs": [],
   "source": [
    "#WAP to print local variable and global variable \n",
    "total=0;\n",
    "def sum(arg1,arg2):\n",
    "    total=arg1+arg2;\n",
    "    print(\"inside the function local total:\",total)\n",
    "    return total;"
   ]
  },
  {
   "cell_type": "code",
   "execution_count": 35,
   "id": "c84d325f-9f83-470c-b635-035413e2a17f",
   "metadata": {},
   "outputs": [
    {
     "name": "stdout",
     "output_type": "stream",
     "text": [
      "inside the function local total: 30\n",
      "outside the function global total: 0\n"
     ]
    }
   ],
   "source": [
    "sum(10,20);\n",
    "print(\"outside the function global total:\",total)"
   ]
  },
  {
   "cell_type": "code",
   "execution_count": 37,
   "id": "9414a52e-710c-4143-92cf-83b4b0882839",
   "metadata": {},
   "outputs": [
    {
     "name": "stdout",
     "output_type": "stream",
     "text": [
      "30\n"
     ]
    }
   ],
   "source": [
    "a=[10,20,30]\n",
    "print(max(a))"
   ]
  },
  {
   "cell_type": "code",
   "execution_count": 38,
   "id": "dbda9a5e-1e91-4afe-a806-644b536bc045",
   "metadata": {},
   "outputs": [
    {
     "name": "stdout",
     "output_type": "stream",
     "text": [
      "10\n"
     ]
    }
   ],
   "source": [
    "print(min(12,19,10))"
   ]
  },
  {
   "cell_type": "code",
   "execution_count": 5,
   "id": "7235123e-27b5-411e-9fcd-4a1002e647f6",
   "metadata": {},
   "outputs": [],
   "source": [
    "#WAP python program to find the even numbers in a given list.\n",
    "\n",
    "l1 = [1, 2, 3, 4, 5, 6, 7, 8, 9, 0]\n",
    "l2 = [28, 56, 72, 55, 0, 101]\n",
    "\n",
    "def find_even_numbers(numbers):\n",
    "    even_numbers = []\n",
    "    for num in numbers:\n",
    "        if num % 2 == 0:\n",
    "            even_numbers.append(num)\n",
    "            return even_numbers"
   ]
  },
  {
   "cell_type": "code",
   "execution_count": 6,
   "id": "c4e3b168-5b68-4997-98ad-066547748223",
   "metadata": {},
   "outputs": [
    {
     "name": "stdout",
     "output_type": "stream",
     "text": [
      "[2]\n",
      "[28]\n"
     ]
    }
   ],
   "source": [
    "print(find_even_numbers(l1))\n",
    "print(find_even_numbers(l2))"
   ]
  },
  {
   "cell_type": "code",
   "execution_count": 14,
   "id": "9e8538d0-7612-47cb-831a-9cef4c7ec124",
   "metadata": {},
   "outputs": [
    {
     "name": "stdin",
     "output_type": "stream",
     "text": [
      " 10\n",
      " 1.5\n",
      " 20\n"
     ]
    },
    {
     "data": {
      "text/plain": [
       "(31.5, 300.0)"
      ]
     },
     "execution_count": 14,
     "metadata": {},
     "output_type": "execute_result"
    }
   ],
   "source": [
    "#WAP user define function python pratice\n",
    "x=int(input())\n",
    "y=float(input())\n",
    "z=int(input())\n",
    "def test(a,b,c):    \n",
    "    add=a+b+c\n",
    "    product=a*b*c\n",
    "    return add,product\n",
    "test(x,y,z)"
   ]
  },
  {
   "cell_type": "code",
   "execution_count": 16,
   "id": "08f378cb-0d23-495b-b18e-7341d62b5e1d",
   "metadata": {},
   "outputs": [
    {
     "data": {
      "text/plain": [
       "(31.5, 300.0)"
      ]
     },
     "execution_count": 16,
     "metadata": {},
     "output_type": "execute_result"
    }
   ],
   "source": [
    "#WAP user define function python pratice\n",
    "def test1(a,b,c):\n",
    "    return a+b+c, a*b*c\n",
    "test1(x,y,z)"
   ]
  },
  {
   "cell_type": "code",
   "execution_count": 28,
   "id": "997b6bf8-459c-4963-a387-27c9685c01fe",
   "metadata": {},
   "outputs": [
    {
     "name": "stdin",
     "output_type": "stream",
     "text": [
      " 14\n",
      " 24\n",
      " 56\n"
     ]
    },
    {
     "name": "stdout",
     "output_type": "stream",
     "text": [
      "The maximum of the three numbers is: 56\n"
     ]
    }
   ],
   "source": [
    "#WAP to find the maximum of three numbers without using built-in functions\n",
    "\n",
    "n1 = int(input())\n",
    "n2 = int(input())\n",
    "n3 = int(input())\n",
    "\n",
    "def find_max(a, b, c):\n",
    "    max_num = a\n",
    "    if b > max_num:\n",
    "         max_num = b\n",
    "    if c > max_num:\n",
    "              max_num = c\n",
    "              return max_num\n",
    "result = find_max(n1, n2, n3)\n",
    "print(\"The maximum of the three numbers is:\", result)\n"
   ]
  },
  {
   "cell_type": "code",
   "execution_count": 36,
   "id": "62bcedb6-a4ad-47eb-bbef-5bdbace65c81",
   "metadata": {},
   "outputs": [
    {
     "name": "stdin",
     "output_type": "stream",
     "text": [
      " 19\n"
     ]
    },
    {
     "name": "stdout",
     "output_type": "stream",
     "text": [
      "first digit: 1\n",
      "second digit: 9\n",
      "Output: 19\n",
      "special number\n"
     ]
    }
   ],
   "source": [
    "#WAP to check the given number is special or not\n",
    "\n",
    "x=int(input())\n",
    "first =x//10\n",
    "second=x%10\n",
    "\n",
    "print(\"first digit:\",first)\n",
    "print(\"second digit:\",second)\n",
    "\n",
    "result=(first+second)+(first*second)\n",
    "print(\"Output:\",result)\n",
    "\n",
    "if x==result:\n",
    "    print(\"special number\")\n",
    "else:\n",
    "    print(\"Not a special number\")"
   ]
  },
  {
   "cell_type": "code",
   "execution_count": 37,
   "id": "a4e1a5f6-6ab1-4376-8aad-dc1b40d855fc",
   "metadata": {},
   "outputs": [
    {
     "name": "stdin",
     "output_type": "stream",
     "text": [
      " 12\n"
     ]
    },
    {
     "name": "stdout",
     "output_type": "stream",
     "text": [
      "first digit: 1\n",
      "second digit: 2\n",
      "Output: 5\n",
      "Not a special number\n"
     ]
    }
   ],
   "source": [
    "x=int(input())\n",
    "first =x//10\n",
    "second=x%10\n",
    "\n",
    "print(\"first digit:\",first)\n",
    "print(\"second digit:\",second)\n",
    "\n",
    "result=(first+second)+(first*second)\n",
    "print(\"Output:\",result)\n",
    "if x==result:\n",
    "    print(\"special number\")\n",
    "else:\n",
    "    print(\"Not a special number\")"
   ]
  },
  {
   "cell_type": "code",
   "execution_count": 3,
   "id": "f1d79db2-b2c1-4e1e-aac0-7714b5a875bc",
   "metadata": {},
   "outputs": [
    {
     "name": "stdin",
     "output_type": "stream",
     "text": [
      "Enter a number:  100\n"
     ]
    },
    {
     "name": "stdout",
     "output_type": "stream",
     "text": [
      "100 is a happy number!\n"
     ]
    }
   ],
   "source": [
    "#WAP find whether the given number is a happy number or not \n",
    "number = int(input(\"Enter a number: \"))\n",
    "def is_happy_number(num):\n",
    "    seen_numbers = set()\n",
    "    \n",
    "    while num != 1 and num not in seen_numbers:\n",
    "        seen_numbers.add(num)\n",
    "        num = sum(int(digit)**2 for digit in str(num))\n",
    "        \n",
    "    return num == 1\n",
    "\n",
    "if is_happy_number(number):\n",
    "    print(f\"{number} is a happy number!\")\n",
    "else:\n",
    "    print(f\"{number} is not a happy number.\")\n"
   ]
  },
  {
   "cell_type": "code",
   "execution_count": null,
   "id": "77961b9b-1878-440d-8743-2911ecacf514",
   "metadata": {},
   "outputs": [],
   "source": []
  }
 ],
 "metadata": {
  "kernelspec": {
   "display_name": "Python 3 (ipykernel)",
   "language": "python",
   "name": "python3"
  },
  "language_info": {
   "codemirror_mode": {
    "name": "ipython",
    "version": 3
   },
   "file_extension": ".py",
   "mimetype": "text/x-python",
   "name": "python",
   "nbconvert_exporter": "python",
   "pygments_lexer": "ipython3",
   "version": "3.12.4"
  }
 },
 "nbformat": 4,
 "nbformat_minor": 5
}
